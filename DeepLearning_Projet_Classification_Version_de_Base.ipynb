{
  "nbformat": 4,
  "nbformat_minor": 0,
  "metadata": {
    "colab": {
      "provenance": [],
      "collapsed_sections": [
        "Ft1qyVbxJAxv",
        "HVHUXSJkpkwM",
        "ZqlqYGArpqU4",
        "rWmLSCc1Rz0O",
        "trXQvetiIqxh"
      ],
      "include_colab_link": true
    },
    "kernelspec": {
      "name": "python3",
      "display_name": "Python 3"
    },
    "language_info": {
      "name": "python"
    },
    "accelerator": "GPU",
    "gpuClass": "standard"
  },
  "cells": [
    {
      "cell_type": "markdown",
      "metadata": {
        "id": "view-in-github",
        "colab_type": "text"
      },
      "source": [
        "<a href=\"https://colab.research.google.com/github/Cycyplay/M2_DeepLearning_Classification/blob/main/DeepLearning_Projet_Classification_Version_de_Base.ipynb\" target=\"_parent\"><img src=\"https://colab.research.google.com/assets/colab-badge.svg\" alt=\"Open In Colab\"/></a>"
      ]
    },
    {
      "cell_type": "markdown",
      "source": [
        "# Projet M2 Deep Learning Classification \n",
        "## Version de Base"
      ],
      "metadata": {
        "id": "68ZTEkI7OY2c"
      }
    },
    {
      "cell_type": "markdown",
      "source": [
        "MURATI Vidan - VAN Cyril\n",
        "\n",
        "Classification d'oeuvres par leur courant artistique."
      ],
      "metadata": {
        "id": "ZNcblvTxSNep"
      }
    },
    {
      "cell_type": "markdown",
      "source": [
        "## Catégories"
      ],
      "metadata": {
        "id": "otvJATB1R-Kf"
      }
    },
    {
      "cell_type": "markdown",
      "source": [
        "- Impressionisme\n",
        "- Surréalisme\n",
        "- Cubisme\n",
        "- Baroque\n",
        "- Pointillisme / Divisionisme\n",
        "- Pop Art\n",
        "- Expressionisme\n",
        "- Maniérisme\n",
        "- Néo-classicisme"
      ],
      "metadata": {
        "id": "W4OCfn2USBnZ"
      }
    },
    {
      "cell_type": "markdown",
      "source": [
        "# Code"
      ],
      "metadata": {
        "id": "t2P2zX2_SbjK"
      }
    },
    {
      "cell_type": "markdown",
      "source": [
        "### SETUP : Data Initialisation (array formating)"
      ],
      "metadata": {
        "id": "Ft1qyVbxJAxv"
      }
    },
    {
      "cell_type": "markdown",
      "source": [
        "Liste des actions à effectuer:\n",
        "\n",
        "1. Refaire les échantillons de chaque catégorie\n",
        "2. Composer les tableaux numpy x_train, y_train, x_test, y_test\n",
        "3. Les permuter à l'aide de numpy.random.permutation\n",
        "4. Sauvegarder les 4 tableaux mélangés deux à deux\n",
        "5. Mettre x_train et x_test au bon format ?"
      ],
      "metadata": {
        "id": "ywiXqfx71nRZ"
      }
    },
    {
      "cell_type": "markdown",
      "source": [
        "#### Transform data to float32"
      ],
      "metadata": {
        "id": "HVHUXSJkpkwM"
      }
    },
    {
      "cell_type": "code",
      "source": [
        "x_test = np.load('./drive/MyDrive/DeepLearning_Dataset/x_test.npy')\n",
        "x_train = np.load('./drive/MyDrive/DeepLearning_Dataset/x_train.npy')\n",
        "y_test = np.load('./drive/MyDrive/DeepLearning_Dataset/y_test.npy')\n",
        "y_train = np.load('./drive/MyDrive/DeepLearning_Dataset/y_train.npy')"
      ],
      "metadata": {
        "id": "_Gdg3H9DJF9P"
      },
      "execution_count": null,
      "outputs": []
    },
    {
      "cell_type": "code",
      "source": [
        "print(x_train.shape)\n",
        "print(y_train.shape)\n",
        "\n",
        "print(x_test.shape)\n",
        "print(y_test.shape)"
      ],
      "metadata": {
        "colab": {
          "base_uri": "https://localhost:8080/"
        },
        "id": "kQ01YHgcJKw4",
        "outputId": "2ac2551f-255e-420a-c2b8-73a0a2107684"
      },
      "execution_count": null,
      "outputs": [
        {
          "output_type": "stream",
          "name": "stdout",
          "text": [
            "(6840, 64, 64, 3)\n",
            "(6840,)\n",
            "(1701, 64, 64, 3)\n",
            "(1701,)\n"
          ]
        }
      ]
    },
    {
      "cell_type": "code",
      "source": [
        "x_test = np.load('./drive/MyDrive/DeepLearning_Dataset/x_test.npy')\n",
        "x_test = x_test.astype('float32') / 255.0\n",
        "np.save('./drive/MyDrive/DeepLearning_Dataset/x_test_float32.npy', x_test)"
      ],
      "metadata": {
        "id": "9wcGYaqayL8-"
      },
      "execution_count": null,
      "outputs": []
    },
    {
      "cell_type": "code",
      "source": [
        "x_train = np.load('./drive/MyDrive/DeepLearning_Dataset/x_train.npy')\n",
        "\n",
        "\n",
        "x_train = x_train.astype('float32') / 255.0\n",
        "np.save('./drive/MyDrive/DeepLearning_Dataset/x_train_float32.npy', x_train)"
      ],
      "metadata": {
        "id": "U_N3Vrn4JpCE"
      },
      "execution_count": null,
      "outputs": []
    },
    {
      "cell_type": "markdown",
      "source": [
        "#### Shuffle datasets"
      ],
      "metadata": {
        "id": "ZqlqYGArpqU4"
      }
    },
    {
      "cell_type": "code",
      "source": [
        "x_test = np.load('./drive/MyDrive/DeepLearning_Dataset/x_test_float32.npy')\n",
        "y_test = np.load('./drive/MyDrive/DeepLearning_Dataset/y_test.npy')\n",
        "\n",
        "#mélange des datasets\n",
        "test_permutation = np.random.permutation(len(x_test))\n",
        "\n",
        "x_test = x_test[test_permutation]\n",
        "y_test = y_test[test_permutation]\n",
        "\n",
        "np.save('./drive/MyDrive/DeepLearning_Dataset/x_test_shuffled.npy', x_test)\n",
        "np.save('./drive/MyDrive/DeepLearning_Dataset/y_test_shuffled.npy', y_test)"
      ],
      "metadata": {
        "id": "OFGp2YuZWJgR"
      },
      "execution_count": null,
      "outputs": []
    },
    {
      "cell_type": "code",
      "source": [
        "y_train = np.load('./drive/MyDrive/DeepLearning_Dataset/y_train.npy')\n",
        "\n",
        "train_permutation = np.random.RandomState(seed=42).permutation(len(y_train))\n",
        "\n",
        "y_train = y_train[train_permutation]\n",
        "\n",
        "np.save('./drive/MyDrive/DeepLearning_Dataset/y_train_shuffled.npy', y_train)"
      ],
      "metadata": {
        "id": "pjUcmHSwqngy"
      },
      "execution_count": null,
      "outputs": []
    },
    {
      "cell_type": "code",
      "source": [
        "x_train = np.load('./drive/MyDrive/DeepLearning_Dataset/x_train_float32.npy')\n",
        "\n",
        "train_permutation = np.random.RandomState(seed=42).permutation(len(x_train))\n",
        "\n",
        "x_train = x_train[train_permutation]\n",
        "\n",
        "np.save('./drive/MyDrive/DeepLearning_Dataset/x_train_shuffled.npy', x_train)"
      ],
      "metadata": {
        "id": "Ky_T5_tzs6ku"
      },
      "execution_count": null,
      "outputs": []
    },
    {
      "cell_type": "code",
      "source": [],
      "metadata": {
        "id": "uIvG7wtQEJlg"
      },
      "execution_count": null,
      "outputs": []
    },
    {
      "cell_type": "markdown",
      "source": [
        "## Load"
      ],
      "metadata": {
        "id": "ftKPXUHuESrp"
      }
    },
    {
      "cell_type": "code",
      "source": [
        "import keras\n",
        "import numpy as np\n",
        "\n",
        "from google.colab import drive\n",
        "drive.mount('/content/drive')\n",
        "\n",
        "\n",
        "x_test = np.load('./drive/MyDrive/DeepLearning_Dataset/x_test_shuffled.npy')\n",
        "x_train = np.load('./drive/MyDrive/DeepLearning_Dataset/x_train_shuffled.npy')\n",
        "y_test = np.load('./drive/MyDrive/DeepLearning_Dataset/y_test_shuffled.npy')\n",
        "y_train = np.load('./drive/MyDrive/DeepLearning_Dataset/y_train_shuffled.npy')"
      ],
      "metadata": {
        "id": "F71LkHBZEXAR",
        "colab": {
          "base_uri": "https://localhost:8080/"
        },
        "outputId": "152c1292-3915-416f-983c-80345d14b66a"
      },
      "execution_count": 1,
      "outputs": [
        {
          "output_type": "stream",
          "name": "stdout",
          "text": [
            "Drive already mounted at /content/drive; to attempt to forcibly remount, call drive.mount(\"/content/drive\", force_remount=True).\n"
          ]
        }
      ]
    },
    {
      "cell_type": "markdown",
      "source": [
        "## Travail sans Data Augmentation"
      ],
      "metadata": {
        "id": "YFyX5RllSt_Y"
      }
    },
    {
      "cell_type": "markdown",
      "source": [
        "### Modèle 1"
      ],
      "metadata": {
        "id": "rWmLSCc1Rz0O"
      }
    },
    {
      "cell_type": "code",
      "source": [
        "model_1 = keras.Sequential()\n",
        "model_1.add(keras.layers.Conv2D(32, 3, activation='relu', input_shape=(64, 64, 3), padding='same'))\n",
        "model_1.add(keras.layers.Conv2D(64, 3, activation='relu', padding='same'))\n",
        "model_1.add(keras.layers.Flatten())\n",
        "model_1.add(keras.layers.Dense(128, activation='relu'))\n",
        "model_1.add(keras.layers.Dense(9, activation='softmax'))\n",
        "model_1.summary()\n",
        "\n",
        "model_1.compile(optimizer='adam', loss='SparseCategoricalCrossentropy', metrics=['accuracy'])\n",
        "history_1 = model_1.fit(x_train, y_train, verbose=1, batch_size=128, epochs=100, validation_data=(x_test, y_test))"
      ],
      "metadata": {
        "id": "EHocco8XRAPv"
      },
      "execution_count": null,
      "outputs": []
    },
    {
      "cell_type": "code",
      "source": [
        "test_loss, test_accuracy = model_1.evaluate(x_test, y_test)\n",
        "print(\"Test accuracy: {}\".format(test_accuracy))\n",
        "print(\"Test loss: {}\".format(test_loss))"
      ],
      "metadata": {
        "colab": {
          "base_uri": "https://localhost:8080/"
        },
        "id": "qfQ3yXIYFSH5",
        "outputId": "8910864a-3fb5-4f22-cc6a-a8ee493f4380"
      },
      "execution_count": null,
      "outputs": [
        {
          "output_type": "stream",
          "name": "stdout",
          "text": [
            "54/54 [==============================] - 1s 9ms/step - loss: 5.8448 - accuracy: 0.3568\n",
            "Test accuracy: 0.35684892535209656\n",
            "Test loss: 5.844811916351318\n"
          ]
        }
      ]
    },
    {
      "cell_type": "code",
      "source": [
        "import matplotlib.pyplot as plt\n",
        "plt.plot(history_1.history[\"loss\"], \"b\")"
      ],
      "metadata": {
        "colab": {
          "base_uri": "https://localhost:8080/",
          "height": 282
        },
        "id": "87doWZGTFWvR",
        "outputId": "d3f834df-dc87-4449-f04a-554fa25b565f"
      },
      "execution_count": null,
      "outputs": [
        {
          "output_type": "execute_result",
          "data": {
            "text/plain": [
              "[<matplotlib.lines.Line2D at 0x7f3112574940>]"
            ]
          },
          "metadata": {},
          "execution_count": 21
        },
        {
          "output_type": "display_data",
          "data": {
            "text/plain": [
              "<Figure size 432x288 with 1 Axes>"
            ],
            "image/png": "[encoded data removed]"
          },
          "metadata": {
            "needs_background": "light"
          }
        }
      ]
    },
    {
      "cell_type": "markdown",
      "source": [
        "### Modèle 2"
      ],
      "metadata": {
        "id": "HuPF0FlFHM8Z"
      }
    },
    {
      "cell_type": "code",
      "source": [
        "model_2 = keras.Sequential()\n",
        "model_2.add(keras.layers.Conv2D(64, 3, activation='relu', input_shape=(64, 64, 3), padding='same'))\n",
        "model_2.add(keras.layers.Flatten())\n",
        "model_2.add(keras.layers.Dense(128, activation='relu'))\n",
        "model_2.add(keras.layers.Dense(9, activation='softmax'))\n",
        "model_2.summary()\n",
        "\n",
        "model_2.compile(optimizer='adam', loss='SparseCategoricalCrossentropy', metrics=['accuracy'])\n",
        "history_2 = model_2.fit(x_train, y_train, verbose=1, batch_size=128, epochs=100, validation_data=(x_test, y_test))"
      ],
      "metadata": {
        "id": "FPKdGBbTHM8e"
      },
      "execution_count": null,
      "outputs": []
    },
    {
      "cell_type": "code",
      "source": [
        "test_loss, test_accuracy = model_2.evaluate(x_test, y_test)\n",
        "print(\"Test accuracy: {}\".format(test_accuracy))\n",
        "print(\"Test loss: {}\".format(test_loss))"
      ],
      "metadata": {
        "colab": {
          "base_uri": "https://localhost:8080/"
        },
        "outputId": "95194e82-f1b0-4a04-f688-16172a6c9556",
        "id": "GarrRFMdHM8f"
      },
      "execution_count": null,
      "outputs": [
        {
          "output_type": "stream",
          "name": "stdout",
          "text": [
            "54/54 [==============================] - 0s 5ms/step - loss: 5.5380 - accuracy: 0.3780\n",
            "Test accuracy: 0.37801292538642883\n",
            "Test loss: 5.537961959838867\n"
          ]
        }
      ]
    },
    {
      "cell_type": "code",
      "source": [
        "import matplotlib.pyplot as plt\n",
        "plt.plot(history_2.history[\"loss\"], \"b\")"
      ],
      "metadata": {
        "colab": {
          "base_uri": "https://localhost:8080/",
          "height": 282
        },
        "outputId": "fae78fe3-7016-4a07-bf93-7e13c244ca78",
        "id": "XJSwz2M-HM8f"
      },
      "execution_count": null,
      "outputs": [
        {
          "output_type": "execute_result",
          "data": {
            "text/plain": [
              "[<matplotlib.lines.Line2D at 0x7f3112230100>]"
            ]
          },
          "metadata": {},
          "execution_count": 25
        },
        {
          "output_type": "display_data",
          "data": {
            "text/plain": [
              "<Figure size 432x288 with 1 Axes>"
            ],
            "image/png": "[encoded data removed]"
          },
          "metadata": {
            "needs_background": "light"
          }
        }
      ]
    },
    {
      "cell_type": "markdown",
      "source": [
        "### Modèle 3"
      ],
      "metadata": {
        "id": "trXQvetiIqxh"
      }
    },
    {
      "cell_type": "code",
      "source": [
        "model_3 = keras.Sequential()\n",
        "model_3.add(keras.layers.Conv2D(32, 3, activation='relu', input_shape=(64, 64, 3), padding='same'))\n",
        "model_3.add(keras.layers.Flatten())\n",
        "model_3.add(keras.layers.Dense(64, activation='relu'))\n",
        "model_3.add(keras.layers.Dense(9, activation='softmax'))\n",
        "model_3.summary()\n",
        "\n",
        "model_3.compile(optimizer='adam', loss='SparseCategoricalCrossentropy', metrics=['accuracy'])\n",
        "history_3 = model_3.fit(x_train, y_train, verbose=1, batch_size=128, epochs=60, validation_data=(x_test, y_test))"
      ],
      "metadata": {
        "id": "LqmsyVulIqxi"
      },
      "execution_count": null,
      "outputs": []
    },
    {
      "cell_type": "code",
      "source": [
        "test_loss, test_accuracy = model_3.evaluate(x_test, y_test)\n",
        "print(\"Test accuracy: {}\".format(test_accuracy))\n",
        "print(\"Test loss: {}\".format(test_loss))"
      ],
      "metadata": {
        "colab": {
          "base_uri": "https://localhost:8080/"
        },
        "outputId": "d33ad3fc-7ac8-436b-8ed0-04419374e05a",
        "id": "tlItHcBtIqxi"
      },
      "execution_count": null,
      "outputs": [
        {
          "output_type": "stream",
          "name": "stdout",
          "text": [
            "54/54 [==============================] - 0s 5ms/step - loss: 4.2987 - accuracy: 0.3445\n",
            "Test accuracy: 0.3445032238960266\n",
            "Test loss: 4.298705101013184\n"
          ]
        }
      ]
    },
    {
      "cell_type": "code",
      "source": [
        "import matplotlib.pyplot as plt\n",
        "plt.plot(history_3.history[\"loss\"], \"b\")"
      ],
      "metadata": {
        "colab": {
          "base_uri": "https://localhost:8080/",
          "height": 286
        },
        "outputId": "2f5a65d1-4e2f-41fe-ba67-833cc25ec6c9",
        "id": "M10vSEG3Iqxi"
      },
      "execution_count": null,
      "outputs": [
        {
          "output_type": "execute_result",
          "data": {
            "text/plain": [
              "[<matplotlib.lines.Line2D at 0x7f31120c81c0>]"
            ]
          },
          "metadata": {},
          "execution_count": 28
        },
        {
          "output_type": "display_data",
          "data": {
            "text/plain": [
              "<Figure size 432x288 with 1 Axes>"
            ],
            "image/png": "[encoded data removed]"
          },
          "metadata": {
            "needs_background": "light"
          }
        }
      ]
    },
    {
      "cell_type": "markdown",
      "source": [
        "## Travail avec Data Augmentation"
      ],
      "metadata": {
        "id": "zOnlD4ePRSOh"
      }
    },
    {
      "cell_type": "code",
      "source": [
        "#Data Augmentation\n",
        "\n",
        "data_augmentation = keras.Sequential(\n",
        "    [\n",
        "      keras.layers.RandomFlip(\"horizontal\"),\n",
        "      keras.layers.RandomRotation(0.1),\n",
        "      keras.layers.RandomZoom(0.2)\n",
        "    ]\n",
        ")\n",
        "\n",
        "inputs = keras.Input(shape=(64, 64, 3))"
      ],
      "metadata": {
        "id": "Zqq-o6EbSdVx"
      },
      "execution_count": 2,
      "outputs": []
    },
    {
      "cell_type": "markdown",
      "source": [
        "### Modèle 4"
      ],
      "metadata": {
        "id": "7AMrbnhpwxZW"
      }
    },
    {
      "cell_type": "code",
      "source": [
        "x = data_augmentation(inputs)\n",
        "x = keras.layers.Rescaling(1./255)(x)\n",
        "x = keras.layers.Conv2D(filters=32, kernel_size=3, activation=\"relu\")(x)\n",
        "x = keras.layers.MaxPooling2D(pool_size=2)(x)\n",
        "x = keras.layers.Conv2D(filters=64, kernel_size=3, activation=\"relu\")(x)\n",
        "x = keras.layers.MaxPooling2D(pool_size=2)(x)\n",
        "x = keras.layers.Flatten()(x)\n",
        "x = keras.layers.Dropout(0.5)(x)\n",
        "outputs = keras.layers.Dense(9, activation=\"sigmoid\")(x)\n",
        "model_4 = keras.Model(inputs=inputs, outputs=outputs)\n",
        "\n",
        "model_4.summary()\n",
        "\n",
        "model_4.compile(optimizer='rmsprop', loss='SparseCategoricalCrossentropy', metrics=['accuracy'])\n",
        "\n",
        "callbacks = [\n",
        "  keras.callbacks.ModelCheckpoint(\n",
        "  filepath=\"convnet_from_scratch_with_augmentation.keras\",\n",
        "  save_best_only=True,\n",
        "  monitor=\"val_loss\")\n",
        "]\n",
        "\n",
        "history_4 = model_4.fit(x_train, y_train, epochs=100, validation_data=(x_test, y_test))\n",
        "\n",
        "test_loss, test_accuracy = model_4.evaluate(x_test, y_test)\n",
        "print(\"Test accuracy: {}\".format(test_accuracy))\n",
        "print(\"Test loss: {}\".format(test_loss))\n",
        "\n",
        "import matplotlib.pyplot as plt\n",
        "plt.plot(history_4.history[\"loss\"], \"b\")"
      ],
      "metadata": {
        "colab": {
          "base_uri": "https://localhost:8080/",
          "height": 1000
        },
        "id": "p1ZSieNzRjXy",
        "outputId": "5897d026-5e72-4dcc-bf78-945d54e3c706"
      },
      "execution_count": 5,
      "outputs": [
        {
          "output_type": "stream",
          "name": "stderr",
          "text": [
            "WARNING:tensorflow:Using a while_loop for converting RngReadAndSkip cause there is no registered converter for this op.\n",
            "WARNING:tensorflow:Using a while_loop for converting Bitcast cause there is no registered converter for this op.\n",
            "WARNING:tensorflow:Using a while_loop for converting Bitcast cause there is no registered converter for this op.\n",
            "WARNING:tensorflow:Using a while_loop for converting StatelessRandomUniformV2 cause there is no registered converter for this op.\n",
            "WARNING:tensorflow:Using a while_loop for converting ImageProjectiveTransformV3 cause there is no registered converter for this op.\n",
            "WARNING:tensorflow:Using a while_loop for converting RngReadAndSkip cause there is no registered converter for this op.\n",
            "WARNING:tensorflow:Using a while_loop for converting Bitcast cause there is no registered converter for this op.\n",
            "WARNING:tensorflow:Using a while_loop for converting Bitcast cause there is no registered converter for this op.\n",
            "WARNING:tensorflow:Using a while_loop for converting StatelessRandomUniformV2 cause there is no registered converter for this op.\n",
            "WARNING:tensorflow:Using a while_loop for converting ImageProjectiveTransformV3 cause there is no registered converter for this op.\n"
          ]
        },
        {
          "output_type": "stream",
          "name": "stdout",
          "text": [
            "Model: \"model_1\"\n",
            "_________________________________________________________________\n",
            " Layer (type)                Output Shape              Param #   \n",
            "=================================================================\n",
            " input_1 (InputLayer)        [(None, 64, 64, 3)]       0         \n",
            "                                                                 \n",
            " sequential (Sequential)     (None, 64, 64, 3)         0         \n",
            "                                                                 \n",
            " rescaling_1 (Rescaling)     (None, 64, 64, 3)         0         \n",
            "                                                                 \n",
            " conv2d_2 (Conv2D)           (None, 62, 62, 32)        896       \n",
            "                                                                 \n",
            " max_pooling2d_2 (MaxPooling  (None, 31, 31, 32)       0         \n",
            " 2D)                                                             \n",
            "                                                                 \n",
            " conv2d_3 (Conv2D)           (None, 29, 29, 64)        18496     \n",
            "                                                                 \n",
            " max_pooling2d_3 (MaxPooling  (None, 14, 14, 64)       0         \n",
            " 2D)                                                             \n",
            "                                                                 \n",
            " flatten_1 (Flatten)         (None, 12544)             0         \n",
            "                                                                 \n",
            " dropout_1 (Dropout)         (None, 12544)             0         \n",
            "                                                                 \n",
            " dense_1 (Dense)             (None, 9)                 112905    \n",
            "                                                                 \n",
            "=================================================================\n",
            "Total params: 132,297\n",
            "Trainable params: 132,297\n",
            "Non-trainable params: 0\n",
            "_________________________________________________________________\n",
            "Epoch 1/100\n"
          ]
        },
        {
          "output_type": "stream",
          "name": "stderr",
          "text": [
            "WARNING:tensorflow:Using a while_loop for converting RngReadAndSkip cause there is no registered converter for this op.\n",
            "WARNING:tensorflow:Using a while_loop for converting Bitcast cause there is no registered converter for this op.\n",
            "WARNING:tensorflow:Using a while_loop for converting Bitcast cause there is no registered converter for this op.\n",
            "WARNING:tensorflow:Using a while_loop for converting StatelessRandomUniformV2 cause there is no registered converter for this op.\n",
            "WARNING:tensorflow:Using a while_loop for converting ImageProjectiveTransformV3 cause there is no registered converter for this op.\n",
            "WARNING:tensorflow:Using a while_loop for converting RngReadAndSkip cause there is no registered converter for this op.\n",
            "WARNING:tensorflow:Using a while_loop for converting Bitcast cause there is no registered converter for this op.\n",
            "WARNING:tensorflow:Using a while_loop for converting Bitcast cause there is no registered converter for this op.\n",
            "WARNING:tensorflow:Using a while_loop for converting StatelessRandomUniformV2 cause there is no registered converter for this op.\n",
            "WARNING:tensorflow:Using a while_loop for converting ImageProjectiveTransformV3 cause there is no registered converter for this op.\n",
            "WARNING:tensorflow:Using a while_loop for converting RngReadAndSkip cause there is no registered converter for this op.\n",
            "WARNING:tensorflow:Using a while_loop for converting Bitcast cause there is no registered converter for this op.\n",
            "WARNING:tensorflow:Using a while_loop for converting Bitcast cause there is no registered converter for this op.\n",
            "WARNING:tensorflow:Using a while_loop for converting StatelessRandomUniformV2 cause there is no registered converter for this op.\n",
            "WARNING:tensorflow:Using a while_loop for converting ImageProjectiveTransformV3 cause there is no registered converter for this op.\n",
            "WARNING:tensorflow:Using a while_loop for converting RngReadAndSkip cause there is no registered converter for this op.\n",
            "WARNING:tensorflow:Using a while_loop for converting Bitcast cause there is no registered converter for this op.\n",
            "WARNING:tensorflow:Using a while_loop for converting Bitcast cause there is no registered converter for this op.\n",
            "WARNING:tensorflow:Using a while_loop for converting StatelessRandomUniformV2 cause there is no registered converter for this op.\n",
            "WARNING:tensorflow:Using a while_loop for converting ImageProjectiveTransformV3 cause there is no registered converter for this op.\n"
          ]
        },
        {
          "output_type": "stream",
          "name": "stdout",
          "text": [
            "214/214 [==============================] - 46s 159ms/step - loss: 2.1977 - accuracy: 0.1117 - val_loss: 2.1961 - val_accuracy: 0.1505\n",
            "Epoch 2/100\n",
            "214/214 [==============================] - 37s 174ms/step - loss: 2.1857 - accuracy: 0.1414 - val_loss: 2.1558 - val_accuracy: 0.1993\n",
            "Epoch 3/100\n",
            "214/214 [==============================] - 27s 128ms/step - loss: 2.1314 - accuracy: 0.1999 - val_loss: 2.1136 - val_accuracy: 0.1958\n",
            "Epoch 4/100\n",
            "214/214 [==============================] - 28s 132ms/step - loss: 2.0980 - accuracy: 0.2228 - val_loss: 2.0870 - val_accuracy: 0.2252\n",
            "Epoch 5/100\n",
            "214/214 [==============================] - 28s 131ms/step - loss: 2.0690 - accuracy: 0.2371 - val_loss: 2.0625 - val_accuracy: 0.2375\n",
            "Epoch 6/100\n",
            "214/214 [==============================] - 28s 129ms/step - loss: 2.0358 - accuracy: 0.2501 - val_loss: 2.0397 - val_accuracy: 0.2569\n",
            "Epoch 7/100\n",
            "214/214 [==============================] - 27s 126ms/step - loss: 2.0139 - accuracy: 0.2573 - val_loss: 2.0530 - val_accuracy: 0.2499\n",
            "Epoch 8/100\n",
            "214/214 [==============================] - 27s 126ms/step - loss: 2.0019 - accuracy: 0.2640 - val_loss: 2.0055 - val_accuracy: 0.2540\n",
            "Epoch 9/100\n",
            "214/214 [==============================] - 27s 126ms/step - loss: 1.9923 - accuracy: 0.2640 - val_loss: 2.0280 - val_accuracy: 0.2634\n",
            "Epoch 10/100\n",
            "214/214 [==============================] - 27s 128ms/step - loss: 1.9872 - accuracy: 0.2654 - val_loss: 2.0103 - val_accuracy: 0.2640\n",
            "Epoch 11/100\n",
            "214/214 [==============================] - 27s 127ms/step - loss: 1.9790 - accuracy: 0.2719 - val_loss: 2.0064 - val_accuracy: 0.2681\n",
            "Epoch 12/100\n",
            "214/214 [==============================] - 27s 127ms/step - loss: 1.9780 - accuracy: 0.2724 - val_loss: 1.9946 - val_accuracy: 0.2751\n",
            "Epoch 13/100\n",
            "214/214 [==============================] - 27s 126ms/step - loss: 1.9726 - accuracy: 0.2738 - val_loss: 1.9834 - val_accuracy: 0.2622\n",
            "Epoch 14/100\n",
            "214/214 [==============================] - 27s 126ms/step - loss: 1.9672 - accuracy: 0.2766 - val_loss: 1.9890 - val_accuracy: 0.2663\n",
            "Epoch 15/100\n",
            "214/214 [==============================] - 27s 128ms/step - loss: 1.9726 - accuracy: 0.2749 - val_loss: 1.9773 - val_accuracy: 0.2722\n",
            "Epoch 16/100\n",
            "214/214 [==============================] - 27s 128ms/step - loss: 1.9652 - accuracy: 0.2760 - val_loss: 1.9867 - val_accuracy: 0.2622\n",
            "Epoch 17/100\n",
            "214/214 [==============================] - 27s 128ms/step - loss: 1.9656 - accuracy: 0.2719 - val_loss: 1.9875 - val_accuracy: 0.2722\n",
            "Epoch 18/100\n",
            "214/214 [==============================] - 27s 127ms/step - loss: 1.9628 - accuracy: 0.2825 - val_loss: 1.9818 - val_accuracy: 0.2646\n",
            "Epoch 19/100\n",
            "214/214 [==============================] - 27s 127ms/step - loss: 1.9520 - accuracy: 0.2794 - val_loss: 1.9845 - val_accuracy: 0.2669\n",
            "Epoch 20/100\n",
            "214/214 [==============================] - 27s 127ms/step - loss: 1.9584 - accuracy: 0.2769 - val_loss: 1.9725 - val_accuracy: 0.2716\n",
            "Epoch 21/100\n",
            "214/214 [==============================] - 27s 128ms/step - loss: 1.9556 - accuracy: 0.2811 - val_loss: 1.9733 - val_accuracy: 0.2663\n",
            "Epoch 22/100\n",
            "214/214 [==============================] - 27s 127ms/step - loss: 1.9432 - accuracy: 0.2822 - val_loss: 1.9808 - val_accuracy: 0.2751\n",
            "Epoch 23/100\n",
            "214/214 [==============================] - 27s 126ms/step - loss: 1.9387 - accuracy: 0.2868 - val_loss: 1.9745 - val_accuracy: 0.2646\n",
            "Epoch 24/100\n",
            "214/214 [==============================] - 27s 127ms/step - loss: 1.9379 - accuracy: 0.2925 - val_loss: 1.9569 - val_accuracy: 0.2810\n",
            "Epoch 25/100\n",
            "214/214 [==============================] - 27s 127ms/step - loss: 1.9364 - accuracy: 0.2901 - val_loss: 1.9468 - val_accuracy: 0.2875\n",
            "Epoch 26/100\n",
            "214/214 [==============================] - 28s 130ms/step - loss: 1.9285 - accuracy: 0.2927 - val_loss: 1.9524 - val_accuracy: 0.2804\n",
            "Epoch 27/100\n",
            "214/214 [==============================] - 27s 128ms/step - loss: 1.9284 - accuracy: 0.2975 - val_loss: 1.9478 - val_accuracy: 0.2887\n",
            "Epoch 28/100\n",
            "214/214 [==============================] - 27s 128ms/step - loss: 1.9238 - accuracy: 0.3013 - val_loss: 1.9699 - val_accuracy: 0.2751\n",
            "Epoch 29/100\n",
            "214/214 [==============================] - 28s 130ms/step - loss: 1.9166 - accuracy: 0.2961 - val_loss: 1.9539 - val_accuracy: 0.2834\n",
            "Epoch 30/100\n",
            "214/214 [==============================] - 27s 128ms/step - loss: 1.9201 - accuracy: 0.3016 - val_loss: 1.9334 - val_accuracy: 0.2898\n",
            "Epoch 31/100\n",
            "214/214 [==============================] - 28s 130ms/step - loss: 1.9227 - accuracy: 0.2997 - val_loss: 1.9354 - val_accuracy: 0.2910\n",
            "Epoch 32/100\n",
            "214/214 [==============================] - 28s 131ms/step - loss: 1.9165 - accuracy: 0.3000 - val_loss: 1.9316 - val_accuracy: 0.2957\n",
            "Epoch 33/100\n",
            "214/214 [==============================] - 28s 130ms/step - loss: 1.9139 - accuracy: 0.2966 - val_loss: 1.9394 - val_accuracy: 0.2887\n",
            "Epoch 34/100\n",
            "214/214 [==============================] - 28s 129ms/step - loss: 1.9020 - accuracy: 0.3034 - val_loss: 1.9408 - val_accuracy: 0.2887\n",
            "Epoch 35/100\n",
            "214/214 [==============================] - 28s 129ms/step - loss: 1.9066 - accuracy: 0.3092 - val_loss: 1.9326 - val_accuracy: 0.2998\n",
            "Epoch 36/100\n",
            "214/214 [==============================] - 27s 128ms/step - loss: 1.9099 - accuracy: 0.3037 - val_loss: 1.9334 - val_accuracy: 0.2898\n",
            "Epoch 37/100\n",
            "214/214 [==============================] - 28s 129ms/step - loss: 1.9106 - accuracy: 0.3067 - val_loss: 1.9400 - val_accuracy: 0.2957\n",
            "Epoch 38/100\n",
            "214/214 [==============================] - 28s 131ms/step - loss: 1.8979 - accuracy: 0.3095 - val_loss: 1.9463 - val_accuracy: 0.2810\n",
            "Epoch 39/100\n",
            "214/214 [==============================] - 28s 130ms/step - loss: 1.9022 - accuracy: 0.3083 - val_loss: 1.9333 - val_accuracy: 0.2951\n",
            "Epoch 40/100\n",
            "214/214 [==============================] - 28s 130ms/step - loss: 1.8949 - accuracy: 0.3080 - val_loss: 1.9087 - val_accuracy: 0.3069\n",
            "Epoch 41/100\n",
            "214/214 [==============================] - 28s 129ms/step - loss: 1.8992 - accuracy: 0.3111 - val_loss: 1.9170 - val_accuracy: 0.2951\n",
            "Epoch 42/100\n",
            "214/214 [==============================] - 28s 130ms/step - loss: 1.9021 - accuracy: 0.3028 - val_loss: 1.9087 - val_accuracy: 0.3075\n",
            "Epoch 43/100\n",
            "214/214 [==============================] - 27s 128ms/step - loss: 1.8916 - accuracy: 0.3108 - val_loss: 1.9028 - val_accuracy: 0.3028\n",
            "Epoch 44/100\n",
            "214/214 [==============================] - 28s 129ms/step - loss: 1.8939 - accuracy: 0.3154 - val_loss: 1.9075 - val_accuracy: 0.2986\n",
            "Epoch 45/100\n",
            "214/214 [==============================] - 27s 128ms/step - loss: 1.8929 - accuracy: 0.3132 - val_loss: 1.9096 - val_accuracy: 0.3045\n",
            "Epoch 46/100\n",
            "214/214 [==============================] - 27s 128ms/step - loss: 1.8882 - accuracy: 0.3164 - val_loss: 1.9315 - val_accuracy: 0.2910\n",
            "Epoch 47/100\n",
            "214/214 [==============================] - 28s 129ms/step - loss: 1.8925 - accuracy: 0.3162 - val_loss: 1.9016 - val_accuracy: 0.3034\n",
            "Epoch 48/100\n",
            "214/214 [==============================] - 28s 129ms/step - loss: 1.8887 - accuracy: 0.3155 - val_loss: 1.8974 - val_accuracy: 0.3010\n",
            "Epoch 49/100\n",
            "214/214 [==============================] - 28s 129ms/step - loss: 1.8871 - accuracy: 0.3130 - val_loss: 1.9021 - val_accuracy: 0.3086\n",
            "Epoch 50/100\n",
            "214/214 [==============================] - 28s 129ms/step - loss: 1.8856 - accuracy: 0.3151 - val_loss: 1.8989 - val_accuracy: 0.3075\n",
            "Epoch 51/100\n",
            "214/214 [==============================] - 28s 129ms/step - loss: 1.8848 - accuracy: 0.3123 - val_loss: 1.8940 - val_accuracy: 0.3239\n",
            "Epoch 52/100\n",
            "214/214 [==============================] - 28s 129ms/step - loss: 1.8853 - accuracy: 0.3140 - val_loss: 1.9072 - val_accuracy: 0.3133\n",
            "Epoch 53/100\n",
            "214/214 [==============================] - 28s 130ms/step - loss: 1.8849 - accuracy: 0.3189 - val_loss: 1.8901 - val_accuracy: 0.3169\n",
            "Epoch 54/100\n",
            "214/214 [==============================] - 28s 131ms/step - loss: 1.8789 - accuracy: 0.3168 - val_loss: 1.8929 - val_accuracy: 0.3092\n",
            "Epoch 55/100\n",
            "214/214 [==============================] - 28s 132ms/step - loss: 1.8867 - accuracy: 0.3189 - val_loss: 1.9001 - val_accuracy: 0.3057\n",
            "Epoch 56/100\n",
            "214/214 [==============================] - 28s 129ms/step - loss: 1.8797 - accuracy: 0.3168 - val_loss: 1.9209 - val_accuracy: 0.2992\n",
            "Epoch 57/100\n",
            "214/214 [==============================] - 28s 129ms/step - loss: 1.8735 - accuracy: 0.3208 - val_loss: 1.8893 - val_accuracy: 0.3139\n",
            "Epoch 58/100\n",
            "214/214 [==============================] - 28s 129ms/step - loss: 1.8731 - accuracy: 0.3219 - val_loss: 1.8933 - val_accuracy: 0.3116\n",
            "Epoch 59/100\n",
            "214/214 [==============================] - 28s 128ms/step - loss: 1.8781 - accuracy: 0.3133 - val_loss: 1.8823 - val_accuracy: 0.3157\n",
            "Epoch 60/100\n",
            "214/214 [==============================] - 27s 127ms/step - loss: 1.8720 - accuracy: 0.3154 - val_loss: 1.8941 - val_accuracy: 0.3210\n",
            "Epoch 61/100\n",
            "214/214 [==============================] - 28s 129ms/step - loss: 1.8665 - accuracy: 0.3190 - val_loss: 1.8976 - val_accuracy: 0.3169\n",
            "Epoch 62/100\n",
            "214/214 [==============================] - 27s 128ms/step - loss: 1.8683 - accuracy: 0.3284 - val_loss: 1.8812 - val_accuracy: 0.3133\n",
            "Epoch 63/100\n",
            "214/214 [==============================] - 28s 131ms/step - loss: 1.8642 - accuracy: 0.3275 - val_loss: 1.8794 - val_accuracy: 0.3210\n",
            "Epoch 64/100\n",
            "214/214 [==============================] - 28s 131ms/step - loss: 1.8714 - accuracy: 0.3282 - val_loss: 1.8720 - val_accuracy: 0.3204\n",
            "Epoch 65/100\n",
            "214/214 [==============================] - 28s 129ms/step - loss: 1.8755 - accuracy: 0.3186 - val_loss: 1.8772 - val_accuracy: 0.3263\n",
            "Epoch 66/100\n",
            "214/214 [==============================] - 28s 129ms/step - loss: 1.8663 - accuracy: 0.3265 - val_loss: 1.8734 - val_accuracy: 0.3239\n",
            "Epoch 67/100\n",
            "214/214 [==============================] - 28s 131ms/step - loss: 1.8687 - accuracy: 0.3224 - val_loss: 1.8681 - val_accuracy: 0.3245\n",
            "Epoch 68/100\n",
            "214/214 [==============================] - 28s 129ms/step - loss: 1.8711 - accuracy: 0.3200 - val_loss: 1.8968 - val_accuracy: 0.3128\n",
            "Epoch 69/100\n",
            "214/214 [==============================] - 27s 128ms/step - loss: 1.8679 - accuracy: 0.3206 - val_loss: 1.8921 - val_accuracy: 0.3016\n",
            "Epoch 70/100\n",
            "214/214 [==============================] - 27s 129ms/step - loss: 1.8586 - accuracy: 0.3275 - val_loss: 1.8673 - val_accuracy: 0.3286\n",
            "Epoch 71/100\n",
            "214/214 [==============================] - 28s 129ms/step - loss: 1.8711 - accuracy: 0.3281 - val_loss: 1.8671 - val_accuracy: 0.3298\n",
            "Epoch 72/100\n",
            "214/214 [==============================] - 28s 130ms/step - loss: 1.8612 - accuracy: 0.3294 - val_loss: 1.8914 - val_accuracy: 0.3186\n",
            "Epoch 73/100\n",
            "214/214 [==============================] - 32s 150ms/step - loss: 1.8631 - accuracy: 0.3304 - val_loss: 1.8659 - val_accuracy: 0.3298\n",
            "Epoch 74/100\n",
            "214/214 [==============================] - 27s 128ms/step - loss: 1.8596 - accuracy: 0.3265 - val_loss: 1.8774 - val_accuracy: 0.3157\n",
            "Epoch 75/100\n",
            "214/214 [==============================] - 28s 129ms/step - loss: 1.8554 - accuracy: 0.3306 - val_loss: 1.8663 - val_accuracy: 0.3257\n",
            "Epoch 76/100\n",
            "214/214 [==============================] - 28s 130ms/step - loss: 1.8622 - accuracy: 0.3224 - val_loss: 1.8905 - val_accuracy: 0.3245\n",
            "Epoch 77/100\n",
            "214/214 [==============================] - 27s 128ms/step - loss: 1.8590 - accuracy: 0.3307 - val_loss: 1.8803 - val_accuracy: 0.3210\n",
            "Epoch 78/100\n",
            "214/214 [==============================] - 28s 129ms/step - loss: 1.8539 - accuracy: 0.3322 - val_loss: 1.8706 - val_accuracy: 0.3263\n",
            "Epoch 79/100\n",
            "214/214 [==============================] - 28s 130ms/step - loss: 1.8615 - accuracy: 0.3304 - val_loss: 1.8541 - val_accuracy: 0.3269\n",
            "Epoch 80/100\n",
            "214/214 [==============================] - 27s 127ms/step - loss: 1.8525 - accuracy: 0.3338 - val_loss: 1.8898 - val_accuracy: 0.3122\n",
            "Epoch 81/100\n",
            "214/214 [==============================] - 28s 130ms/step - loss: 1.8506 - accuracy: 0.3306 - val_loss: 1.8626 - val_accuracy: 0.3304\n",
            "Epoch 82/100\n",
            "214/214 [==============================] - 27s 129ms/step - loss: 1.8555 - accuracy: 0.3306 - val_loss: 1.8508 - val_accuracy: 0.3333\n",
            "Epoch 83/100\n",
            "214/214 [==============================] - 28s 129ms/step - loss: 1.8502 - accuracy: 0.3278 - val_loss: 1.8733 - val_accuracy: 0.3239\n",
            "Epoch 84/100\n",
            "214/214 [==============================] - 27s 128ms/step - loss: 1.8511 - accuracy: 0.3385 - val_loss: 1.8469 - val_accuracy: 0.3486\n",
            "Epoch 85/100\n",
            "214/214 [==============================] - 27s 128ms/step - loss: 1.8458 - accuracy: 0.3311 - val_loss: 1.8665 - val_accuracy: 0.3233\n",
            "Epoch 86/100\n",
            "214/214 [==============================] - 27s 128ms/step - loss: 1.8479 - accuracy: 0.3351 - val_loss: 1.8461 - val_accuracy: 0.3357\n",
            "Epoch 87/100\n",
            "214/214 [==============================] - 28s 129ms/step - loss: 1.8412 - accuracy: 0.3360 - val_loss: 1.8485 - val_accuracy: 0.3463\n",
            "Epoch 88/100\n",
            "214/214 [==============================] - 28s 129ms/step - loss: 1.8438 - accuracy: 0.3329 - val_loss: 1.8422 - val_accuracy: 0.3339\n",
            "Epoch 89/100\n",
            "214/214 [==============================] - 28s 130ms/step - loss: 1.8422 - accuracy: 0.3360 - val_loss: 1.8446 - val_accuracy: 0.3445\n",
            "Epoch 90/100\n",
            "214/214 [==============================] - 27s 128ms/step - loss: 1.8515 - accuracy: 0.3294 - val_loss: 1.8645 - val_accuracy: 0.3333\n",
            "Epoch 91/100\n",
            "214/214 [==============================] - 27s 128ms/step - loss: 1.8320 - accuracy: 0.3387 - val_loss: 1.8691 - val_accuracy: 0.3333\n",
            "Epoch 92/100\n",
            "214/214 [==============================] - 27s 126ms/step - loss: 1.8371 - accuracy: 0.3411 - val_loss: 1.8515 - val_accuracy: 0.3339\n",
            "Epoch 93/100\n",
            "214/214 [==============================] - 27s 126ms/step - loss: 1.8286 - accuracy: 0.3401 - val_loss: 1.8710 - val_accuracy: 0.3298\n",
            "Epoch 94/100\n",
            "214/214 [==============================] - 27s 127ms/step - loss: 1.8321 - accuracy: 0.3411 - val_loss: 1.8594 - val_accuracy: 0.3398\n",
            "Epoch 95/100\n",
            "214/214 [==============================] - 27s 126ms/step - loss: 1.8212 - accuracy: 0.3518 - val_loss: 1.8659 - val_accuracy: 0.3316\n",
            "Epoch 96/100\n",
            "214/214 [==============================] - 27s 126ms/step - loss: 1.8325 - accuracy: 0.3461 - val_loss: 1.8360 - val_accuracy: 0.3363\n",
            "Epoch 97/100\n",
            "214/214 [==============================] - 27s 127ms/step - loss: 1.8290 - accuracy: 0.3478 - val_loss: 1.8300 - val_accuracy: 0.3516\n",
            "Epoch 98/100\n",
            "214/214 [==============================] - 27s 126ms/step - loss: 1.8210 - accuracy: 0.3444 - val_loss: 1.8276 - val_accuracy: 0.3463\n",
            "Epoch 99/100\n",
            "214/214 [==============================] - 27s 128ms/step - loss: 1.8151 - accuracy: 0.3493 - val_loss: 1.8523 - val_accuracy: 0.3304\n",
            "Epoch 100/100\n",
            "214/214 [==============================] - 27s 128ms/step - loss: 1.8100 - accuracy: 0.3504 - val_loss: 1.8103 - val_accuracy: 0.3586\n",
            "54/54 [==============================] - 0s 4ms/step - loss: 1.8103 - accuracy: 0.3586\n",
            "Test accuracy: 0.3586125671863556\n",
            "Test loss: 1.810328722000122\n"
          ]
        },
        {
          "output_type": "execute_result",
          "data": {
            "text/plain": [
              "[<matplotlib.lines.Line2D at 0x7f6f70761370>]"
            ]
          },
          "metadata": {},
          "execution_count": 5
        },
        {
          "output_type": "display_data",
          "data": {
            "text/plain": [
              "<Figure size 432x288 with 1 Axes>"
            ],
            "image/png": "[encoded data removed]"
          },
          "metadata": {
            "needs_background": "light"
          }
        }
      ]
    },
    {
      "cell_type": "markdown",
      "source": [
        "### Modèle 5"
      ],
      "metadata": {
        "id": "aITOYf9lxWZo"
      }
    },
    {
      "cell_type": "code",
      "source": [
        "x = data_augmentation(inputs)\n",
        "x = keras.layers.Rescaling(1./255)(x)\n",
        "x = keras.layers.Conv2D(64, 3, activation='relu', input_shape=(64, 64, 3), padding='same')(x)\n",
        "x = keras.layers.Flatten()(x)\n",
        "x = keras.layers.Dense(128, activation='relu')(x)\n",
        "outputs = keras.layers.Dense(9, activation='softmax')(x)\n",
        "model_5 = keras.Model(inputs=inputs, outputs=outputs)\n",
        "\n",
        "model_5.summary()\n",
        "\n",
        "model_5.compile(optimizer='adam', loss='SparseCategoricalCrossentropy', metrics=['accuracy'])\n",
        "\n",
        "callbacks = [\n",
        "  keras.callbacks.ModelCheckpoint(\n",
        "  filepath=\"convnet_from_scratch_with_augmentation.keras\",\n",
        "  save_best_only=True,\n",
        "  monitor=\"val_loss\")\n",
        "]\n",
        "\n",
        "history_5 = model_5.fit(x_train, y_train, epochs=100, validation_data=(x_test, y_test))\n",
        "\n",
        "test_loss, test_accuracy = model_5.evaluate(x_test, y_test)\n",
        "print(\"Test accuracy: {}\".format(test_accuracy))\n",
        "print(\"Test loss: {}\".format(test_loss))\n",
        "\n",
        "import matplotlib.pyplot as plt\n",
        "plt.plot(history_5.history[\"loss\"], \"b\")"
      ],
      "metadata": {
        "colab": {
          "base_uri": "https://localhost:8080/",
          "height": 1000
        },
        "id": "ePwO4sK3xYMm",
        "outputId": "a5745dbc-aaab-40fe-baed-1e62541c953c"
      },
      "execution_count": 6,
      "outputs": [
        {
          "output_type": "stream",
          "name": "stderr",
          "text": [
            "WARNING:tensorflow:Using a while_loop for converting RngReadAndSkip cause there is no registered converter for this op.\n",
            "WARNING:tensorflow:Using a while_loop for converting Bitcast cause there is no registered converter for this op.\n",
            "WARNING:tensorflow:Using a while_loop for converting Bitcast cause there is no registered converter for this op.\n",
            "WARNING:tensorflow:Using a while_loop for converting StatelessRandomUniformV2 cause there is no registered converter for this op.\n",
            "WARNING:tensorflow:Using a while_loop for converting ImageProjectiveTransformV3 cause there is no registered converter for this op.\n",
            "WARNING:tensorflow:Using a while_loop for converting RngReadAndSkip cause there is no registered converter for this op.\n",
            "WARNING:tensorflow:Using a while_loop for converting Bitcast cause there is no registered converter for this op.\n",
            "WARNING:tensorflow:Using a while_loop for converting Bitcast cause there is no registered converter for this op.\n",
            "WARNING:tensorflow:Using a while_loop for converting StatelessRandomUniformV2 cause there is no registered converter for this op.\n",
            "WARNING:tensorflow:Using a while_loop for converting ImageProjectiveTransformV3 cause there is no registered converter for this op.\n"
          ]
        },
        {
          "output_type": "stream",
          "name": "stdout",
          "text": [
            "Model: \"model_2\"\n",
            "_________________________________________________________________\n",
            " Layer (type)                Output Shape              Param #   \n",
            "=================================================================\n",
            " input_1 (InputLayer)        [(None, 64, 64, 3)]       0         \n",
            "                                                                 \n",
            " sequential (Sequential)     (None, 64, 64, 3)         0         \n",
            "                                                                 \n",
            " rescaling_2 (Rescaling)     (None, 64, 64, 3)         0         \n",
            "                                                                 \n",
            " conv2d_4 (Conv2D)           (None, 64, 64, 64)        1792      \n",
            "                                                                 \n",
            " flatten_2 (Flatten)         (None, 262144)            0         \n",
            "                                                                 \n",
            " dense_2 (Dense)             (None, 128)               33554560  \n",
            "                                                                 \n",
            " dense_3 (Dense)             (None, 9)                 1161      \n",
            "                                                                 \n",
            "=================================================================\n",
            "Total params: 33,557,513\n",
            "Trainable params: 33,557,513\n",
            "Non-trainable params: 0\n",
            "_________________________________________________________________\n",
            "Epoch 1/100\n"
          ]
        },
        {
          "output_type": "stream",
          "name": "stderr",
          "text": [
            "WARNING:tensorflow:Using a while_loop for converting RngReadAndSkip cause there is no registered converter for this op.\n",
            "WARNING:tensorflow:Using a while_loop for converting Bitcast cause there is no registered converter for this op.\n",
            "WARNING:tensorflow:Using a while_loop for converting Bitcast cause there is no registered converter for this op.\n",
            "WARNING:tensorflow:Using a while_loop for converting StatelessRandomUniformV2 cause there is no registered converter for this op.\n",
            "WARNING:tensorflow:Using a while_loop for converting ImageProjectiveTransformV3 cause there is no registered converter for this op.\n",
            "WARNING:tensorflow:Using a while_loop for converting RngReadAndSkip cause there is no registered converter for this op.\n",
            "WARNING:tensorflow:Using a while_loop for converting Bitcast cause there is no registered converter for this op.\n",
            "WARNING:tensorflow:Using a while_loop for converting Bitcast cause there is no registered converter for this op.\n",
            "WARNING:tensorflow:Using a while_loop for converting StatelessRandomUniformV2 cause there is no registered converter for this op.\n",
            "WARNING:tensorflow:Using a while_loop for converting ImageProjectiveTransformV3 cause there is no registered converter for this op.\n",
            "WARNING:tensorflow:Using a while_loop for converting RngReadAndSkip cause there is no registered converter for this op.\n",
            "WARNING:tensorflow:Using a while_loop for converting Bitcast cause there is no registered converter for this op.\n",
            "WARNING:tensorflow:Using a while_loop for converting Bitcast cause there is no registered converter for this op.\n",
            "WARNING:tensorflow:Using a while_loop for converting StatelessRandomUniformV2 cause there is no registered converter for this op.\n",
            "WARNING:tensorflow:Using a while_loop for converting ImageProjectiveTransformV3 cause there is no registered converter for this op.\n",
            "WARNING:tensorflow:Using a while_loop for converting RngReadAndSkip cause there is no registered converter for this op.\n",
            "WARNING:tensorflow:Using a while_loop for converting Bitcast cause there is no registered converter for this op.\n",
            "WARNING:tensorflow:Using a while_loop for converting Bitcast cause there is no registered converter for this op.\n",
            "WARNING:tensorflow:Using a while_loop for converting StatelessRandomUniformV2 cause there is no registered converter for this op.\n",
            "WARNING:tensorflow:Using a while_loop for converting ImageProjectiveTransformV3 cause there is no registered converter for this op.\n"
          ]
        },
        {
          "output_type": "stream",
          "name": "stdout",
          "text": [
            "214/214 [==============================] - 33s 135ms/step - loss: 2.1684 - accuracy: 0.1480 - val_loss: 2.1460 - val_accuracy: 0.1999\n",
            "Epoch 2/100\n",
            "214/214 [==============================] - 30s 139ms/step - loss: 2.0910 - accuracy: 0.2120 - val_loss: 2.0667 - val_accuracy: 0.2375\n",
            "Epoch 3/100\n",
            "214/214 [==============================] - 29s 134ms/step - loss: 2.0486 - accuracy: 0.2342 - val_loss: 2.0392 - val_accuracy: 0.2475\n",
            "Epoch 4/100\n",
            "214/214 [==============================] - 28s 133ms/step - loss: 2.0274 - accuracy: 0.2455 - val_loss: 2.0158 - val_accuracy: 0.2504\n",
            "Epoch 5/100\n",
            "214/214 [==============================] - 29s 133ms/step - loss: 2.0069 - accuracy: 0.2550 - val_loss: 2.0007 - val_accuracy: 0.2610\n",
            "Epoch 6/100\n",
            "214/214 [==============================] - 29s 134ms/step - loss: 1.9920 - accuracy: 0.2573 - val_loss: 1.9900 - val_accuracy: 0.2593\n",
            "Epoch 7/100\n",
            "214/214 [==============================] - 28s 133ms/step - loss: 1.9821 - accuracy: 0.2610 - val_loss: 1.9912 - val_accuracy: 0.2657\n",
            "Epoch 8/100\n",
            "214/214 [==============================] - 30s 138ms/step - loss: 1.9702 - accuracy: 0.2659 - val_loss: 1.9878 - val_accuracy: 0.2698\n",
            "Epoch 9/100\n",
            "214/214 [==============================] - 29s 135ms/step - loss: 1.9646 - accuracy: 0.2661 - val_loss: 1.9518 - val_accuracy: 0.2757\n",
            "Epoch 10/100\n",
            "214/214 [==============================] - 29s 135ms/step - loss: 1.9589 - accuracy: 0.2683 - val_loss: 1.9498 - val_accuracy: 0.2745\n",
            "Epoch 11/100\n",
            "214/214 [==============================] - 29s 135ms/step - loss: 1.9518 - accuracy: 0.2754 - val_loss: 1.9540 - val_accuracy: 0.2651\n",
            "Epoch 12/100\n",
            "214/214 [==============================] - 29s 134ms/step - loss: 1.9450 - accuracy: 0.2753 - val_loss: 1.9339 - val_accuracy: 0.2787\n",
            "Epoch 13/100\n",
            "214/214 [==============================] - 29s 133ms/step - loss: 1.9403 - accuracy: 0.2795 - val_loss: 1.9525 - val_accuracy: 0.2675\n",
            "Epoch 14/100\n",
            "214/214 [==============================] - 29s 136ms/step - loss: 1.9390 - accuracy: 0.2744 - val_loss: 1.9415 - val_accuracy: 0.2651\n",
            "Epoch 15/100\n",
            "214/214 [==============================] - 30s 139ms/step - loss: 1.9305 - accuracy: 0.2778 - val_loss: 1.9518 - val_accuracy: 0.2628\n",
            "Epoch 16/100\n",
            "214/214 [==============================] - 29s 135ms/step - loss: 1.9331 - accuracy: 0.2874 - val_loss: 1.9511 - val_accuracy: 0.2757\n",
            "Epoch 17/100\n",
            "214/214 [==============================] - 29s 135ms/step - loss: 1.9249 - accuracy: 0.2855 - val_loss: 1.9370 - val_accuracy: 0.2816\n",
            "Epoch 18/100\n",
            "214/214 [==============================] - 29s 134ms/step - loss: 1.9217 - accuracy: 0.2855 - val_loss: 1.9776 - val_accuracy: 0.2798\n",
            "Epoch 19/100\n",
            "214/214 [==============================] - 29s 135ms/step - loss: 1.9201 - accuracy: 0.2830 - val_loss: 1.9389 - val_accuracy: 0.2787\n",
            "Epoch 20/100\n",
            "214/214 [==============================] - 29s 137ms/step - loss: 1.9181 - accuracy: 0.2882 - val_loss: 1.9247 - val_accuracy: 0.2763\n",
            "Epoch 21/100\n",
            "214/214 [==============================] - 30s 138ms/step - loss: 1.9135 - accuracy: 0.2885 - val_loss: 1.9472 - val_accuracy: 0.2616\n",
            "Epoch 22/100\n",
            "214/214 [==============================] - 28s 133ms/step - loss: 1.9170 - accuracy: 0.2946 - val_loss: 1.9293 - val_accuracy: 0.2834\n",
            "Epoch 23/100\n",
            "214/214 [==============================] - 28s 133ms/step - loss: 1.9140 - accuracy: 0.2902 - val_loss: 1.9214 - val_accuracy: 0.2863\n",
            "Epoch 24/100\n",
            "214/214 [==============================] - 28s 132ms/step - loss: 1.9101 - accuracy: 0.2962 - val_loss: 1.9127 - val_accuracy: 0.2898\n",
            "Epoch 25/100\n",
            "214/214 [==============================] - 28s 133ms/step - loss: 1.9067 - accuracy: 0.2909 - val_loss: 1.9466 - val_accuracy: 0.2834\n",
            "Epoch 26/100\n",
            "214/214 [==============================] - 28s 133ms/step - loss: 1.9004 - accuracy: 0.2950 - val_loss: 1.9150 - val_accuracy: 0.2816\n",
            "Epoch 27/100\n",
            "214/214 [==============================] - 29s 136ms/step - loss: 1.8991 - accuracy: 0.2962 - val_loss: 1.9144 - val_accuracy: 0.2810\n",
            "Epoch 28/100\n",
            "214/214 [==============================] - 29s 137ms/step - loss: 1.8925 - accuracy: 0.2978 - val_loss: 1.9165 - val_accuracy: 0.2863\n",
            "Epoch 29/100\n",
            "214/214 [==============================] - 29s 133ms/step - loss: 1.8968 - accuracy: 0.2947 - val_loss: 1.9066 - val_accuracy: 0.2975\n",
            "Epoch 30/100\n",
            "214/214 [==============================] - 29s 133ms/step - loss: 1.8866 - accuracy: 0.3000 - val_loss: 1.9260 - val_accuracy: 0.2792\n",
            "Epoch 31/100\n",
            "214/214 [==============================] - 28s 133ms/step - loss: 1.8862 - accuracy: 0.3022 - val_loss: 1.9212 - val_accuracy: 0.2845\n",
            "Epoch 32/100\n",
            "214/214 [==============================] - 29s 134ms/step - loss: 1.8873 - accuracy: 0.3003 - val_loss: 1.9168 - val_accuracy: 0.2857\n",
            "Epoch 33/100\n",
            "214/214 [==============================] - 29s 133ms/step - loss: 1.8903 - accuracy: 0.3022 - val_loss: 1.9281 - val_accuracy: 0.2816\n",
            "Epoch 34/100\n",
            "214/214 [==============================] - 29s 137ms/step - loss: 1.8885 - accuracy: 0.2990 - val_loss: 1.9160 - val_accuracy: 0.2863\n",
            "Epoch 35/100\n",
            "214/214 [==============================] - 29s 133ms/step - loss: 1.8823 - accuracy: 0.2991 - val_loss: 1.9096 - val_accuracy: 0.2910\n",
            "Epoch 36/100\n",
            "214/214 [==============================] - 29s 134ms/step - loss: 1.8846 - accuracy: 0.3006 - val_loss: 1.9031 - val_accuracy: 0.2898\n",
            "Epoch 37/100\n",
            "214/214 [==============================] - 28s 133ms/step - loss: 1.8810 - accuracy: 0.3023 - val_loss: 1.9082 - val_accuracy: 0.2904\n",
            "Epoch 38/100\n",
            "214/214 [==============================] - 28s 132ms/step - loss: 1.8802 - accuracy: 0.3032 - val_loss: 1.9163 - val_accuracy: 0.2857\n",
            "Epoch 39/100\n",
            "214/214 [==============================] - 28s 133ms/step - loss: 1.8777 - accuracy: 0.3105 - val_loss: 1.9107 - val_accuracy: 0.2934\n",
            "Epoch 40/100\n",
            "214/214 [==============================] - 28s 133ms/step - loss: 1.8764 - accuracy: 0.3082 - val_loss: 1.9056 - val_accuracy: 0.2951\n",
            "Epoch 41/100\n",
            "214/214 [==============================] - 29s 136ms/step - loss: 1.8741 - accuracy: 0.3054 - val_loss: 1.9171 - val_accuracy: 0.2869\n",
            "Epoch 42/100\n",
            "214/214 [==============================] - 29s 136ms/step - loss: 1.8793 - accuracy: 0.3031 - val_loss: 1.9088 - val_accuracy: 0.2939\n",
            "Epoch 43/100\n",
            "214/214 [==============================] - 28s 132ms/step - loss: 1.8692 - accuracy: 0.3101 - val_loss: 1.9085 - val_accuracy: 0.2939\n",
            "Epoch 44/100\n",
            "214/214 [==============================] - 29s 133ms/step - loss: 1.8674 - accuracy: 0.3102 - val_loss: 1.9539 - val_accuracy: 0.2792\n",
            "Epoch 45/100\n",
            "214/214 [==============================] - 28s 133ms/step - loss: 1.8673 - accuracy: 0.3098 - val_loss: 1.9052 - val_accuracy: 0.3051\n",
            "Epoch 46/100\n",
            "214/214 [==============================] - 28s 133ms/step - loss: 1.8667 - accuracy: 0.3096 - val_loss: 1.9404 - val_accuracy: 0.2845\n",
            "Epoch 47/100\n",
            "214/214 [==============================] - 28s 133ms/step - loss: 1.8627 - accuracy: 0.3107 - val_loss: 1.9202 - val_accuracy: 0.2939\n",
            "Epoch 48/100\n",
            "214/214 [==============================] - 29s 133ms/step - loss: 1.8582 - accuracy: 0.3126 - val_loss: 1.9170 - val_accuracy: 0.2934\n",
            "Epoch 49/100\n",
            "214/214 [==============================] - 29s 137ms/step - loss: 1.8674 - accuracy: 0.3080 - val_loss: 1.8976 - val_accuracy: 0.2975\n",
            "Epoch 50/100\n",
            "214/214 [==============================] - 29s 133ms/step - loss: 1.8644 - accuracy: 0.3073 - val_loss: 1.9321 - val_accuracy: 0.2945\n",
            "Epoch 51/100\n",
            "214/214 [==============================] - 28s 133ms/step - loss: 1.8592 - accuracy: 0.3101 - val_loss: 1.8901 - val_accuracy: 0.2963\n",
            "Epoch 52/100\n",
            "214/214 [==============================] - 28s 132ms/step - loss: 1.8613 - accuracy: 0.3145 - val_loss: 1.9028 - val_accuracy: 0.2963\n",
            "Epoch 53/100\n",
            "214/214 [==============================] - 29s 134ms/step - loss: 1.8594 - accuracy: 0.3189 - val_loss: 1.9225 - val_accuracy: 0.2916\n",
            "Epoch 54/100\n",
            "214/214 [==============================] - 28s 133ms/step - loss: 1.8537 - accuracy: 0.3145 - val_loss: 1.8883 - val_accuracy: 0.2969\n",
            "Epoch 55/100\n",
            "214/214 [==============================] - 29s 133ms/step - loss: 1.8571 - accuracy: 0.3183 - val_loss: 1.8965 - val_accuracy: 0.2969\n",
            "Epoch 56/100\n",
            "214/214 [==============================] - 30s 138ms/step - loss: 1.8561 - accuracy: 0.3152 - val_loss: 1.9000 - val_accuracy: 0.2910\n",
            "Epoch 57/100\n",
            "214/214 [==============================] - 28s 132ms/step - loss: 1.8514 - accuracy: 0.3148 - val_loss: 1.8989 - val_accuracy: 0.2981\n",
            "Epoch 58/100\n",
            "214/214 [==============================] - 28s 133ms/step - loss: 1.8538 - accuracy: 0.3168 - val_loss: 1.9056 - val_accuracy: 0.3039\n",
            "Epoch 59/100\n",
            "214/214 [==============================] - 28s 133ms/step - loss: 1.8423 - accuracy: 0.3178 - val_loss: 1.8950 - val_accuracy: 0.3051\n",
            "Epoch 60/100\n",
            "214/214 [==============================] - 28s 132ms/step - loss: 1.8445 - accuracy: 0.3190 - val_loss: 1.8915 - val_accuracy: 0.2998\n",
            "Epoch 61/100\n",
            "214/214 [==============================] - 29s 134ms/step - loss: 1.8504 - accuracy: 0.3156 - val_loss: 1.8981 - val_accuracy: 0.2875\n",
            "Epoch 62/100\n",
            "214/214 [==============================] - 29s 135ms/step - loss: 1.8441 - accuracy: 0.3194 - val_loss: 1.9172 - val_accuracy: 0.2934\n",
            "Epoch 63/100\n",
            "214/214 [==============================] - 30s 139ms/step - loss: 1.8509 - accuracy: 0.3177 - val_loss: 1.8973 - val_accuracy: 0.2916\n",
            "Epoch 64/100\n",
            "214/214 [==============================] - 29s 136ms/step - loss: 1.8408 - accuracy: 0.3232 - val_loss: 1.8878 - val_accuracy: 0.2998\n",
            "Epoch 65/100\n",
            "214/214 [==============================] - 29s 135ms/step - loss: 1.8408 - accuracy: 0.3211 - val_loss: 1.8929 - val_accuracy: 0.2975\n",
            "Epoch 66/100\n",
            "214/214 [==============================] - 29s 133ms/step - loss: 1.8428 - accuracy: 0.3199 - val_loss: 1.9009 - val_accuracy: 0.2951\n",
            "Epoch 67/100\n",
            "214/214 [==============================] - 29s 134ms/step - loss: 1.8437 - accuracy: 0.3263 - val_loss: 1.9101 - val_accuracy: 0.2916\n",
            "Epoch 68/100\n",
            "214/214 [==============================] - 28s 133ms/step - loss: 1.8356 - accuracy: 0.3241 - val_loss: 1.8980 - val_accuracy: 0.2951\n",
            "Epoch 69/100\n",
            "214/214 [==============================] - 29s 137ms/step - loss: 1.8400 - accuracy: 0.3222 - val_loss: 1.8817 - val_accuracy: 0.3034\n",
            "Epoch 70/100\n",
            "214/214 [==============================] - 29s 136ms/step - loss: 1.8391 - accuracy: 0.3208 - val_loss: 1.9052 - val_accuracy: 0.3063\n",
            "Epoch 71/100\n",
            "214/214 [==============================] - 28s 133ms/step - loss: 1.8433 - accuracy: 0.3209 - val_loss: 1.8978 - val_accuracy: 0.3016\n",
            "Epoch 72/100\n",
            "214/214 [==============================] - 28s 133ms/step - loss: 1.8424 - accuracy: 0.3180 - val_loss: 1.8980 - val_accuracy: 0.3081\n",
            "Epoch 73/100\n",
            "214/214 [==============================] - 29s 134ms/step - loss: 1.8356 - accuracy: 0.3227 - val_loss: 1.8869 - val_accuracy: 0.3069\n",
            "Epoch 74/100\n",
            "214/214 [==============================] - 28s 133ms/step - loss: 1.8376 - accuracy: 0.3177 - val_loss: 1.9121 - val_accuracy: 0.3039\n",
            "Epoch 75/100\n",
            "214/214 [==============================] - 29s 133ms/step - loss: 1.8378 - accuracy: 0.3180 - val_loss: 1.9067 - val_accuracy: 0.2892\n",
            "Epoch 76/100\n",
            "214/214 [==============================] - 29s 138ms/step - loss: 1.8327 - accuracy: 0.3199 - val_loss: 1.9181 - val_accuracy: 0.2963\n",
            "Epoch 77/100\n",
            "214/214 [==============================] - 29s 135ms/step - loss: 1.8448 - accuracy: 0.3142 - val_loss: 1.9019 - val_accuracy: 0.2939\n",
            "Epoch 78/100\n",
            "214/214 [==============================] - 29s 134ms/step - loss: 1.8289 - accuracy: 0.3285 - val_loss: 1.9051 - val_accuracy: 0.2957\n",
            "Epoch 79/100\n",
            "214/214 [==============================] - 28s 132ms/step - loss: 1.8255 - accuracy: 0.3300 - val_loss: 1.9185 - val_accuracy: 0.3057\n",
            "Epoch 80/100\n",
            "214/214 [==============================] - 28s 133ms/step - loss: 1.8268 - accuracy: 0.3308 - val_loss: 1.9043 - val_accuracy: 0.2998\n",
            "Epoch 81/100\n",
            "214/214 [==============================] - 29s 134ms/step - loss: 1.8261 - accuracy: 0.3289 - val_loss: 1.9001 - val_accuracy: 0.2951\n",
            "Epoch 82/100\n",
            "214/214 [==============================] - 28s 133ms/step - loss: 1.8267 - accuracy: 0.3269 - val_loss: 1.8895 - val_accuracy: 0.3022\n",
            "Epoch 83/100\n",
            "214/214 [==============================] - 30s 140ms/step - loss: 1.8291 - accuracy: 0.3186 - val_loss: 1.8971 - val_accuracy: 0.3010\n",
            "Epoch 84/100\n",
            "214/214 [==============================] - 29s 137ms/step - loss: 1.8311 - accuracy: 0.3273 - val_loss: 1.8829 - val_accuracy: 0.3016\n",
            "Epoch 85/100\n",
            "214/214 [==============================] - 29s 135ms/step - loss: 1.8268 - accuracy: 0.3269 - val_loss: 1.9023 - val_accuracy: 0.2957\n",
            "Epoch 86/100\n",
            "214/214 [==============================] - 29s 135ms/step - loss: 1.8320 - accuracy: 0.3212 - val_loss: 1.9075 - val_accuracy: 0.3022\n",
            "Epoch 87/100\n",
            "214/214 [==============================] - 29s 137ms/step - loss: 1.8260 - accuracy: 0.3235 - val_loss: 1.9122 - val_accuracy: 0.2945\n",
            "Epoch 88/100\n",
            "214/214 [==============================] - 30s 140ms/step - loss: 1.8264 - accuracy: 0.3326 - val_loss: 1.8867 - val_accuracy: 0.3051\n",
            "Epoch 89/100\n",
            "214/214 [==============================] - 30s 140ms/step - loss: 1.8199 - accuracy: 0.3295 - val_loss: 1.8982 - val_accuracy: 0.2934\n",
            "Epoch 90/100\n",
            "214/214 [==============================] - 29s 136ms/step - loss: 1.8272 - accuracy: 0.3269 - val_loss: 1.8896 - val_accuracy: 0.2998\n",
            "Epoch 91/100\n",
            "214/214 [==============================] - 29s 135ms/step - loss: 1.8279 - accuracy: 0.3256 - val_loss: 1.8953 - val_accuracy: 0.3010\n",
            "Epoch 92/100\n",
            "214/214 [==============================] - 29s 136ms/step - loss: 1.8213 - accuracy: 0.3314 - val_loss: 1.9044 - val_accuracy: 0.2892\n",
            "Epoch 93/100\n",
            "214/214 [==============================] - 29s 133ms/step - loss: 1.8268 - accuracy: 0.3289 - val_loss: 1.9111 - val_accuracy: 0.2998\n",
            "Epoch 94/100\n",
            "214/214 [==============================] - 30s 138ms/step - loss: 1.8208 - accuracy: 0.3297 - val_loss: 1.8997 - val_accuracy: 0.3022\n",
            "Epoch 95/100\n",
            "214/214 [==============================] - 29s 135ms/step - loss: 1.8205 - accuracy: 0.3322 - val_loss: 1.9036 - val_accuracy: 0.2951\n",
            "Epoch 96/100\n",
            "214/214 [==============================] - 28s 133ms/step - loss: 1.8213 - accuracy: 0.3219 - val_loss: 1.8929 - val_accuracy: 0.3004\n",
            "Epoch 97/100\n",
            "214/214 [==============================] - 28s 133ms/step - loss: 1.8152 - accuracy: 0.3263 - val_loss: 1.9100 - val_accuracy: 0.2898\n",
            "Epoch 98/100\n",
            "214/214 [==============================] - 29s 134ms/step - loss: 1.8164 - accuracy: 0.3272 - val_loss: 1.9063 - val_accuracy: 0.2945\n",
            "Epoch 99/100\n",
            "214/214 [==============================] - 29s 134ms/step - loss: 1.8180 - accuracy: 0.3275 - val_loss: 1.8996 - val_accuracy: 0.2986\n",
            "Epoch 100/100\n",
            "214/214 [==============================] - 29s 134ms/step - loss: 1.8178 - accuracy: 0.3294 - val_loss: 1.9038 - val_accuracy: 0.3034\n",
            "54/54 [==============================] - 0s 6ms/step - loss: 1.9038 - accuracy: 0.3034\n",
            "Test accuracy: 0.30335095524787903\n",
            "Test loss: 1.9038254022598267\n"
          ]
        },
        {
          "output_type": "execute_result",
          "data": {
            "text/plain": [
              "[<matplotlib.lines.Line2D at 0x7f6f03feb520>]"
            ]
          },
          "metadata": {},
          "execution_count": 6
        },
        {
          "output_type": "display_data",
          "data": {
            "text/plain": [
              "<Figure size 432x288 with 1 Axes>"
            ],
            "image/png": "[encoded data removed]"
          },
          "metadata": {
            "needs_background": "light"
          }
        }
      ]
    },
    {
      "cell_type": "markdown",
      "source": [
        "### Modèle 6"
      ],
      "metadata": {
        "id": "fsUqWgDhJ5m6"
      }
    },
    {
      "cell_type": "code",
      "source": [
        "x = data_augmentation(inputs)\n",
        "x = keras.layers.Rescaling(1./255)(x)\n",
        "x = keras.layers.Conv2D(filters=32, kernel_size=3, activation=\"relu\")(x)\n",
        "x = keras.layers.MaxPooling2D(pool_size=2)(x)\n",
        "x = keras.layers.Conv2D(filters=64, kernel_size=3, activation=\"relu\")(x)\n",
        "x = keras.layers.MaxPooling2D(pool_size=2)(x)\n",
        "x = keras.layers.Flatten()(x)\n",
        "x = keras.layers.Dropout(0.5)(x)\n",
        "outputs = keras.layers.Dense(9, activation=\"sigmoid\")(x)\n",
        "model_6 = keras.Model(inputs=inputs, outputs=outputs)\n",
        "\n",
        "\n",
        "model_6.summary()\n",
        "\n",
        "model_6.compile(optimizer='rmsprop', loss='SparseCategoricalCrossentropy', metrics=['accuracy'])\n",
        "\n",
        "callbacks = [\n",
        "  keras.callbacks.ModelCheckpoint(\n",
        "  filepath=\"convnet_from_scratch_with_augmentation.keras\",\n",
        "  save_best_only=True,\n",
        "  monitor=\"val_loss\")\n",
        "]\n",
        "\n",
        "history_6 = model_6.fit(x_train, y_train, epochs=100, validation_data=(x_test, y_test))\n",
        "\n",
        "test_loss, test_accuracy = model_6.evaluate(x_test, y_test)\n",
        "print(\"Test accuracy: {}\".format(test_accuracy))\n",
        "print(\"Test loss: {}\".format(test_loss))\n",
        "\n",
        "import matplotlib.pyplot as plt\n",
        "plt.plot(history_6.history[\"loss\"], \"b\")"
      ],
      "metadata": {
        "colab": {
          "base_uri": "https://localhost:8080/",
          "height": 1000
        },
        "id": "X70AEvL3J7ZC",
        "outputId": "7435dc9f-148e-4295-83ab-976f8a6f2de1"
      },
      "execution_count": 5,
      "outputs": [
        {
          "output_type": "stream",
          "name": "stderr",
          "text": [
            "WARNING:tensorflow:Using a while_loop for converting RngReadAndSkip cause there is no registered converter for this op.\n",
            "WARNING:tensorflow:Using a while_loop for converting Bitcast cause there is no registered converter for this op.\n",
            "WARNING:tensorflow:Using a while_loop for converting Bitcast cause there is no registered converter for this op.\n",
            "WARNING:tensorflow:Using a while_loop for converting StatelessRandomUniformV2 cause there is no registered converter for this op.\n",
            "WARNING:tensorflow:Using a while_loop for converting ImageProjectiveTransformV3 cause there is no registered converter for this op.\n",
            "WARNING:tensorflow:Using a while_loop for converting RngReadAndSkip cause there is no registered converter for this op.\n",
            "WARNING:tensorflow:Using a while_loop for converting Bitcast cause there is no registered converter for this op.\n",
            "WARNING:tensorflow:Using a while_loop for converting Bitcast cause there is no registered converter for this op.\n",
            "WARNING:tensorflow:Using a while_loop for converting StatelessRandomUniformV2 cause there is no registered converter for this op.\n",
            "WARNING:tensorflow:Using a while_loop for converting ImageProjectiveTransformV3 cause there is no registered converter for this op.\n"
          ]
        },
        {
          "output_type": "stream",
          "name": "stdout",
          "text": [
            "Model: \"model_2\"\n",
            "_________________________________________________________________\n",
            " Layer (type)                Output Shape              Param #   \n",
            "=================================================================\n",
            " input_1 (InputLayer)        [(None, 64, 64, 3)]       0         \n",
            "                                                                 \n",
            " sequential (Sequential)     (None, 64, 64, 3)         0         \n",
            "                                                                 \n",
            " rescaling_2 (Rescaling)     (None, 64, 64, 3)         0         \n",
            "                                                                 \n",
            " conv2d_5 (Conv2D)           (None, 62, 62, 32)        896       \n",
            "                                                                 \n",
            " max_pooling2d_3 (MaxPooling  (None, 31, 31, 32)       0         \n",
            " 2D)                                                             \n",
            "                                                                 \n",
            " conv2d_6 (Conv2D)           (None, 29, 29, 64)        18496     \n",
            "                                                                 \n",
            " max_pooling2d_4 (MaxPooling  (None, 14, 14, 64)       0         \n",
            " 2D)                                                             \n",
            "                                                                 \n",
            " flatten_2 (Flatten)         (None, 12544)             0         \n",
            "                                                                 \n",
            " dropout_2 (Dropout)         (None, 12544)             0         \n",
            "                                                                 \n",
            " dense_2 (Dense)             (None, 9)                 112905    \n",
            "                                                                 \n",
            "=================================================================\n",
            "Total params: 132,297\n",
            "Trainable params: 132,297\n",
            "Non-trainable params: 0\n",
            "_________________________________________________________________\n",
            "Epoch 1/100\n"
          ]
        },
        {
          "output_type": "stream",
          "name": "stderr",
          "text": [
            "WARNING:tensorflow:Using a while_loop for converting RngReadAndSkip cause there is no registered converter for this op.\n",
            "WARNING:tensorflow:Using a while_loop for converting Bitcast cause there is no registered converter for this op.\n",
            "WARNING:tensorflow:Using a while_loop for converting Bitcast cause there is no registered converter for this op.\n",
            "WARNING:tensorflow:Using a while_loop for converting StatelessRandomUniformV2 cause there is no registered converter for this op.\n",
            "WARNING:tensorflow:Using a while_loop for converting ImageProjectiveTransformV3 cause there is no registered converter for this op.\n",
            "WARNING:tensorflow:Using a while_loop for converting RngReadAndSkip cause there is no registered converter for this op.\n",
            "WARNING:tensorflow:Using a while_loop for converting Bitcast cause there is no registered converter for this op.\n",
            "WARNING:tensorflow:Using a while_loop for converting Bitcast cause there is no registered converter for this op.\n",
            "WARNING:tensorflow:Using a while_loop for converting StatelessRandomUniformV2 cause there is no registered converter for this op.\n",
            "WARNING:tensorflow:Using a while_loop for converting ImageProjectiveTransformV3 cause there is no registered converter for this op.\n",
            "WARNING:tensorflow:Using a while_loop for converting RngReadAndSkip cause there is no registered converter for this op.\n",
            "WARNING:tensorflow:Using a while_loop for converting Bitcast cause there is no registered converter for this op.\n",
            "WARNING:tensorflow:Using a while_loop for converting Bitcast cause there is no registered converter for this op.\n",
            "WARNING:tensorflow:Using a while_loop for converting StatelessRandomUniformV2 cause there is no registered converter for this op.\n",
            "WARNING:tensorflow:Using a while_loop for converting ImageProjectiveTransformV3 cause there is no registered converter for this op.\n",
            "WARNING:tensorflow:Using a while_loop for converting RngReadAndSkip cause there is no registered converter for this op.\n",
            "WARNING:tensorflow:Using a while_loop for converting Bitcast cause there is no registered converter for this op.\n",
            "WARNING:tensorflow:Using a while_loop for converting Bitcast cause there is no registered converter for this op.\n",
            "WARNING:tensorflow:Using a while_loop for converting StatelessRandomUniformV2 cause there is no registered converter for this op.\n",
            "WARNING:tensorflow:Using a while_loop for converting ImageProjectiveTransformV3 cause there is no registered converter for this op.\n"
          ]
        },
        {
          "output_type": "stream",
          "name": "stdout",
          "text": [
            "214/214 [==============================] - 33s 141ms/step - loss: 2.1975 - accuracy: 0.1139 - val_loss: 2.1930 - val_accuracy: 0.1152\n",
            "Epoch 2/100\n",
            "214/214 [==============================] - 27s 126ms/step - loss: 2.1565 - accuracy: 0.1813 - val_loss: 2.1201 - val_accuracy: 0.2040\n",
            "Epoch 3/100\n",
            "214/214 [==============================] - 32s 149ms/step - loss: 2.1004 - accuracy: 0.2133 - val_loss: 2.0883 - val_accuracy: 0.2269\n",
            "Epoch 4/100\n",
            "214/214 [==============================] - 30s 140ms/step - loss: 2.0575 - accuracy: 0.2395 - val_loss: 2.0526 - val_accuracy: 0.2334\n",
            "Epoch 5/100\n",
            "214/214 [==============================] - 29s 134ms/step - loss: 2.0249 - accuracy: 0.2499 - val_loss: 2.0315 - val_accuracy: 0.2487\n",
            "Epoch 6/100\n",
            "214/214 [==============================] - 27s 127ms/step - loss: 2.0083 - accuracy: 0.2534 - val_loss: 2.0155 - val_accuracy: 0.2522\n",
            "Epoch 7/100\n",
            "214/214 [==============================] - 28s 131ms/step - loss: 1.9969 - accuracy: 0.2604 - val_loss: 2.0060 - val_accuracy: 0.2604\n",
            "Epoch 8/100\n",
            "214/214 [==============================] - 27s 127ms/step - loss: 1.9863 - accuracy: 0.2645 - val_loss: 1.9980 - val_accuracy: 0.2634\n",
            "Epoch 9/100\n",
            "214/214 [==============================] - 27s 127ms/step - loss: 1.9813 - accuracy: 0.2632 - val_loss: 2.0212 - val_accuracy: 0.2581\n",
            "Epoch 10/100\n",
            "214/214 [==============================] - 27s 126ms/step - loss: 1.9783 - accuracy: 0.2690 - val_loss: 1.9998 - val_accuracy: 0.2610\n",
            "Epoch 11/100\n",
            "214/214 [==============================] - 28s 129ms/step - loss: 1.9751 - accuracy: 0.2719 - val_loss: 2.0064 - val_accuracy: 0.2628\n",
            "Epoch 12/100\n",
            "214/214 [==============================] - 28s 131ms/step - loss: 1.9725 - accuracy: 0.2683 - val_loss: 2.0268 - val_accuracy: 0.2640\n",
            "Epoch 13/100\n",
            "214/214 [==============================] - 27s 128ms/step - loss: 1.9740 - accuracy: 0.2703 - val_loss: 1.9929 - val_accuracy: 0.2628\n",
            "Epoch 14/100\n",
            "214/214 [==============================] - 27s 128ms/step - loss: 1.9672 - accuracy: 0.2740 - val_loss: 2.0084 - val_accuracy: 0.2640\n",
            "Epoch 15/100\n",
            "214/214 [==============================] - 28s 129ms/step - loss: 1.9680 - accuracy: 0.2753 - val_loss: 1.9883 - val_accuracy: 0.2663\n",
            "Epoch 16/100\n",
            "214/214 [==============================] - 27s 127ms/step - loss: 1.9671 - accuracy: 0.2683 - val_loss: 1.9835 - val_accuracy: 0.2757\n",
            "Epoch 17/100\n",
            "214/214 [==============================] - 27s 128ms/step - loss: 1.9598 - accuracy: 0.2760 - val_loss: 1.9748 - val_accuracy: 0.2716\n",
            "Epoch 18/100\n",
            "214/214 [==============================] - 28s 129ms/step - loss: 1.9595 - accuracy: 0.2823 - val_loss: 1.9805 - val_accuracy: 0.2698\n",
            "Epoch 19/100\n",
            "214/214 [==============================] - 27s 128ms/step - loss: 1.9501 - accuracy: 0.2804 - val_loss: 1.9674 - val_accuracy: 0.2781\n",
            "Epoch 20/100\n",
            "214/214 [==============================] - 27s 128ms/step - loss: 1.9364 - accuracy: 0.2921 - val_loss: 1.9676 - val_accuracy: 0.2869\n",
            "Epoch 21/100\n",
            "214/214 [==============================] - 27s 128ms/step - loss: 1.9424 - accuracy: 0.2927 - val_loss: 1.9689 - val_accuracy: 0.2775\n",
            "Epoch 22/100\n",
            "214/214 [==============================] - 27s 127ms/step - loss: 1.9337 - accuracy: 0.2946 - val_loss: 2.0020 - val_accuracy: 0.2622\n",
            "Epoch 23/100\n",
            "214/214 [==============================] - 27s 128ms/step - loss: 1.9313 - accuracy: 0.2999 - val_loss: 1.9565 - val_accuracy: 0.2869\n",
            "Epoch 24/100\n",
            "214/214 [==============================] - 27s 128ms/step - loss: 1.9301 - accuracy: 0.2971 - val_loss: 1.9895 - val_accuracy: 0.2698\n",
            "Epoch 25/100\n",
            "214/214 [==============================] - 27s 128ms/step - loss: 1.9195 - accuracy: 0.2988 - val_loss: 1.9582 - val_accuracy: 0.2869\n",
            "Epoch 26/100\n",
            "214/214 [==============================] - 27s 128ms/step - loss: 1.9220 - accuracy: 0.2981 - val_loss: 1.9526 - val_accuracy: 0.2722\n",
            "Epoch 27/100\n",
            "214/214 [==============================] - 27s 128ms/step - loss: 1.9164 - accuracy: 0.3010 - val_loss: 1.9452 - val_accuracy: 0.2798\n",
            "Epoch 28/100\n",
            "214/214 [==============================] - 27s 127ms/step - loss: 1.9186 - accuracy: 0.3001 - val_loss: 1.9451 - val_accuracy: 0.2922\n",
            "Epoch 29/100\n",
            "214/214 [==============================] - 27s 128ms/step - loss: 1.9020 - accuracy: 0.3080 - val_loss: 1.9838 - val_accuracy: 0.2875\n",
            "Epoch 30/100\n",
            "214/214 [==============================] - 27s 127ms/step - loss: 1.9083 - accuracy: 0.3063 - val_loss: 1.9352 - val_accuracy: 0.2869\n",
            "Epoch 31/100\n",
            "214/214 [==============================] - 27s 126ms/step - loss: 1.9024 - accuracy: 0.3058 - val_loss: 1.9289 - val_accuracy: 0.2957\n",
            "Epoch 32/100\n",
            "214/214 [==============================] - 27s 127ms/step - loss: 1.9045 - accuracy: 0.3064 - val_loss: 1.9404 - val_accuracy: 0.2881\n",
            "Epoch 33/100\n",
            "214/214 [==============================] - 28s 129ms/step - loss: 1.8967 - accuracy: 0.3092 - val_loss: 1.9566 - val_accuracy: 0.2828\n",
            "Epoch 34/100\n",
            "214/214 [==============================] - 28s 130ms/step - loss: 1.8976 - accuracy: 0.3129 - val_loss: 1.9285 - val_accuracy: 0.2986\n",
            "Epoch 35/100\n",
            "214/214 [==============================] - 28s 129ms/step - loss: 1.8973 - accuracy: 0.3113 - val_loss: 1.9528 - val_accuracy: 0.2892\n",
            "Epoch 36/100\n",
            "214/214 [==============================] - 27s 127ms/step - loss: 1.8982 - accuracy: 0.3101 - val_loss: 1.9393 - val_accuracy: 0.2916\n",
            "Epoch 37/100\n",
            "214/214 [==============================] - 28s 128ms/step - loss: 1.8922 - accuracy: 0.3146 - val_loss: 1.9317 - val_accuracy: 0.3010\n",
            "Epoch 38/100\n",
            "214/214 [==============================] - 28s 129ms/step - loss: 1.8949 - accuracy: 0.3162 - val_loss: 1.9153 - val_accuracy: 0.3028\n",
            "Epoch 39/100\n",
            "214/214 [==============================] - 27s 126ms/step - loss: 1.8852 - accuracy: 0.3107 - val_loss: 1.9144 - val_accuracy: 0.2981\n",
            "Epoch 40/100\n",
            "214/214 [==============================] - 27s 127ms/step - loss: 1.8897 - accuracy: 0.3098 - val_loss: 1.9141 - val_accuracy: 0.3063\n",
            "Epoch 41/100\n",
            "214/214 [==============================] - 28s 129ms/step - loss: 1.8894 - accuracy: 0.3228 - val_loss: 1.9145 - val_accuracy: 0.3016\n",
            "Epoch 42/100\n",
            "214/214 [==============================] - 28s 129ms/step - loss: 1.8916 - accuracy: 0.3175 - val_loss: 1.9167 - val_accuracy: 0.2975\n",
            "Epoch 43/100\n",
            "214/214 [==============================] - 27s 127ms/step - loss: 1.8911 - accuracy: 0.3184 - val_loss: 1.9157 - val_accuracy: 0.3010\n",
            "Epoch 44/100\n",
            "214/214 [==============================] - 27s 128ms/step - loss: 1.8830 - accuracy: 0.3180 - val_loss: 1.9175 - val_accuracy: 0.3039\n",
            "Epoch 45/100\n",
            "214/214 [==============================] - 27s 127ms/step - loss: 1.8912 - accuracy: 0.3184 - val_loss: 1.9156 - val_accuracy: 0.3022\n",
            "Epoch 46/100\n",
            "214/214 [==============================] - 27s 128ms/step - loss: 1.8770 - accuracy: 0.3221 - val_loss: 1.9273 - val_accuracy: 0.3016\n",
            "Epoch 47/100\n",
            "214/214 [==============================] - 28s 129ms/step - loss: 1.8798 - accuracy: 0.3177 - val_loss: 1.9168 - val_accuracy: 0.3010\n",
            "Epoch 48/100\n",
            "214/214 [==============================] - 28s 129ms/step - loss: 1.8835 - accuracy: 0.3250 - val_loss: 1.9031 - val_accuracy: 0.3133\n",
            "Epoch 49/100\n",
            "214/214 [==============================] - 28s 129ms/step - loss: 1.8736 - accuracy: 0.3228 - val_loss: 1.9410 - val_accuracy: 0.2939\n",
            "Epoch 50/100\n",
            "214/214 [==============================] - 27s 128ms/step - loss: 1.8843 - accuracy: 0.3168 - val_loss: 1.9066 - val_accuracy: 0.3075\n",
            "Epoch 51/100\n",
            "214/214 [==============================] - 27s 127ms/step - loss: 1.8779 - accuracy: 0.3221 - val_loss: 1.9458 - val_accuracy: 0.2957\n",
            "Epoch 52/100\n",
            "214/214 [==============================] - 27s 128ms/step - loss: 1.8734 - accuracy: 0.3241 - val_loss: 1.9205 - val_accuracy: 0.2951\n",
            "Epoch 53/100\n",
            "214/214 [==============================] - 27s 127ms/step - loss: 1.8782 - accuracy: 0.3213 - val_loss: 1.9243 - val_accuracy: 0.3028\n",
            "Epoch 54/100\n",
            "214/214 [==============================] - 27s 128ms/step - loss: 1.8688 - accuracy: 0.3193 - val_loss: 1.9006 - val_accuracy: 0.3092\n",
            "Epoch 55/100\n",
            "214/214 [==============================] - 27s 126ms/step - loss: 1.8750 - accuracy: 0.3189 - val_loss: 1.9197 - val_accuracy: 0.3063\n",
            "Epoch 56/100\n",
            "214/214 [==============================] - 27s 128ms/step - loss: 1.8706 - accuracy: 0.3209 - val_loss: 1.8993 - val_accuracy: 0.3151\n",
            "Epoch 57/100\n",
            "214/214 [==============================] - 27s 127ms/step - loss: 1.8779 - accuracy: 0.3282 - val_loss: 1.9206 - val_accuracy: 0.3104\n",
            "Epoch 58/100\n",
            "214/214 [==============================] - 28s 128ms/step - loss: 1.8660 - accuracy: 0.3314 - val_loss: 1.8992 - val_accuracy: 0.3169\n",
            "Epoch 59/100\n",
            "214/214 [==============================] - 28s 130ms/step - loss: 1.8719 - accuracy: 0.3228 - val_loss: 1.9160 - val_accuracy: 0.3139\n",
            "Epoch 60/100\n",
            "214/214 [==============================] - 27s 128ms/step - loss: 1.8692 - accuracy: 0.3285 - val_loss: 1.9274 - val_accuracy: 0.3098\n",
            "Epoch 61/100\n",
            "214/214 [==============================] - 28s 129ms/step - loss: 1.8712 - accuracy: 0.3219 - val_loss: 1.8988 - val_accuracy: 0.3269\n",
            "Epoch 62/100\n",
            "214/214 [==============================] - 28s 131ms/step - loss: 1.8692 - accuracy: 0.3208 - val_loss: 1.9139 - val_accuracy: 0.3133\n",
            "Epoch 63/100\n",
            "214/214 [==============================] - 28s 129ms/step - loss: 1.8643 - accuracy: 0.3319 - val_loss: 1.9047 - val_accuracy: 0.3175\n",
            "Epoch 64/100\n",
            "214/214 [==============================] - 27s 128ms/step - loss: 1.8615 - accuracy: 0.3303 - val_loss: 1.8954 - val_accuracy: 0.3280\n",
            "Epoch 65/100\n",
            "214/214 [==============================] - 27s 128ms/step - loss: 1.8626 - accuracy: 0.3291 - val_loss: 1.8882 - val_accuracy: 0.3280\n",
            "Epoch 66/100\n",
            "214/214 [==============================] - 27s 128ms/step - loss: 1.8580 - accuracy: 0.3319 - val_loss: 1.9095 - val_accuracy: 0.3098\n",
            "Epoch 67/100\n",
            "214/214 [==============================] - 27s 128ms/step - loss: 1.8609 - accuracy: 0.3234 - val_loss: 1.9210 - val_accuracy: 0.3145\n",
            "Epoch 68/100\n",
            "214/214 [==============================] - 28s 129ms/step - loss: 1.8633 - accuracy: 0.3289 - val_loss: 1.8981 - val_accuracy: 0.3163\n",
            "Epoch 69/100\n",
            "214/214 [==============================] - 27s 127ms/step - loss: 1.8579 - accuracy: 0.3298 - val_loss: 1.8918 - val_accuracy: 0.3327\n",
            "Epoch 70/100\n",
            "214/214 [==============================] - 27s 128ms/step - loss: 1.8590 - accuracy: 0.3330 - val_loss: 1.9317 - val_accuracy: 0.3075\n",
            "Epoch 71/100\n",
            "214/214 [==============================] - 28s 129ms/step - loss: 1.8629 - accuracy: 0.3269 - val_loss: 1.8879 - val_accuracy: 0.3222\n",
            "Epoch 72/100\n",
            "214/214 [==============================] - 27s 127ms/step - loss: 1.8617 - accuracy: 0.3291 - val_loss: 1.8927 - val_accuracy: 0.3216\n",
            "Epoch 73/100\n",
            "214/214 [==============================] - 27s 128ms/step - loss: 1.8614 - accuracy: 0.3310 - val_loss: 1.8879 - val_accuracy: 0.3239\n",
            "Epoch 74/100\n",
            "214/214 [==============================] - 27s 128ms/step - loss: 1.8544 - accuracy: 0.3298 - val_loss: 1.8957 - val_accuracy: 0.3104\n",
            "Epoch 75/100\n",
            "214/214 [==============================] - 27s 127ms/step - loss: 1.8583 - accuracy: 0.3390 - val_loss: 1.8959 - val_accuracy: 0.3151\n",
            "Epoch 76/100\n",
            "214/214 [==============================] - 28s 129ms/step - loss: 1.8513 - accuracy: 0.3348 - val_loss: 1.8762 - val_accuracy: 0.3333\n",
            "Epoch 77/100\n",
            "214/214 [==============================] - 27s 127ms/step - loss: 1.8491 - accuracy: 0.3349 - val_loss: 1.9110 - val_accuracy: 0.3063\n",
            "Epoch 78/100\n",
            "214/214 [==============================] - 27s 127ms/step - loss: 1.8544 - accuracy: 0.3269 - val_loss: 1.8862 - val_accuracy: 0.3186\n",
            "Epoch 79/100\n",
            "214/214 [==============================] - 27s 128ms/step - loss: 1.8518 - accuracy: 0.3247 - val_loss: 1.9420 - val_accuracy: 0.3157\n",
            "Epoch 80/100\n",
            "214/214 [==============================] - 27s 127ms/step - loss: 1.8536 - accuracy: 0.3291 - val_loss: 1.8762 - val_accuracy: 0.3245\n",
            "Epoch 81/100\n",
            "214/214 [==============================] - 27s 126ms/step - loss: 1.8529 - accuracy: 0.3354 - val_loss: 1.8766 - val_accuracy: 0.3280\n",
            "Epoch 82/100\n",
            "214/214 [==============================] - 27s 128ms/step - loss: 1.8477 - accuracy: 0.3344 - val_loss: 1.8824 - val_accuracy: 0.3374\n",
            "Epoch 83/100\n",
            "214/214 [==============================] - 27s 128ms/step - loss: 1.8518 - accuracy: 0.3327 - val_loss: 1.8847 - val_accuracy: 0.3263\n",
            "Epoch 84/100\n",
            "214/214 [==============================] - 27s 125ms/step - loss: 1.8409 - accuracy: 0.3406 - val_loss: 1.9046 - val_accuracy: 0.3098\n",
            "Epoch 85/100\n",
            "214/214 [==============================] - 27s 127ms/step - loss: 1.8465 - accuracy: 0.3311 - val_loss: 1.8849 - val_accuracy: 0.3316\n",
            "Epoch 86/100\n",
            "214/214 [==============================] - 27s 126ms/step - loss: 1.8434 - accuracy: 0.3282 - val_loss: 1.9382 - val_accuracy: 0.2939\n",
            "Epoch 87/100\n",
            "214/214 [==============================] - 27s 127ms/step - loss: 1.8468 - accuracy: 0.3325 - val_loss: 1.9366 - val_accuracy: 0.3163\n",
            "Epoch 88/100\n",
            "214/214 [==============================] - 27s 127ms/step - loss: 1.8410 - accuracy: 0.3415 - val_loss: 1.8632 - val_accuracy: 0.3363\n",
            "Epoch 89/100\n",
            "214/214 [==============================] - 27s 126ms/step - loss: 1.8485 - accuracy: 0.3342 - val_loss: 1.8810 - val_accuracy: 0.3292\n",
            "Epoch 90/100\n",
            "214/214 [==============================] - 27s 127ms/step - loss: 1.8441 - accuracy: 0.3364 - val_loss: 1.8938 - val_accuracy: 0.3186\n",
            "Epoch 91/100\n",
            "214/214 [==============================] - 27s 127ms/step - loss: 1.8323 - accuracy: 0.3425 - val_loss: 1.8750 - val_accuracy: 0.3392\n",
            "Epoch 92/100\n",
            "214/214 [==============================] - 27s 126ms/step - loss: 1.8438 - accuracy: 0.3349 - val_loss: 1.8920 - val_accuracy: 0.3228\n",
            "Epoch 93/100\n",
            "214/214 [==============================] - 27s 127ms/step - loss: 1.8394 - accuracy: 0.3398 - val_loss: 1.8651 - val_accuracy: 0.3392\n",
            "Epoch 94/100\n",
            "214/214 [==============================] - 27s 127ms/step - loss: 1.8346 - accuracy: 0.3434 - val_loss: 1.8663 - val_accuracy: 0.3304\n",
            "Epoch 95/100\n",
            "214/214 [==============================] - 27s 126ms/step - loss: 1.8337 - accuracy: 0.3408 - val_loss: 1.8969 - val_accuracy: 0.3204\n",
            "Epoch 96/100\n",
            "214/214 [==============================] - 27s 126ms/step - loss: 1.8327 - accuracy: 0.3386 - val_loss: 1.8503 - val_accuracy: 0.3427\n",
            "Epoch 97/100\n",
            "214/214 [==============================] - 27s 126ms/step - loss: 1.8314 - accuracy: 0.3466 - val_loss: 1.8899 - val_accuracy: 0.3139\n",
            "Epoch 98/100\n",
            "214/214 [==============================] - 27s 127ms/step - loss: 1.8248 - accuracy: 0.3480 - val_loss: 1.8547 - val_accuracy: 0.3374\n",
            "Epoch 99/100\n",
            "214/214 [==============================] - 27s 127ms/step - loss: 1.8322 - accuracy: 0.3392 - val_loss: 1.8546 - val_accuracy: 0.3445\n",
            "Epoch 100/100\n",
            "214/214 [==============================] - 27s 126ms/step - loss: 1.8145 - accuracy: 0.3474 - val_loss: 1.8453 - val_accuracy: 0.3457\n",
            "54/54 [==============================] - 0s 4ms/step - loss: 1.8453 - accuracy: 0.3457\n",
            "Test accuracy: 0.34567901492118835\n",
            "Test loss: 1.8452829122543335\n"
          ]
        },
        {
          "output_type": "execute_result",
          "data": {
            "text/plain": [
              "[<matplotlib.lines.Line2D at 0x7f7d920a6d30>]"
            ]
          },
          "metadata": {},
          "execution_count": 5
        },
        {
          "output_type": "display_data",
          "data": {
            "text/plain": [
              "<Figure size 432x288 with 1 Axes>"
            ],
            "image/png": "[encoded data removed]"
          },
          "metadata": {
            "needs_background": "light"
          }
        }
      ]
    },
    {
      "cell_type": "code",
      "source": [],
      "metadata": {
        "id": "CsDnUyNNLZgQ"
      },
      "execution_count": null,
      "outputs": []
    }
  ]
}