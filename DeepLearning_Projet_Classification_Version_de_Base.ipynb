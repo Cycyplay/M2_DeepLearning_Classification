{
  "nbformat": 4,
  "nbformat_minor": 0,
  "metadata": {
    "colab": {
      "provenance": [],
      "collapsed_sections": [
        "HVHUXSJkpkwM",
        "ZqlqYGArpqU4",
        "rWmLSCc1Rz0O",
        "HuPF0FlFHM8Z"
      ],
      "include_colab_link": true
    },
    "kernelspec": {
      "name": "python3",
      "display_name": "Python 3"
    },
    "language_info": {
      "name": "python"
    },
    "accelerator": "GPU",
    "gpuClass": "standard"
  },
  "cells": [
    {
      "cell_type": "markdown",
      "metadata": {
        "id": "view-in-github",
        "colab_type": "text"
      },
      "source": [
        "<a href=\"https://colab.research.google.com/github/Cycyplay/M2_DeepLearning_Classification/blob/main/DeepLearning_Projet_Classification_Version_de_Base.ipynb\" target=\"_parent\"><img src=\"https://colab.research.google.com/assets/colab-badge.svg\" alt=\"Open In Colab\"/></a>"
      ]
    },
    {
      "cell_type": "markdown",
      "source": [
        "# Projet M2 Deep Learning Classification \n",
        "## Version de Base"
      ],
      "metadata": {
        "id": "68ZTEkI7OY2c"
      }
    },
    {
      "cell_type": "markdown",
      "source": [
        "MURATI Vidan - VAN Cyril\n",
        "\n",
        "Classification d'oeuvres par leur courant artistique."
      ],
      "metadata": {
        "id": "ZNcblvTxSNep"
      }
    },
    {
      "cell_type": "markdown",
      "source": [
        "## Catégories"
      ],
      "metadata": {
        "id": "otvJATB1R-Kf"
      }
    },
    {
      "cell_type": "markdown",
      "source": [
        "- Impressionisme\n",
        "- Surréalisme\n",
        "- Cubisme\n",
        "- Baroque\n",
        "- Pointillisme / Divisionisme\n",
        "- Pop Art\n",
        "- Expressionisme\n",
        "- Maniérisme\n",
        "- Néo-classicisme"
      ],
      "metadata": {
        "id": "W4OCfn2USBnZ"
      }
    },
    {
      "cell_type": "markdown",
      "source": [
        "# Code"
      ],
      "metadata": {
        "id": "t2P2zX2_SbjK"
      }
    },
    {
      "cell_type": "markdown",
      "source": [
        "### Setup"
      ],
      "metadata": {
        "id": "fIEbxjgoFjam"
      }
    },
    {
      "cell_type": "code",
      "source": [
        "import keras\n",
        "import numpy as np"
      ],
      "metadata": {
        "id": "V-bGfFroFjAK"
      },
      "execution_count": 2,
      "outputs": []
    },
    {
      "cell_type": "code",
      "source": [
        "from google.colab import drive\n",
        "drive.mount('/content/drive')"
      ],
      "metadata": {
        "colab": {
          "base_uri": "https://localhost:8080/"
        },
        "id": "_zPYld7sFqI4",
        "outputId": "ed2e6bd2-f7ee-4e04-e09d-a2ce5aa8e84e"
      },
      "execution_count": 1,
      "outputs": [
        {
          "output_type": "stream",
          "name": "stdout",
          "text": [
            "Mounted at /content/drive\n"
          ]
        }
      ]
    },
    {
      "cell_type": "markdown",
      "source": [
        "### Data Initialisation (array formating)"
      ],
      "metadata": {
        "id": "Ft1qyVbxJAxv"
      }
    },
    {
      "cell_type": "markdown",
      "source": [
        "Liste des actions à effectuer:\n",
        "\n",
        "1. Refaire les échantillons de chaque catégorie\n",
        "2. Composer les tableaux numpy x_train, y_train, x_test, y_test\n",
        "3. Les permuter à l'aide de numpy.random.permutation\n",
        "4. Sauvegarder les 4 tableaux mélangés deux à deux\n",
        "5. Mettre x_train et x_test au bon format ?"
      ],
      "metadata": {
        "id": "ywiXqfx71nRZ"
      }
    },
    {
      "cell_type": "markdown",
      "source": [
        "#### Transform data to float32"
      ],
      "metadata": {
        "id": "HVHUXSJkpkwM"
      }
    },
    {
      "cell_type": "code",
      "source": [
        "x_test = np.load('./drive/MyDrive/DeepLearning_Dataset/x_test.npy')\n",
        "x_train = np.load('./drive/MyDrive/DeepLearning_Dataset/x_train.npy')\n",
        "y_test = np.load('./drive/MyDrive/DeepLearning_Dataset/y_test.npy')\n",
        "y_train = np.load('./drive/MyDrive/DeepLearning_Dataset/y_train.npy')"
      ],
      "metadata": {
        "id": "_Gdg3H9DJF9P"
      },
      "execution_count": 3,
      "outputs": []
    },
    {
      "cell_type": "code",
      "source": [
        "print(x_train.shape)\n",
        "print(y_train.shape)\n",
        "\n",
        "print(x_test.shape)\n",
        "print(y_test.shape)"
      ],
      "metadata": {
        "colab": {
          "base_uri": "https://localhost:8080/"
        },
        "id": "kQ01YHgcJKw4",
        "outputId": "2ac2551f-255e-420a-c2b8-73a0a2107684"
      },
      "execution_count": 4,
      "outputs": [
        {
          "output_type": "stream",
          "name": "stdout",
          "text": [
            "(6840, 64, 64, 3)\n",
            "(6840,)\n",
            "(1701, 64, 64, 3)\n",
            "(1701,)\n"
          ]
        }
      ]
    },
    {
      "cell_type": "code",
      "source": [
        "x_test = np.load('./drive/MyDrive/DeepLearning_Dataset/x_test.npy')\n",
        "x_test = x_test.astype('float32') / 255.0\n",
        "np.save('./drive/MyDrive/DeepLearning_Dataset/x_test_float32.npy', x_test)"
      ],
      "metadata": {
        "id": "9wcGYaqayL8-"
      },
      "execution_count": 5,
      "outputs": []
    },
    {
      "cell_type": "code",
      "source": [
        "x_train = np.load('./drive/MyDrive/DeepLearning_Dataset/x_train.npy')\n",
        "\n",
        "\n",
        "x_train = x_train.astype('float32') / 255.0\n",
        "np.save('./drive/MyDrive/DeepLearning_Dataset/x_train_float32.npy', x_train)"
      ],
      "metadata": {
        "id": "U_N3Vrn4JpCE"
      },
      "execution_count": 6,
      "outputs": []
    },
    {
      "cell_type": "markdown",
      "source": [
        "#### Shuffle datasets"
      ],
      "metadata": {
        "id": "ZqlqYGArpqU4"
      }
    },
    {
      "cell_type": "code",
      "source": [
        "x_test = np.load('./drive/MyDrive/DeepLearning_Dataset/x_test_float32.npy')\n",
        "y_test = np.load('./drive/MyDrive/DeepLearning_Dataset/y_test.npy')\n",
        "\n",
        "#mélange des datasets\n",
        "test_permutation = np.random.permutation(len(x_test))\n",
        "\n",
        "x_test = x_test[test_permutation]\n",
        "y_test = y_test[test_permutation]\n",
        "\n",
        "np.save('./drive/MyDrive/DeepLearning_Dataset/x_test_shuffled.npy', x_test)\n",
        "np.save('./drive/MyDrive/DeepLearning_Dataset/y_test_shuffled.npy', y_test)"
      ],
      "metadata": {
        "id": "OFGp2YuZWJgR"
      },
      "execution_count": 7,
      "outputs": []
    },
    {
      "cell_type": "code",
      "source": [
        "y_train = np.load('./drive/MyDrive/DeepLearning_Dataset/y_train.npy')\n",
        "\n",
        "train_permutation = np.random.RandomState(seed=42).permutation(len(y_train))\n",
        "\n",
        "y_train = y_train[train_permutation]\n",
        "\n",
        "np.save('./drive/MyDrive/DeepLearning_Dataset/y_train_shuffled.npy', y_train)"
      ],
      "metadata": {
        "id": "pjUcmHSwqngy"
      },
      "execution_count": 8,
      "outputs": []
    },
    {
      "cell_type": "code",
      "source": [
        "x_train = np.load('./drive/MyDrive/DeepLearning_Dataset/x_train_float32.npy')\n",
        "\n",
        "train_permutation = np.random.RandomState(seed=42).permutation(len(x_train))\n",
        "\n",
        "x_train = x_train[train_permutation]\n",
        "\n",
        "np.save('./drive/MyDrive/DeepLearning_Dataset/x_train_shuffled.npy', x_train)"
      ],
      "metadata": {
        "id": "Ky_T5_tzs6ku"
      },
      "execution_count": 11,
      "outputs": []
    },
    {
      "cell_type": "code",
      "source": [],
      "metadata": {
        "id": "uIvG7wtQEJlg"
      },
      "execution_count": null,
      "outputs": []
    },
    {
      "cell_type": "markdown",
      "source": [
        "## Travail sans Data Augmentation"
      ],
      "metadata": {
        "id": "YFyX5RllSt_Y"
      }
    },
    {
      "cell_type": "markdown",
      "source": [
        "### Récupération des Datasets"
      ],
      "metadata": {
        "id": "ftKPXUHuESrp"
      }
    },
    {
      "cell_type": "code",
      "source": [
        "x_test = np.load('./drive/MyDrive/DeepLearning_Dataset/x_test_shuffled.npy')\n",
        "x_train = np.load('./drive/MyDrive/DeepLearning_Dataset/x_train_shuffled.npy')\n",
        "y_test = np.load('./drive/MyDrive/DeepLearning_Dataset/y_test_shuffled.npy')\n",
        "y_train = np.load('./drive/MyDrive/DeepLearning_Dataset/y_train_shuffled.npy')"
      ],
      "metadata": {
        "id": "F71LkHBZEXAR"
      },
      "execution_count": 12,
      "outputs": []
    },
    {
      "cell_type": "markdown",
      "source": [
        "### Modèle 1"
      ],
      "metadata": {
        "id": "rWmLSCc1Rz0O"
      }
    },
    {
      "cell_type": "code",
      "source": [
        "model_1 = keras.Sequential()\n",
        "model_1.add(keras.layers.Conv2D(32, 3, activation='relu', input_shape=(64, 64, 3), padding='same'))\n",
        "model_1.add(keras.layers.Conv2D(64, 3, activation='relu', padding='same'))\n",
        "model_1.add(keras.layers.Flatten())\n",
        "model_1.add(keras.layers.Dense(128, activation='relu'))\n",
        "model_1.add(keras.layers.Dense(9, activation='softmax'))\n",
        "model_1.summary()\n",
        "\n",
        "model_1.compile(optimizer='adam', loss='SparseCategoricalCrossentropy', metrics=['accuracy'])\n",
        "history_1 = model_1.fit(x_train, y_train, verbose=1, batch_size=128, epochs=100, validation_data=(x_test, y_test))"
      ],
      "metadata": {
        "id": "EHocco8XRAPv"
      },
      "execution_count": null,
      "outputs": []
    },
    {
      "cell_type": "code",
      "source": [
        "test_loss, test_accuracy = model_1.evaluate(x_test, y_test)\n",
        "print(\"Test accuracy: {}\".format(test_accuracy))\n",
        "print(\"Test loss: {}\".format(test_loss))"
      ],
      "metadata": {
        "colab": {
          "base_uri": "https://localhost:8080/"
        },
        "id": "qfQ3yXIYFSH5",
        "outputId": "8910864a-3fb5-4f22-cc6a-a8ee493f4380"
      },
      "execution_count": 34,
      "outputs": [
        {
          "output_type": "stream",
          "name": "stdout",
          "text": [
            "54/54 [==============================] - 1s 9ms/step - loss: 5.8448 - accuracy: 0.3568\n",
            "Test accuracy: 0.35684892535209656\n",
            "Test loss: 5.844811916351318\n"
          ]
        }
      ]
    },
    {
      "cell_type": "code",
      "source": [
        "import matplotlib.pyplot as plt\n",
        "plt.plot(history_1.history[\"loss\"], \"b\")"
      ],
      "metadata": {
        "colab": {
          "base_uri": "https://localhost:8080/",
          "height": 282
        },
        "id": "87doWZGTFWvR",
        "outputId": "d3f834df-dc87-4449-f04a-554fa25b565f"
      },
      "execution_count": 21,
      "outputs": [
        {
          "output_type": "execute_result",
          "data": {
            "text/plain": [
              "[<matplotlib.lines.Line2D at 0x7f3112574940>]"
            ]
          },
          "metadata": {},
          "execution_count": 21
        },
        {
          "output_type": "display_data",
          "data": {
            "text/plain": [
              "<Figure size 432x288 with 1 Axes>"
            ],
            "image/png": "[encoded data removed]"
          },
          "metadata": {
            "needs_background": "light"
          }
        }
      ]
    },
    {
      "cell_type": "markdown",
      "source": [
        "### Modèle 2"
      ],
      "metadata": {
        "id": "HuPF0FlFHM8Z"
      }
    },
    {
      "cell_type": "code",
      "source": [
        "model_2 = keras.Sequential()\n",
        "model_2.add(keras.layers.Conv2D(64, 3, activation='relu', input_shape=(64, 64, 3), padding='same'))\n",
        "model_2.add(keras.layers.Flatten())\n",
        "model_2.add(keras.layers.Dense(128, activation='relu'))\n",
        "model_2.add(keras.layers.Dense(9, activation='softmax'))\n",
        "model_2.summary()\n",
        "\n",
        "model_2.compile(optimizer='adam', loss='SparseCategoricalCrossentropy', metrics=['accuracy'])\n",
        "history_2 = model_2.fit(x_train, y_train, verbose=1, batch_size=128, epochs=100, validation_data=(x_test, y_test))"
      ],
      "metadata": {
        "id": "FPKdGBbTHM8e"
      },
      "execution_count": null,
      "outputs": []
    },
    {
      "cell_type": "code",
      "source": [
        "test_loss, test_accuracy = model_2.evaluate(x_test, y_test)\n",
        "print(\"Test accuracy: {}\".format(test_accuracy))\n",
        "print(\"Test loss: {}\".format(test_loss))"
      ],
      "metadata": {
        "colab": {
          "base_uri": "https://localhost:8080/"
        },
        "outputId": "95194e82-f1b0-4a04-f688-16172a6c9556",
        "id": "GarrRFMdHM8f"
      },
      "execution_count": 33,
      "outputs": [
        {
          "output_type": "stream",
          "name": "stdout",
          "text": [
            "54/54 [==============================] - 0s 5ms/step - loss: 5.5380 - accuracy: 0.3780\n",
            "Test accuracy: 0.37801292538642883\n",
            "Test loss: 5.537961959838867\n"
          ]
        }
      ]
    },
    {
      "cell_type": "code",
      "source": [
        "import matplotlib.pyplot as plt\n",
        "plt.plot(history_2.history[\"loss\"], \"b\")"
      ],
      "metadata": {
        "colab": {
          "base_uri": "https://localhost:8080/",
          "height": 282
        },
        "outputId": "fae78fe3-7016-4a07-bf93-7e13c244ca78",
        "id": "XJSwz2M-HM8f"
      },
      "execution_count": 25,
      "outputs": [
        {
          "output_type": "execute_result",
          "data": {
            "text/plain": [
              "[<matplotlib.lines.Line2D at 0x7f3112230100>]"
            ]
          },
          "metadata": {},
          "execution_count": 25
        },
        {
          "output_type": "display_data",
          "data": {
            "text/plain": [
              "<Figure size 432x288 with 1 Axes>"
            ],
            "image/png": "[encoded data removed]"
          },
          "metadata": {
            "needs_background": "light"
          }
        }
      ]
    },
    {
      "cell_type": "markdown",
      "source": [
        "### Modèle 3"
      ],
      "metadata": {
        "id": "trXQvetiIqxh"
      }
    },
    {
      "cell_type": "code",
      "source": [
        "model_3 = keras.Sequential()\n",
        "model_3.add(keras.layers.Conv2D(32, 3, activation='relu', input_shape=(64, 64, 3), padding='same'))\n",
        "model_3.add(keras.layers.Flatten())\n",
        "model_3.add(keras.layers.Dense(64, activation='relu'))\n",
        "model_3.add(keras.layers.Dense(9, activation='softmax'))\n",
        "model_3.summary()\n",
        "\n",
        "model_3.compile(optimizer='adam', loss='SparseCategoricalCrossentropy', metrics=['accuracy'])\n",
        "history_3 = model_3.fit(x_train, y_train, verbose=1, batch_size=128, epochs=60, validation_data=(x_test, y_test))"
      ],
      "metadata": {
        "id": "LqmsyVulIqxi"
      },
      "execution_count": null,
      "outputs": []
    },
    {
      "cell_type": "code",
      "source": [
        "test_loss, test_accuracy = model_3.evaluate(x_test, y_test)\n",
        "print(\"Test accuracy: {}\".format(test_accuracy))\n",
        "print(\"Test loss: {}\".format(test_loss))"
      ],
      "metadata": {
        "colab": {
          "base_uri": "https://localhost:8080/"
        },
        "outputId": "d33ad3fc-7ac8-436b-8ed0-04419374e05a",
        "id": "tlItHcBtIqxi"
      },
      "execution_count": 32,
      "outputs": [
        {
          "output_type": "stream",
          "name": "stdout",
          "text": [
            "54/54 [==============================] - 0s 5ms/step - loss: 4.2987 - accuracy: 0.3445\n",
            "Test accuracy: 0.3445032238960266\n",
            "Test loss: 4.298705101013184\n"
          ]
        }
      ]
    },
    {
      "cell_type": "code",
      "source": [
        "import matplotlib.pyplot as plt\n",
        "plt.plot(history_3.history[\"loss\"], \"b\")"
      ],
      "metadata": {
        "colab": {
          "base_uri": "https://localhost:8080/",
          "height": 286
        },
        "outputId": "2f5a65d1-4e2f-41fe-ba67-833cc25ec6c9",
        "id": "M10vSEG3Iqxi"
      },
      "execution_count": 28,
      "outputs": [
        {
          "output_type": "execute_result",
          "data": {
            "text/plain": [
              "[<matplotlib.lines.Line2D at 0x7f31120c81c0>]"
            ]
          },
          "metadata": {},
          "execution_count": 28
        },
        {
          "output_type": "display_data",
          "data": {
            "text/plain": [
              "<Figure size 432x288 with 1 Axes>"
            ],
            "image/png": "[encoded data removed]"
          },
          "metadata": {
            "needs_background": "light"
          }
        }
      ]
    },
    {
      "cell_type": "code",
      "source": [],
      "metadata": {
        "id": "UoTtUKUJIqxj"
      },
      "execution_count": null,
      "outputs": []
    }
  ]
}