{
  "nbformat": 4,
  "nbformat_minor": 0,
  "metadata": {
    "colab": {
      "provenance": [],
      "collapsed_sections": [
        "HVHUXSJkpkwM"
      ],
      "include_colab_link": true
    },
    "kernelspec": {
      "name": "python3",
      "display_name": "Python 3"
    },
    "language_info": {
      "name": "python"
    },
    "accelerator": "GPU",
    "gpuClass": "standard"
  },
  "cells": [
    {
      "cell_type": "markdown",
      "metadata": {
        "id": "view-in-github",
        "colab_type": "text"
      },
      "source": [
        "<a href=\"https://colab.research.google.com/github/Cycyplay/M2_DeepLearning_Classification/blob/main/DeepLearning_Projet_Classification_Version_de_Base.ipynb\" target=\"_parent\"><img src=\"https://colab.research.google.com/assets/colab-badge.svg\" alt=\"Open In Colab\"/></a>"
      ]
    },
    {
      "cell_type": "markdown",
      "source": [
        "# Projet M2 Deep Learning Classification \n",
        "## Version de Base"
      ],
      "metadata": {
        "id": "68ZTEkI7OY2c"
      }
    },
    {
      "cell_type": "markdown",
      "source": [
        "MURATI Vidan - VAN Cyril\n",
        "\n",
        "Classification d'oeuvres par leur courant artistique."
      ],
      "metadata": {
        "id": "ZNcblvTxSNep"
      }
    },
    {
      "cell_type": "markdown",
      "source": [
        "## Catégories"
      ],
      "metadata": {
        "id": "otvJATB1R-Kf"
      }
    },
    {
      "cell_type": "markdown",
      "source": [
        "- Impressionisme\n",
        "- Surréalisme\n",
        "- Cubisme\n",
        "- Baroque\n",
        "- Pointillisme / Divisionisme\n",
        "- Pop Art\n",
        "- Expressionisme\n",
        "- Maniérisme\n",
        "- Néo-classicisme"
      ],
      "metadata": {
        "id": "W4OCfn2USBnZ"
      }
    },
    {
      "cell_type": "markdown",
      "source": [
        "# Code"
      ],
      "metadata": {
        "id": "t2P2zX2_SbjK"
      }
    },
    {
      "cell_type": "markdown",
      "source": [
        "### Setup"
      ],
      "metadata": {
        "id": "fIEbxjgoFjam"
      }
    },
    {
      "cell_type": "code",
      "source": [
        "import keras\n",
        "import numpy as np"
      ],
      "metadata": {
        "id": "V-bGfFroFjAK"
      },
      "execution_count": null,
      "outputs": []
    },
    {
      "cell_type": "code",
      "source": [
        "from google.colab import drive\n",
        "drive.mount('/content/drive')"
      ],
      "metadata": {
        "colab": {
          "base_uri": "https://localhost:8080/"
        },
        "id": "_zPYld7sFqI4",
        "outputId": "60ee8c86-269b-4cde-8879-9b114a7749e2"
      },
      "execution_count": null,
      "outputs": [
        {
          "output_type": "stream",
          "name": "stdout",
          "text": [
            "Drive already mounted at /content/drive; to attempt to forcibly remount, call drive.mount(\"/content/drive\", force_remount=True).\n"
          ]
        }
      ]
    },
    {
      "cell_type": "markdown",
      "source": [
        "### Data Initialisation (array formating)"
      ],
      "metadata": {
        "id": "Ft1qyVbxJAxv"
      }
    },
    {
      "cell_type": "markdown",
      "source": [
        "Liste des actions à effectuer:\n",
        "\n",
        "1. Refaire les échantillons de chaque catégorie\n",
        "2. Composer les tableaux numpy x_train, y_train, x_test, y_test\n",
        "3. Les permuter à l'aide de numpy.random.permutation\n",
        "4. Sauvegarder les 4 tableaux mélangés deux à deux\n",
        "5. Mettre x_train et x_test au bon format ?"
      ],
      "metadata": {
        "id": "ywiXqfx71nRZ"
      }
    },
    {
      "cell_type": "markdown",
      "source": [
        "#### Transform data to float32"
      ],
      "metadata": {
        "id": "HVHUXSJkpkwM"
      }
    },
    {
      "cell_type": "code",
      "source": [
        "x_test = np.load('./drive/MyDrive/DeepLearning_Dataset/x_test.npy')\n",
        "x_train = np.load('./drive/MyDrive/DeepLearning_Dataset/x_train.npy')\n",
        "y_test = np.load('./drive/MyDrive/DeepLearning_Dataset/y_test.npy')\n",
        "y_train = np.load('./drive/MyDrive/DeepLearning_Dataset/y_train.npy')"
      ],
      "metadata": {
        "id": "_Gdg3H9DJF9P"
      },
      "execution_count": null,
      "outputs": []
    },
    {
      "cell_type": "code",
      "source": [
        "print(x_train.shape)\n",
        "print(y_train.shape)\n",
        "\n",
        "print(x_test.shape)\n",
        "print(y_test.shape)"
      ],
      "metadata": {
        "colab": {
          "base_uri": "https://localhost:8080/"
        },
        "id": "kQ01YHgcJKw4",
        "outputId": "3fd35cf8-9ee0-4a92-e378-346a261a200c"
      },
      "execution_count": null,
      "outputs": [
        {
          "output_type": "stream",
          "name": "stdout",
          "text": [
            "(6840, 300, 300, 3)\n",
            "(6840,)\n",
            "(1701, 300, 300, 3)\n",
            "(1701,)\n"
          ]
        }
      ]
    },
    {
      "cell_type": "code",
      "source": [
        "x_test = np.load('./drive/MyDrive/DeepLearning_Dataset/x_test.npy')\n",
        "x_test = x_test.astype('float32') / 255.0\n",
        "np.save('./drive/MyDrive/DeepLearning_Dataset/x_test_float32.npy', x_test)"
      ],
      "metadata": {
        "id": "9wcGYaqayL8-"
      },
      "execution_count": null,
      "outputs": []
    },
    {
      "cell_type": "code",
      "source": [
        "import numpy as np\n",
        "\n",
        "x_train = np.load('./drive/MyDrive/DeepLearning_Dataset/x_train.npy')\n",
        "\n",
        "\n",
        "x_train = x_train.astype('float32') / 255.0\n",
        "np.save('./drive/MyDrive/DeepLearning_Dataset/x_train_float32.npy', x_train)"
      ],
      "metadata": {
        "id": "U_N3Vrn4JpCE"
      },
      "execution_count": 1,
      "outputs": []
    },
    {
      "cell_type": "markdown",
      "source": [
        "#### Shuffle datasets"
      ],
      "metadata": {
        "id": "ZqlqYGArpqU4"
      }
    },
    {
      "cell_type": "code",
      "source": [
        "x_test = np.load('./drive/MyDrive/DeepLearning_Dataset/x_test_float32.npy')\n",
        "y_test = np.load('./drive/MyDrive/DeepLearning_Dataset/y_test.npy')\n",
        "\n",
        "#mélange des datasets\n",
        "test_permutation = np.random.permutation(len(x_test))\n",
        "\n",
        "x_test = x_test[test_permutation]\n",
        "y_test = y_test[test_permutation]\n",
        "\n",
        "np.save('./drive/MyDrive/DeepLearning_Dataset/x_test_shuffled.npy', x_test)\n",
        "np.save('./drive/MyDrive/DeepLearning_Dataset/y_test_shuffled.npy', y_test)"
      ],
      "metadata": {
        "id": "OFGp2YuZWJgR"
      },
      "execution_count": null,
      "outputs": []
    },
    {
      "cell_type": "code",
      "source": [
        "import keras\n",
        "import numpy as np\n",
        "\n",
        "y_train = np.load('./drive/MyDrive/DeepLearning_Dataset/y_train.npy')\n",
        "\n",
        "train_permutation = np.random.RandomState(seed=42).permutation(len(y_train))\n",
        "\n",
        "y_train = y_train[train_permutation]\n",
        "\n",
        "np.save('./drive/MyDrive/DeepLearning_Dataset/y_train_shuffled.npy', y_train)"
      ],
      "metadata": {
        "id": "pjUcmHSwqngy"
      },
      "execution_count": null,
      "outputs": []
    },
    {
      "cell_type": "code",
      "source": [
        "import keras\n",
        "import numpy as np\n",
        "\n",
        "x_train = np.load('./drive/MyDrive/DeepLearning_Dataset/x_train.npy')\n",
        "\n",
        "train_permutation = np.random.RandomState(seed=42).permutation(len(x_train))\n",
        "\n",
        "x_train = x_train[train_permutation]\n",
        "\n",
        "np.save('./drive/MyDrive/DeepLearning_Dataset/x_train_shuffled_not_formatted.npy', x_train)"
      ],
      "metadata": {
        "id": "Ky_T5_tzs6ku"
      },
      "execution_count": null,
      "outputs": []
    },
    {
      "cell_type": "markdown",
      "source": [
        "## Travail sans Data Augmentation"
      ],
      "metadata": {
        "id": "YFyX5RllSt_Y"
      }
    },
    {
      "cell_type": "markdown",
      "source": [
        "### Modèle 1"
      ],
      "metadata": {
        "id": "rWmLSCc1Rz0O"
      }
    },
    {
      "cell_type": "code",
      "source": [
        "model_1 = keras.Sequential()\n",
        "model_1.add(keras.layers.Conv2D(32, 3, activation='relu', input_shape=(300, 300, 3), padding='same'))\n",
        "model_1.add(keras.layers.Conv2D(64, 3, activation='relu', padding='same'))\n",
        "model_1.add(keras.layers.Flatten())\n",
        "model_1.add(keras.layers.Dense(128, activation='relu'))\n",
        "model_1.add(keras.layers.Dense(9, activation='softmax'))\n",
        "model_1.summary()\n",
        "\n",
        "model_1.compile(optimizer='adam', loss='SparseCategoricalCrossentropy', metrics=['accuracy'])\n",
        "history_1 = model_1.fit(x_train, y_train, verbose=1, batch_size=128, epochs=20, validation_data=(x_test, y_test))"
      ],
      "metadata": {
        "id": "EHocco8XRAPv"
      },
      "execution_count": null,
      "outputs": []
    }
  ]
}