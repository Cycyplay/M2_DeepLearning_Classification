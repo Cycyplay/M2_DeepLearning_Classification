{
  "cells": [
    {
      "cell_type": "markdown",
      "metadata": {
        "id": "view-in-github",
        "colab_type": "text"
      },
      "source": [
        "<a href=\"https://colab.research.google.com/github/Cycyplay/M2_DeepLearning_Classification/blob/main/DeepLearning_Projet_Classification_Version_de_Base.ipynb\" target=\"_parent\"><img src=\"https://colab.research.google.com/assets/colab-badge.svg\" alt=\"Open In Colab\"/></a>"
      ]
    },
    {
      "cell_type": "markdown",
      "metadata": {
        "id": "68ZTEkI7OY2c"
      },
      "source": [
        "# Projet M2 Deep Learning Classification \n",
        "## Version de Base"
      ]
    },
    {
      "cell_type": "markdown",
      "metadata": {
        "id": "ZNcblvTxSNep"
      },
      "source": [
        "MURATI Vidan - VAN Cyril\n",
        "\n",
        "Classification d'oeuvres par leur courant artistique."
      ]
    },
    {
      "cell_type": "markdown",
      "metadata": {
        "id": "otvJATB1R-Kf"
      },
      "source": [
        "## Catégories"
      ]
    },
    {
      "cell_type": "markdown",
      "metadata": {
        "id": "W4OCfn2USBnZ"
      },
      "source": [
        "- Impressionisme\n",
        "- Surréalisme\n",
        "- Cubisme\n",
        "- Baroque\n",
        "- Pointillisme / Divisionisme\n",
        "- Pop Art\n",
        "- Expressionisme\n",
        "- Maniérisme\n",
        "- Néo-classicisme"
      ]
    },
    {
      "cell_type": "markdown",
      "metadata": {
        "id": "t2P2zX2_SbjK"
      },
      "source": [
        "# Code"
      ]
    },
    {
      "cell_type": "markdown",
      "metadata": {
        "id": "Ft1qyVbxJAxv"
      },
      "source": [
        "### SETUP : Data Initialisation (array formating)"
      ]
    },
    {
      "cell_type": "markdown",
      "metadata": {
        "id": "ywiXqfx71nRZ"
      },
      "source": [
        "Liste des actions à effectuer:\n",
        "\n",
        "1. Refaire les échantillons de chaque catégorie\n",
        "2. Composer les tableaux numpy x_train, y_train, x_test, y_test\n",
        "3. Les permuter à l'aide de numpy.random.permutation\n",
        "4. Sauvegarder les 4 tableaux mélangés deux à deux\n",
        "5. Mettre x_train et x_test au bon format ?"
      ]
    },
    {
      "cell_type": "markdown",
      "metadata": {
        "id": "ZqlqYGArpqU4"
      },
      "source": [
        "#### Shuffle datasets"
      ]
    },
    {
      "cell_type": "code",
      "execution_count": null,
      "metadata": {
        "colab": {
          "base_uri": "https://localhost:8080/"
        },
        "id": "OFGp2YuZWJgR",
        "outputId": "9ab39ef0-5461-41ce-cc58-1c344ea266db"
      },
      "outputs": [
        {
          "name": "stdout",
          "output_type": "stream",
          "text": [
            "Drive already mounted at /content/drive; to attempt to forcibly remount, call drive.mount(\"/content/drive\", force_remount=True).\n"
          ]
        }
      ],
      "source": [
        "import numpy as np\n",
        "\n",
        "from google.colab import drive\n",
        "drive.mount('/content/drive')\n",
        "\n",
        "x_test = np.load('./drive/MyDrive/DeepLearning_Dataset/x_test.npy')\n",
        "y_test = np.load('./drive/MyDrive/DeepLearning_Dataset/y_test.npy')\n",
        "\n",
        "#mélange des datasets\n",
        "test_permutation = np.random.permutation(len(x_test))\n",
        "\n",
        "x_test = x_test[test_permutation]\n",
        "y_test = y_test[test_permutation]\n",
        "\n",
        "np.save('./drive/MyDrive/DeepLearning_Dataset/x_test_shuffled_no_float.npy', x_test)\n",
        "np.save('./drive/MyDrive/DeepLearning_Dataset/y_test_shuffled.npy', y_test)"
      ]
    },
    {
      "cell_type": "code",
      "execution_count": null,
      "metadata": {
        "id": "pjUcmHSwqngy"
      },
      "outputs": [],
      "source": [
        "import numpy as np\n",
        "\n",
        "\n",
        "y_train = np.load('./drive/MyDrive/DeepLearning_Dataset/y_train.npy')\n",
        "\n",
        "train_permutation = np.random.RandomState(seed=42).permutation(len(y_train))\n",
        "\n",
        "y_train = y_train[train_permutation]\n",
        "\n",
        "np.save('./drive/MyDrive/DeepLearning_Dataset/y_train_shuffled.npy', y_train)"
      ]
    },
    {
      "cell_type": "code",
      "execution_count": null,
      "metadata": {
        "id": "Ky_T5_tzs6ku"
      },
      "outputs": [],
      "source": [
        "  import numpy as np\n",
        "\n",
        "\n",
        "  x_train = np.load('./drive/MyDrive/DeepLearning_Dataset/x_train.npy')\n",
        "\n",
        "  train_permutation = np.random.RandomState(seed=42).permutation(len(x_train))\n",
        "\n",
        "  x_train = x_train[train_permutation]\n",
        "\n",
        "  np.save('./drive/MyDrive/DeepLearning_Dataset/x_train_shuffled_no_float.npy', x_train)"
      ]
    },
    {
      "cell_type": "code",
      "execution_count": null,
      "metadata": {
        "id": "uIvG7wtQEJlg"
      },
      "outputs": [],
      "source": []
    },
    {
      "cell_type": "markdown",
      "metadata": {
        "id": "HVHUXSJkpkwM"
      },
      "source": [
        "#### Transform data to float32"
      ]
    },
    {
      "cell_type": "code",
      "execution_count": null,
      "metadata": {
        "id": "9wcGYaqayL8-"
      },
      "outputs": [],
      "source": [
        "x_test = np.load('./drive/MyDrive/DeepLearning_Dataset/x_test_shuffled_no_float.npy')\n",
        "x_test = x_test.astype('float32') / 255.0\n",
        "np.save('./drive/MyDrive/DeepLearning_Dataset/x_test_shuffled.npy', x_test)"
      ]
    },
    {
      "cell_type": "code",
      "execution_count": null,
      "metadata": {
        "id": "U_N3Vrn4JpCE"
      },
      "outputs": [],
      "source": [
        "import numpy as np\n",
        "\n",
        "x_train = np.load('./drive/MyDrive/DeepLearning_Dataset/x_train_shuffled_no_float.npy')\n",
        "\n",
        "x_train = x_train.astype('float32') / 255.0\n",
        "np.save('./drive/MyDrive/DeepLearning_Dataset/x_train_shuffled.npy', x_train)"
      ]
    },
    {
      "cell_type": "markdown",
      "metadata": {
        "id": "ftKPXUHuESrp"
      },
      "source": [
        "## Load"
      ]
    },
    {
      "cell_type": "code",
      "execution_count": 1,
      "metadata": {
        "id": "F71LkHBZEXAR",
        "colab": {
          "base_uri": "https://localhost:8080/"
        },
        "outputId": "22508ef8-1095-4210-dd49-82457f37a80f"
      },
      "outputs": [
        {
          "output_type": "stream",
          "name": "stdout",
          "text": [
            "Mounted at /content/drive\n"
          ]
        }
      ],
      "source": [
        "import keras\n",
        "import numpy as np\n",
        "\n",
        "from google.colab import drive\n",
        "drive.mount('/content/drive')\n",
        "\n",
        "\n",
        "x_test = np.load('./drive/MyDrive/DeepLearning_Dataset/x_test.npy')\n",
        "x_train = np.load('./drive/MyDrive/DeepLearning_Dataset/x_train.npy')\n",
        "y_test = np.load('./drive/MyDrive/DeepLearning_Dataset/y_test.npy')\n",
        "y_train = np.load('./drive/MyDrive/DeepLearning_Dataset/y_train.npy')"
      ]
    },
    {
      "cell_type": "code",
      "execution_count": null,
      "metadata": {
        "colab": {
          "base_uri": "https://localhost:8080/"
        },
        "id": "t5MNHqMmsWwc",
        "outputId": "ec8e30f3-62cb-4f32-a31b-6739a8243bf2"
      },
      "outputs": [
        {
          "name": "stdout",
          "output_type": "stream",
          "text": [
            "(6840, 64, 64, 3)\n",
            "(6840,)\n",
            "(1701, 64, 64, 3)\n",
            "(1701,)\n"
          ]
        }
      ],
      "source": [
        "print(x_train.shape)\n",
        "print(y_train.shape)\n",
        "\n",
        "print(x_test.shape)\n",
        "print(y_test.shape)"
      ]
    },
    {
      "cell_type": "markdown",
      "metadata": {
        "id": "YFyX5RllSt_Y"
      },
      "source": [
        "## Travail sans Data Augmentation"
      ]
    },
    {
      "cell_type": "markdown",
      "metadata": {
        "id": "rWmLSCc1Rz0O"
      },
      "source": [
        "### Modèle 1"
      ]
    },
    {
      "cell_type": "code",
      "execution_count": null,
      "metadata": {
        "id": "EHocco8XRAPv"
      },
      "outputs": [],
      "source": [
        "model_1 = keras.Sequential()\n",
        "model_1.add(keras.layers.Conv2D(32, 3, activation='relu', input_shape=(64, 64, 3), padding='same'))\n",
        "model_1.add(keras.layers.Conv2D(64, 3, activation='relu', padding='same'))\n",
        "model_1.add(keras.layers.Flatten())\n",
        "model_1.add(keras.layers.Dense(128, activation='relu'))\n",
        "model_1.add(keras.layers.Dense(9, activation='softmax'))\n",
        "model_1.summary()\n",
        "\n",
        "model_1.compile(optimizer='adam', loss='SparseCategoricalCrossentropy', metrics=['accuracy'])\n",
        "history_1 = model_1.fit(x_train, y_train, verbose=1, batch_size=128, epochs=100, validation_data=(x_test, y_test), shuffle=True)"
      ]
    },
    {
      "cell_type": "code",
      "execution_count": null,
      "metadata": {
        "colab": {
          "base_uri": "https://localhost:8080/"
        },
        "id": "qfQ3yXIYFSH5",
        "outputId": "8ce9b2bd-8631-4434-e66f-c204a765817a"
      },
      "outputs": [
        {
          "name": "stdout",
          "output_type": "stream",
          "text": [
            "54/54 [==============================] - 0s 6ms/step - loss: 13.1166 - accuracy: 0.2499\n",
            "Test accuracy: 0.24985302984714508\n",
            "Test loss: 13.116606712341309\n"
          ]
        }
      ],
      "source": [
        "test_loss, test_accuracy = model_1.evaluate(x_test, y_test)\n",
        "print(\"Test accuracy: {}\".format(test_accuracy))\n",
        "print(\"Test loss: {}\".format(test_loss))"
      ]
    },
    {
      "cell_type": "code",
      "execution_count": null,
      "metadata": {
        "colab": {
          "base_uri": "https://localhost:8080/",
          "height": 282
        },
        "id": "87doWZGTFWvR",
        "outputId": "18728545-646c-49d9-a8dc-6d5b781add30"
      },
      "outputs": [
        {
          "data": {
            "text/plain": [
              "[<matplotlib.lines.Line2D at 0x7f08703a44c0>]"
            ]
          },
          "execution_count": 6,
          "metadata": {},
          "output_type": "execute_result"
        },
        {
          "data": {
            "image/png": "[encoded data removed]",
            "text/plain": [
              "<Figure size 432x288 with 1 Axes>"
            ]
          },
          "metadata": {},
          "output_type": "display_data"
        }
      ],
      "source": [
        "import matplotlib.pyplot as plt\n",
        "plt.plot(history_1.history[\"loss\"], \"b\")"
      ]
    },
    {
      "cell_type": "markdown",
      "metadata": {
        "id": "HuPF0FlFHM8Z"
      },
      "source": [
        "### Modèle 2"
      ]
    },
    {
      "cell_type": "code",
      "execution_count": null,
      "metadata": {
        "id": "FPKdGBbTHM8e"
      },
      "outputs": [],
      "source": [
        "model_2 = keras.Sequential()\n",
        "model_2.add(keras.layers.Conv2D(64, 3, activation='relu', input_shape=(64, 64, 3), padding='same'))\n",
        "model_2.add(keras.layers.Flatten())\n",
        "model_2.add(keras.layers.Dense(128, activation='relu'))\n",
        "model_2.add(keras.layers.Dense(9, activation='softmax'))\n",
        "model_2.summary()\n",
        "\n",
        "model_2.compile(optimizer='adam', loss='SparseCategoricalCrossentropy', metrics=['accuracy'])\n",
        "history_2 = model_2.fit(x_train, y_train, verbose=1, batch_size=128, epochs=100, validation_data=(x_test, y_test), shuffle=True)"
      ]
    },
    {
      "cell_type": "code",
      "execution_count": null,
      "metadata": {
        "colab": {
          "base_uri": "https://localhost:8080/"
        },
        "id": "GarrRFMdHM8f",
        "outputId": "4be5444a-8be6-4113-ad22-2e32a2bd87af"
      },
      "outputs": [
        {
          "name": "stdout",
          "output_type": "stream",
          "text": [
            "54/54 [==============================] - 0s 4ms/step - loss: 14.9689 - accuracy: 0.3022\n",
            "Test accuracy: 0.3021751940250397\n",
            "Test loss: 14.96892261505127\n"
          ]
        }
      ],
      "source": [
        "test_loss, test_accuracy = model_2.evaluate(x_test, y_test)\n",
        "print(\"Test accuracy: {}\".format(test_accuracy))\n",
        "print(\"Test loss: {}\".format(test_loss))"
      ]
    },
    {
      "cell_type": "code",
      "execution_count": null,
      "metadata": {
        "colab": {
          "base_uri": "https://localhost:8080/",
          "height": 282
        },
        "id": "XJSwz2M-HM8f",
        "outputId": "f9882ea5-fe9c-478c-fe14-bf681dd419f4"
      },
      "outputs": [
        {
          "data": {
            "text/plain": [
              "[<matplotlib.lines.Line2D at 0x7f087043f8e0>]"
            ]
          },
          "execution_count": 9,
          "metadata": {},
          "output_type": "execute_result"
        },
        {
          "data": {
            "image/png": "[encoded data removed]",
            "text/plain": [
              "<Figure size 432x288 with 1 Axes>"
            ]
          },
          "metadata": {},
          "output_type": "display_data"
        }
      ],
      "source": [
        "import matplotlib.pyplot as plt\n",
        "plt.plot(history_2.history[\"loss\"], \"b\")"
      ]
    },
    {
      "cell_type": "markdown",
      "metadata": {
        "id": "trXQvetiIqxh"
      },
      "source": [
        "### Modèle 3"
      ]
    },
    {
      "cell_type": "code",
      "execution_count": null,
      "metadata": {
        "id": "LqmsyVulIqxi"
      },
      "outputs": [],
      "source": [
        "model_3 = keras.Sequential()\n",
        "model_3.add(keras.layers.Conv2D(32, 3, activation='relu', input_shape=(64, 64, 3), padding='same'))\n",
        "model_3.add(keras.layers.Flatten())\n",
        "model_3.add(keras.layers.Dense(64, activation='relu'))\n",
        "model_3.add(keras.layers.Dense(9, activation='softmax'))\n",
        "model_3.summary()\n",
        "\n",
        "model_3.compile(optimizer='adam', loss='SparseCategoricalCrossentropy', metrics=['accuracy'])\n",
        "history_3 = model_3.fit(x_train, y_train, verbose=1, batch_size=128, epochs=60, validation_data=(x_test, y_test), shuffle=True)"
      ]
    },
    {
      "cell_type": "code",
      "execution_count": null,
      "metadata": {
        "colab": {
          "base_uri": "https://localhost:8080/"
        },
        "id": "tlItHcBtIqxi",
        "outputId": "303221a2-bca4-408b-ac36-35aab3877983"
      },
      "outputs": [
        {
          "name": "stdout",
          "output_type": "stream",
          "text": [
            "54/54 [==============================] - 0s 4ms/step - loss: 13.0251 - accuracy: 0.2710\n",
            "Test accuracy: 0.27101704478263855\n",
            "Test loss: 13.02507495880127\n"
          ]
        }
      ],
      "source": [
        "test_loss, test_accuracy = model_3.evaluate(x_test, y_test)\n",
        "print(\"Test accuracy: {}\".format(test_accuracy))\n",
        "print(\"Test loss: {}\".format(test_loss))"
      ]
    },
    {
      "cell_type": "code",
      "execution_count": null,
      "metadata": {
        "colab": {
          "base_uri": "https://localhost:8080/",
          "height": 282
        },
        "id": "M10vSEG3Iqxi",
        "outputId": "71742ff7-013f-4447-c097-9f6f078c79b4"
      },
      "outputs": [
        {
          "data": {
            "text/plain": [
              "[<matplotlib.lines.Line2D at 0x7f085827d160>]"
            ]
          },
          "execution_count": 12,
          "metadata": {},
          "output_type": "execute_result"
        },
        {
          "data": {
            "image/png": "[encoded data removed]",
            "text/plain": [
              "<Figure size 432x288 with 1 Axes>"
            ]
          },
          "metadata": {},
          "output_type": "display_data"
        }
      ],
      "source": [
        "import matplotlib.pyplot as plt\n",
        "plt.plot(history_3.history[\"loss\"], \"b\")"
      ]
    },
    {
      "cell_type": "markdown",
      "metadata": {
        "id": "zOnlD4ePRSOh"
      },
      "source": [
        "## Travail avec Data Augmentation"
      ]
    },
    {
      "cell_type": "code",
      "execution_count": 2,
      "metadata": {
        "id": "Zqq-o6EbSdVx"
      },
      "outputs": [],
      "source": [
        "#Data Augmentation\n",
        "\n",
        "data_augmentation = keras.Sequential(\n",
        "    [\n",
        "      keras.layers.RandomFlip(\"horizontal\"),\n",
        "      keras.layers.RandomRotation(0.1),\n",
        "      keras.layers.RandomZoom(0.2)\n",
        "    ]\n",
        ")\n",
        "\n",
        "inputs = keras.Input(shape=(64, 64, 3))"
      ]
    },
    {
      "cell_type": "markdown",
      "metadata": {
        "id": "7AMrbnhpwxZW"
      },
      "source": [
        "### Modèle 4"
      ]
    },
    {
      "cell_type": "code",
      "execution_count": null,
      "metadata": {
        "id": "p1ZSieNzRjXy"
      },
      "outputs": [],
      "source": [
        "x = data_augmentation(inputs)\n",
        "x = keras.layers.Rescaling(1./255)(x)\n",
        "x = keras.layers.Conv2D(filters=32, kernel_size=3, activation=\"relu\")(x)\n",
        "x = keras.layers.MaxPooling2D(pool_size=2)(x)\n",
        "x = keras.layers.Conv2D(filters=64, kernel_size=3, activation=\"relu\")(x)\n",
        "x = keras.layers.MaxPooling2D(pool_size=2)(x)\n",
        "x = keras.layers.Flatten()(x)\n",
        "x = keras.layers.Dropout(0.5)(x)\n",
        "outputs = keras.layers.Dense(9, activation=\"sigmoid\")(x)\n",
        "model_4 = keras.Model(inputs=inputs, outputs=outputs)\n",
        "\n",
        "model_4.summary()\n",
        "\n",
        "model_4.compile(optimizer='rmsprop', loss='SparseCategoricalCrossentropy', metrics=['accuracy'])\n",
        "\n",
        "callbacks = [\n",
        "  keras.callbacks.ModelCheckpoint(\n",
        "  filepath=\"convnet_from_scratch_with_augmentation.keras\",\n",
        "  save_best_only=True,\n",
        "  monitor=\"val_loss\")\n",
        "]\n",
        "\n",
        "history_4 = model_4.fit(x_train, y_train, epochs=100, validation_data=(x_test, y_test))\n",
        "\n",
        "test_loss, test_accuracy = model_4.evaluate(x_test, y_test)\n",
        "print(\"Test accuracy: {}\".format(test_accuracy))\n",
        "print(\"Test loss: {}\".format(test_loss))\n",
        "\n",
        "import matplotlib.pyplot as plt\n",
        "plt.plot(history_4.history[\"loss\"], \"b\")\n",
        "\n",
        "\n",
        "# Save model\n",
        "from keras.models import model_from_json\n",
        "from pathlib import Path\n",
        "\n",
        "model_structure = model_4.to_json()\n",
        "f = Path(\"drive/MyDrive/DeepLearning_Dataset/model_4_basic.json\")\n",
        "f.write_text(model_structure)\n",
        "\n",
        "model_4.save_weights(\"drive/MyDrive/DeepLearning_Dataset/model_4_basic_weights.h5\")"
      ]
    },
    {
      "cell_type": "code",
      "execution_count": 4,
      "metadata": {
        "colab": {
          "base_uri": "https://localhost:8080/"
        },
        "id": "MlhfCvevo6lu",
        "outputId": "f2b9735c-f1fc-4513-d4ea-69170d4a056f"
      },
      "outputs": [
        {
          "output_type": "stream",
          "name": "stdout",
          "text": [
            "54/54 [==============================] - 0s 5ms/step - loss: 1.7826 - accuracy: 0.4533\n",
            "Test accuracy: 0.4532627761363983\n",
            "Test loss: 1.782606601715088\n"
          ]
        }
      ],
      "source": [
        "test_loss, test_accuracy = model_4.evaluate(x_test, y_test)\n",
        "print(\"Test accuracy: {}\".format(test_accuracy))\n",
        "print(\"Test loss: {}\".format(test_loss))"
      ]
    },
    {
      "cell_type": "code",
      "execution_count": 5,
      "metadata": {
        "colab": {
          "base_uri": "https://localhost:8080/",
          "height": 282
        },
        "id": "JdtReyczo9RE",
        "outputId": "0f2194c5-84d9-42ab-ed92-7f8f6d01fcef"
      },
      "outputs": [
        {
          "output_type": "execute_result",
          "data": {
            "text/plain": [
              "[<matplotlib.lines.Line2D at 0x7f85bc06fe20>]"
            ]
          },
          "metadata": {},
          "execution_count": 5
        },
        {
          "output_type": "display_data",
          "data": {
            "text/plain": [
              "<Figure size 432x288 with 1 Axes>"
            ],
            "image/png": "[encoded data removed]"
          },
          "metadata": {
            "needs_background": "light"
          }
        }
      ],
      "source": [
        "import matplotlib.pyplot as plt\n",
        "plt.plot(history_4.history[\"loss\"], \"b\")"
      ]
    },
    {
      "cell_type": "code",
      "source": [
        "plt.plot(history_4.history[\"accuracy\"], \"b\")\n",
        "plt.plot(history_4.history[\"val_accuracy\"], \"bo\")"
      ],
      "metadata": {
        "colab": {
          "base_uri": "https://localhost:8080/",
          "height": 285
        },
        "id": "7BnJ0tqjTG73",
        "outputId": "ab72552e-6458-4a14-eeb9-a11df13e665d"
      },
      "execution_count": 6,
      "outputs": [
        {
          "output_type": "execute_result",
          "data": {
            "text/plain": [
              "[<matplotlib.lines.Line2D at 0x7f85d0103f10>]"
            ]
          },
          "metadata": {},
          "execution_count": 6
        },
        {
          "output_type": "display_data",
          "data": {
            "text/plain": [
              "<Figure size 432x288 with 1 Axes>"
            ],
            "image/png": "[encoded data removed]"
          },
          "metadata": {
            "needs_background": "light"
          }
        }
      ]
    },
    {
      "cell_type": "markdown",
      "metadata": {
        "id": "aITOYf9lxWZo"
      },
      "source": [
        "### Modèle 5"
      ]
    },
    {
      "cell_type": "code",
      "execution_count": null,
      "metadata": {
        "id": "ePwO4sK3xYMm"
      },
      "outputs": [],
      "source": [
        "x = data_augmentation(inputs)\n",
        "x = keras.layers.Rescaling(1./255)(x)\n",
        "x = keras.layers.Conv2D(64, 3, activation='relu', input_shape=(64, 64, 3), padding='same')(x)\n",
        "x = keras.layers.Flatten()(x)\n",
        "x = keras.layers.Dense(128, activation='relu')(x)\n",
        "outputs = keras.layers.Dense(9, activation='softmax')(x)\n",
        "model_5 = keras.Model(inputs=inputs, outputs=outputs)\n",
        "\n",
        "model_5.summary()\n",
        "\n",
        "model_5.compile(optimizer='adam', loss='SparseCategoricalCrossentropy', metrics=['accuracy'])\n",
        "\n",
        "callbacks = [\n",
        "  keras.callbacks.ModelCheckpoint(\n",
        "  filepath=\"convnet_from_scratch_with_augmentation.keras\",\n",
        "  save_best_only=True,\n",
        "  monitor=\"val_loss\")\n",
        "]\n",
        "\n",
        "history_5 = model_5.fit(x_train, y_train, epochs=100, validation_data=(x_test, y_test))\n",
        "\n",
        "test_loss, test_accuracy = model_5.evaluate(x_test, y_test)\n",
        "print(\"Test accuracy: {}\".format(test_accuracy))\n",
        "print(\"Test loss: {}\".format(test_loss))\n",
        "\n",
        "import matplotlib.pyplot as plt\n",
        "plt.plot(history_5.history[\"loss\"], \"b\")"
      ]
    },
    {
      "cell_type": "code",
      "execution_count": null,
      "metadata": {
        "colab": {
          "base_uri": "https://localhost:8080/"
        },
        "id": "4rEN8zSyyE9R",
        "outputId": "967208d4-341f-48cc-da61-54d2a5d0832b"
      },
      "outputs": [
        {
          "name": "stdout",
          "output_type": "stream",
          "text": [
            "54/54 [==============================] - 0s 4ms/step - loss: 3.3699 - accuracy: 0.3698\n",
            "Test accuracy: 0.3697824776172638\n",
            "Test loss: 3.369896650314331\n"
          ]
        }
      ],
      "source": [
        "test_loss, test_accuracy = model_5.evaluate(x_test, y_test)\n",
        "print(\"Test accuracy: {}\".format(test_accuracy))\n",
        "print(\"Test loss: {}\".format(test_loss))"
      ]
    },
    {
      "cell_type": "code",
      "execution_count": null,
      "metadata": {
        "colab": {
          "base_uri": "https://localhost:8080/"
        },
        "id": "RWTztSWjyIDR",
        "outputId": "37d405cb-e3ce-4688-d8b8-08f11137ca68"
      },
      "outputs": [
        {
          "data": {
            "text/plain": [
              "[<matplotlib.lines.Line2D at 0x7f07f0be77f0>]"
            ]
          },
          "execution_count": 19,
          "metadata": {},
          "output_type": "execute_result"
        },
        {
          "data": {
            "image/png": "[encoded data removed]",
            "text/plain": [
              "<Figure size 432x288 with 1 Axes>"
            ]
          },
          "metadata": {},
          "output_type": "display_data"
        }
      ],
      "source": [
        "import matplotlib.pyplot as plt\n",
        "plt.plot(history_5.history[\"loss\"], \"b\")"
      ]
    },
    {
      "cell_type": "markdown",
      "metadata": {
        "id": "fsUqWgDhJ5m6"
      },
      "source": [
        "### Modèle 6"
      ]
    },
    {
      "cell_type": "code",
      "execution_count": null,
      "metadata": {
        "id": "X70AEvL3J7ZC"
      },
      "outputs": [],
      "source": [
        "x = data_augmentation(inputs)\n",
        "x = keras.layers.Rescaling(1./255)(x)\n",
        "x = keras.layers.Conv2D(filters=32, kernel_size=3, activation=\"relu\")(x)\n",
        "x = keras.layers.MaxPooling2D(pool_size=2)(x)\n",
        "x = keras.layers.Conv2D(filters=64, kernel_size=3, activation=\"relu\")(x)\n",
        "x = keras.layers.MaxPooling2D(pool_size=2)(x)\n",
        "x = keras.layers.Flatten()(x)\n",
        "x = keras.layers.Dropout(0.5)(x)\n",
        "outputs = keras.layers.Dense(9, activation=\"sigmoid\")(x)\n",
        "model_6 = keras.Model(inputs=inputs, outputs=outputs)\n",
        "\n",
        "\n",
        "model_6.summary()\n",
        "\n",
        "model_6.compile(optimizer='rmsprop', loss='SparseCategoricalCrossentropy', metrics=['accuracy'])\n",
        "\n",
        "callbacks = [\n",
        "  keras.callbacks.ModelCheckpoint(\n",
        "  filepath=\"convnet_from_scratch_with_augmentation.keras\",\n",
        "  save_best_only=True,\n",
        "  monitor=\"val_loss\")\n",
        "]\n",
        "\n",
        "history_6 = model_6.fit(x_train, y_train, epochs=100, validation_data=(x_test, y_test), shuffle=True)\n",
        "\n",
        "test_loss, test_accuracy = model_6.evaluate(x_test, y_test)\n",
        "print(\"Test accuracy: {}\".format(test_accuracy))\n",
        "print(\"Test loss: {}\".format(test_loss))\n",
        "\n",
        "import matplotlib.pyplot as plt\n",
        "plt.plot(history_6.history[\"loss\"], \"b\")"
      ]
    },
    {
      "cell_type": "code",
      "execution_count": null,
      "metadata": {
        "colab": {
          "base_uri": "https://localhost:8080/"
        },
        "id": "e5LHMSvwyQ8y",
        "outputId": "bac7c2f5-9e71-4fa5-e54b-773f497dc7f1"
      },
      "outputs": [
        {
          "name": "stdout",
          "output_type": "stream",
          "text": [
            "54/54 [==============================] - 0s 3ms/step - loss: 1.6331 - accuracy: 0.4480\n",
            "Test accuracy: 0.44797179102897644\n",
            "Test loss: 1.6331396102905273\n"
          ]
        }
      ],
      "source": [
        "test_loss, test_accuracy = model_6.evaluate(x_test, y_test)\n",
        "print(\"Test accuracy: {}\".format(test_accuracy))\n",
        "print(\"Test loss: {}\".format(test_loss))"
      ]
    },
    {
      "cell_type": "code",
      "execution_count": null,
      "metadata": {
        "colab": {
          "base_uri": "https://localhost:8080/",
          "height": 282
        },
        "id": "CsDnUyNNLZgQ",
        "outputId": "f755af8b-171f-46d3-cf8f-a841f4a1cadc"
      },
      "outputs": [
        {
          "data": {
            "text/plain": [
              "[<matplotlib.lines.Line2D at 0x7f07d82f7f10>]"
            ]
          },
          "execution_count": 23,
          "metadata": {},
          "output_type": "execute_result"
        },
        {
          "data": {
            "image/png": "[encoded data removed]",
            "text/plain": [
              "<Figure size 432x288 with 1 Axes>"
            ]
          },
          "metadata": {},
          "output_type": "display_data"
        }
      ],
      "source": [
        "\n",
        "import matplotlib.pyplot as plt\n",
        "plt.plot(history_6.history[\"loss\"], \"b\")"
      ]
    },
    {
      "cell_type": "markdown",
      "metadata": {
        "id": "nULdrMqXDBiC"
      },
      "source": [
        "### Modèle 7"
      ]
    },
    {
      "cell_type": "code",
      "execution_count": null,
      "metadata": {
        "id": "lwBOLBSPDDPF"
      },
      "outputs": [],
      "source": [
        "x = data_augmentation(inputs)\n",
        "x = keras.layers.Rescaling(1./255)(x)\n",
        "x = keras.layers.Conv2D(filters=32, kernel_size=3, activation=\"relu\")(x)\n",
        "x = keras.layers.MaxPooling2D(pool_size=2)(x)\n",
        "x = keras.layers.Conv2D(filters=64, kernel_size=3, activation=\"relu\")(x)\n",
        "x = keras.layers.MaxPooling2D(pool_size=2)(x)\n",
        "x = keras.layers.Conv2D(filters=128, kernel_size=3, activation=\"relu\")(x)\n",
        "x = keras.layers.MaxPooling2D(pool_size=2)(x)\n",
        "x = keras.layers.Conv2D(filters=256, kernel_size=3, activation=\"relu\")(x)\n",
        "x = keras.layers.MaxPooling2D(pool_size=2)(x)\n",
        "x = keras.layers.Flatten()(x)\n",
        "x = keras.layers.Dropout(0.5)(x)\n",
        "outputs = keras.layers.Dense(9, activation=\"sigmoid\")(x)\n",
        "model_7 = keras.Model(inputs=inputs, outputs=outputs)\n",
        "\n",
        "model_7.summary()\n",
        "\n",
        "model_7.compile(optimizer='rmsprop', loss='SparseCategoricalCrossentropy', metrics=['accuracy'])\n",
        "\n",
        "callbacks = [\n",
        "  keras.callbacks.ModelCheckpoint(\n",
        "  filepath=\"convnet_from_scratch_with_augmentation.keras\",\n",
        "  save_best_only=True,\n",
        "  monitor=\"val_loss\")\n",
        "]\n",
        "\n",
        "history_7 = model_7.fit(x_train, y_train, epochs=100, validation_data=(x_test, y_test), shuffle=True)\n",
        "\n",
        "test_loss, test_accuracy = model_7.evaluate(x_test, y_test)\n",
        "print(\"Test accuracy: {}\".format(test_accuracy))\n",
        "print(\"Test loss: {}\".format(test_loss))\n",
        "\n",
        "import matplotlib.pyplot as plt\n",
        "plt.plot(history_7.history[\"loss\"], \"b\")"
      ]
    },
    {
      "cell_type": "code",
      "execution_count": null,
      "metadata": {
        "colab": {
          "base_uri": "https://localhost:8080/"
        },
        "id": "3mO-HQTkREPi",
        "outputId": "5065fcfc-4607-4ae4-a92b-579c8bd24342"
      },
      "outputs": [
        {
          "name": "stdout",
          "output_type": "stream",
          "text": [
            "54/54 [==============================] - 0s 4ms/step - loss: 1.8162 - accuracy: 0.3898\n",
            "Test accuracy: 0.3897707164287567\n",
            "Test loss: 1.8161979913711548\n"
          ]
        }
      ],
      "source": [
        "test_loss, test_accuracy = model_7.evaluate(x_test, y_test)\n",
        "print(\"Test accuracy: {}\".format(test_accuracy))\n",
        "print(\"Test loss: {}\".format(test_loss))"
      ]
    },
    {
      "cell_type": "code",
      "execution_count": null,
      "metadata": {
        "colab": {
          "base_uri": "https://localhost:8080/",
          "height": 282
        },
        "id": "bMa8f6K7RFuS",
        "outputId": "9934730f-71d7-4d36-bbae-5bcf0265eb08"
      },
      "outputs": [
        {
          "data": {
            "text/plain": [
              "[<matplotlib.lines.Line2D at 0x7f044f6b3340>]"
            ]
          },
          "execution_count": 27,
          "metadata": {},
          "output_type": "execute_result"
        },
        {
          "data": {
            "image/png": "[encoded data removed]",
            "text/plain": [
              "<Figure size 432x288 with 1 Axes>"
            ]
          },
          "metadata": {},
          "output_type": "display_data"
        }
      ],
      "source": [
        "import matplotlib.pyplot as plt\n",
        "plt.plot(history_7.history[\"loss\"], \"b\")"
      ]
    },
    {
      "cell_type": "markdown",
      "metadata": {
        "id": "31FIjaV6Q7V8"
      },
      "source": [
        "### Modèle 8"
      ]
    },
    {
      "cell_type": "code",
      "execution_count": null,
      "metadata": {
        "id": "7YqQizHAQ68M"
      },
      "outputs": [],
      "source": [
        "x = data_augmentation(inputs)\n",
        "x = keras.layers.Rescaling(1./255)(x)\n",
        "x = keras.layers.Conv2D(filters=32, kernel_size=3, activation=\"relu\")(x)\n",
        "x = keras.layers.MaxPooling2D(pool_size=2)(x)\n",
        "x = keras.layers.Conv2D(filters=64, kernel_size=3, activation=\"relu\")(x)\n",
        "x = keras.layers.MaxPooling2D(pool_size=2)(x)\n",
        "x = keras.layers.Conv2D(filters=128, kernel_size=3, activation=\"relu\")(x)\n",
        "x = keras.layers.MaxPooling2D(pool_size=2)(x)\n",
        "x = keras.layers.Conv2D(filters=256, kernel_size=3, activation=\"relu\")(x)\n",
        "x = keras.layers.Flatten()(x)\n",
        "x = keras.layers.Dropout(0.5)(x)\n",
        "outputs = keras.layers.Dense(9, activation=\"sigmoid\")(x)\n",
        "model_8 = keras.Model(inputs=inputs, outputs=outputs)\n",
        "\n",
        "model_8.summary()\n",
        "\n",
        "model_8.compile(optimizer='rmsprop', loss='SparseCategoricalCrossentropy', metrics=['accuracy'])\n",
        "\n",
        "callbacks = [\n",
        "  keras.callbacks.ModelCheckpoint(\n",
        "  filepath=\"convnet_from_scratch_with_augmentation.keras\",\n",
        "  save_best_only=True,\n",
        "  monitor=\"val_loss\")\n",
        "]\n",
        "\n",
        "history_8 = model_8.fit(x_train, y_train, epochs=100, validation_data=(x_test, y_test), shuffle=True)\n",
        "\n",
        "test_loss, test_accuracy = model_8.evaluate(x_test, y_test)\n",
        "print(\"Test accuracy: {}\".format(test_accuracy))\n",
        "print(\"Test loss: {}\".format(test_loss))\n",
        "\n",
        "import matplotlib.pyplot as plt\n",
        "plt.plot(history_8.history[\"loss\"], \"b\")"
      ]
    },
    {
      "cell_type": "code",
      "execution_count": null,
      "metadata": {
        "colab": {
          "base_uri": "https://localhost:8080/"
        },
        "id": "19vrNP6hRINb",
        "outputId": "2ef7b59a-5ec3-4467-d3d3-8fe325ba7dc4"
      },
      "outputs": [
        {
          "name": "stdout",
          "output_type": "stream",
          "text": [
            "54/54 [==============================] - 0s 4ms/step - loss: 2.6481 - accuracy: 0.4098\n",
            "Test accuracy: 0.40975895524024963\n",
            "Test loss: 2.648073196411133\n"
          ]
        }
      ],
      "source": [
        "test_loss, test_accuracy = model_8.evaluate(x_test, y_test)\n",
        "print(\"Test accuracy: {}\".format(test_accuracy))\n",
        "print(\"Test loss: {}\".format(test_loss))"
      ]
    },
    {
      "cell_type": "code",
      "execution_count": null,
      "metadata": {
        "colab": {
          "base_uri": "https://localhost:8080/",
          "height": 282
        },
        "id": "wLCt32imRJaX",
        "outputId": "1147c0d0-d3d2-492d-b910-4248ad70d0d8"
      },
      "outputs": [
        {
          "data": {
            "text/plain": [
              "[<matplotlib.lines.Line2D at 0x7f07f1bec4f0>]"
            ]
          },
          "execution_count": 30,
          "metadata": {},
          "output_type": "execute_result"
        },
        {
          "data": {
            "image/png": "[encoded data removed]",
            "text/plain": [
              "<Figure size 432x288 with 1 Axes>"
            ]
          },
          "metadata": {},
          "output_type": "display_data"
        }
      ],
      "source": [
        "\n",
        "import matplotlib.pyplot as plt\n",
        "plt.plot(history_8.history[\"loss\"], \"b\")"
      ]
    },
    {
      "cell_type": "markdown",
      "metadata": {
        "id": "mZxmE_MDTYOG"
      },
      "source": [
        "### Modèle 9"
      ]
    },
    {
      "cell_type": "code",
      "execution_count": null,
      "metadata": {
        "id": "e9CM26aITaKT"
      },
      "outputs": [],
      "source": [
        "x = data_augmentation(inputs)\n",
        "x = keras.layers.Rescaling(1./255)(x)\n",
        "x = keras.layers.Conv2D(filters=32, kernel_size=3, activation=\"relu\")(x)\n",
        "x = keras.layers.MaxPooling2D(pool_size=2)(x)\n",
        "x = keras.layers.Conv2D(filters=64, kernel_size=3, activation=\"relu\")(x)\n",
        "x = keras.layers.MaxPooling2D(pool_size=2)(x)\n",
        "x = keras.layers.Conv2D(filters=128, kernel_size=3, activation=\"relu\")(x)\n",
        "x = keras.layers.MaxPooling2D(pool_size=2)(x)\n",
        "x = keras.layers.Flatten()(x)\n",
        "x = keras.layers.Dropout(0.5)(x)\n",
        "outputs = keras.layers.Dense(9, activation=\"sigmoid\")(x)\n",
        "model_9 = keras.Model(inputs=inputs, outputs=outputs)\n",
        "\n",
        "model_9.summary()\n",
        "\n",
        "model_9.compile(optimizer='rmsprop', loss='SparseCategoricalCrossentropy', metrics=['accuracy'])\n",
        "\n",
        "callbacks = [\n",
        "  keras.callbacks.ModelCheckpoint(\n",
        "  filepath=\"convnet_from_scratch_with_augmentation.keras\",\n",
        "  save_best_only=True,\n",
        "  monitor=\"val_loss\")\n",
        "]\n",
        "\n",
        "history_9 = model_9.fit(x_train, y_train, epochs=100, validation_data=(x_test, y_test), shuffle=True)\n",
        "\n",
        "test_loss, test_accuracy = model_9.evaluate(x_test, y_test)\n",
        "print(\"Test accuracy: {}\".format(test_accuracy))\n",
        "print(\"Test loss: {}\".format(test_loss))\n",
        "\n",
        "import matplotlib.pyplot as plt\n",
        "plt.plot(history_9.history[\"loss\"], \"b\")"
      ]
    },
    {
      "cell_type": "code",
      "execution_count": 38,
      "metadata": {
        "colab": {
          "base_uri": "https://localhost:8080/"
        },
        "id": "c4KJC_TzTiIV",
        "outputId": "596488ac-4c1c-47e8-b900-264283436ddf"
      },
      "outputs": [
        {
          "output_type": "stream",
          "name": "stdout",
          "text": [
            "54/54 [==============================] - 0s 4ms/step - loss: 1.6683 - accuracy: 0.4962\n",
            "Test accuracy: 0.4961787164211273\n",
            "Test loss: 1.6683247089385986\n"
          ]
        }
      ],
      "source": [
        "test_loss, test_accuracy = model_9.evaluate(x_test, y_test)\n",
        "print(\"Test accuracy: {}\".format(test_accuracy))\n",
        "print(\"Test loss: {}\".format(test_loss))\n"
      ]
    },
    {
      "cell_type": "code",
      "execution_count": 39,
      "metadata": {
        "colab": {
          "base_uri": "https://localhost:8080/",
          "height": 282
        },
        "id": "L7XdVyf9Tit-",
        "outputId": "a9e56884-ce19-4f71-87d4-22be9d430c30"
      },
      "outputs": [
        {
          "output_type": "execute_result",
          "data": {
            "text/plain": [
              "[<matplotlib.lines.Line2D at 0x7f852b147640>]"
            ]
          },
          "metadata": {},
          "execution_count": 39
        },
        {
          "output_type": "display_data",
          "data": {
            "text/plain": [
              "<Figure size 432x288 with 1 Axes>"
            ],
            "image/png": "[encoded data removed]"
          },
          "metadata": {
            "needs_background": "light"
          }
        }
      ],
      "source": [
        "import matplotlib.pyplot as plt\n",
        "plt.plot(history_9.history[\"loss\"], \"b\")"
      ]
    },
    {
      "cell_type": "code",
      "source": [
        "plt.plot(history_9.history[\"accuracy\"], \"b\")\n",
        "plt.plot(history_9.history[\"val_accuracy\"], \"bo\")"
      ],
      "metadata": {
        "colab": {
          "base_uri": "https://localhost:8080/",
          "height": 282
        },
        "id": "iJBbD5QoeEcG",
        "outputId": "88d816af-1bbd-4517-c46e-4e3f1ee5f2e6"
      },
      "execution_count": 41,
      "outputs": [
        {
          "output_type": "execute_result",
          "data": {
            "text/plain": [
              "[<matplotlib.lines.Line2D at 0x7f85d008acd0>]"
            ]
          },
          "metadata": {},
          "execution_count": 41
        },
        {
          "output_type": "display_data",
          "data": {
            "text/plain": [
              "<Figure size 432x288 with 1 Axes>"
            ],
            "image/png": "[encoded data removed]"
          },
          "metadata": {
            "needs_background": "light"
          }
        }
      ]
    },
    {
      "cell_type": "code",
      "source": [
        "# Save model\n",
        "from keras.models import model_from_json\n",
        "from pathlib import Path\n",
        "\n",
        "model_structure = model_9.to_json()\n",
        "f = Path(\"drive/MyDrive/DeepLearning_Dataset/model_9_basic.json\")\n",
        "f.write_text(model_structure)\n",
        "\n",
        "model_9.save_weights(\"drive/MyDrive/DeepLearning_Dataset/model_9_basic_weights.h5\")"
      ],
      "metadata": {
        "id": "reUqJ6ETgp9n"
      },
      "execution_count": 42,
      "outputs": []
    },
    {
      "cell_type": "markdown",
      "metadata": {
        "id": "e7vkYjw2Tjn2"
      },
      "source": [
        "### Modèle 10"
      ]
    },
    {
      "cell_type": "code",
      "execution_count": null,
      "metadata": {
        "id": "vafAOQbUTko7"
      },
      "outputs": [],
      "source": [
        "x = data_augmentation(inputs)\n",
        "x = keras.layers.Rescaling(1./255)(x)\n",
        "x = keras.layers.Conv2D(filters=32, kernel_size=3, activation=\"relu\")(x)\n",
        "x = keras.layers.MaxPooling2D(pool_size=2)(x)\n",
        "x = keras.layers.Conv2D(filters=64, kernel_size=3, activation=\"relu\")(x)\n",
        "x = keras.layers.MaxPooling2D(pool_size=2)(x)\n",
        "x = keras.layers.Conv2D(filters=128, kernel_size=3, activation=\"relu\")(x)\n",
        "x = keras.layers.Flatten()(x)\n",
        "x = keras.layers.Dropout(0.5)(x)\n",
        "outputs = keras.layers.Dense(9, activation=\"sigmoid\")(x)\n",
        "model_10 = keras.Model(inputs=inputs, outputs=outputs)\n",
        "\n",
        "model_10.summary()\n",
        "\n",
        "model_10.compile(optimizer='rmsprop', loss='SparseCategoricalCrossentropy', metrics=['accuracy'])\n",
        "\n",
        "callbacks = [\n",
        "  keras.callbacks.ModelCheckpoint(\n",
        "  filepath=\"convnet_from_scratch_with_augmentation.keras\",\n",
        "  save_best_only=True,\n",
        "  monitor=\"val_loss\")\n",
        "]\n",
        "\n",
        "history_10 = model_10.fit(x_train, y_train, epochs=100, validation_data=(x_test, y_test), shuffle=True)\n",
        "\n",
        "test_loss, test_accuracy = model_10.evaluate(x_test, y_test)\n",
        "print(\"Test accuracy: {}\".format(test_accuracy))\n",
        "print(\"Test loss: {}\".format(test_loss))\n",
        "\n",
        "import matplotlib.pyplot as plt\n",
        "plt.plot(history_10.history[\"loss\"], \"b\")"
      ]
    },
    {
      "cell_type": "code",
      "execution_count": null,
      "metadata": {
        "colab": {
          "base_uri": "https://localhost:8080/"
        },
        "id": "i0NTwfWwTtwZ",
        "outputId": "60f3949b-2ea0-4b85-f3fa-d9688bea2b01"
      },
      "outputs": [
        {
          "name": "stdout",
          "output_type": "stream",
          "text": [
            "54/54 [==============================] - 3s 46ms/step - loss: 2.5168 - accuracy: 0.4180\n",
            "Test accuracy: 0.41798943281173706\n",
            "Test loss: 2.5167644023895264\n"
          ]
        }
      ],
      "source": [
        "test_loss, test_accuracy = model_10.evaluate(x_test, y_test)\n",
        "print(\"Test accuracy: {}\".format(test_accuracy))\n",
        "print(\"Test loss: {}\".format(test_loss))"
      ]
    },
    {
      "cell_type": "code",
      "execution_count": null,
      "metadata": {
        "colab": {
          "base_uri": "https://localhost:8080/",
          "height": 283
        },
        "id": "gbEs_6JLTvF4",
        "outputId": "32fd8613-efc8-4bdc-c96c-efc4a6eb50f2"
      },
      "outputs": [
        {
          "data": {
            "text/plain": [
              "[<matplotlib.lines.Line2D at 0x7f3a8fe84820>]"
            ]
          },
          "execution_count": 6,
          "metadata": {},
          "output_type": "execute_result"
        },
        {
          "data": {
            "image/png": "[encoded data removed]",
            "text/plain": [
              "<Figure size 432x288 with 1 Axes>"
            ]
          },
          "metadata": {},
          "output_type": "display_data"
        }
      ],
      "source": [
        "import matplotlib.pyplot as plt\n",
        "plt.plot(history_10.history[\"loss\"], \"b\")"
      ]
    },
    {
      "cell_type": "markdown",
      "metadata": {
        "id": "36wGIX0aTHwF"
      },
      "source": [
        "### Modèle 11"
      ]
    },
    {
      "cell_type": "code",
      "execution_count": null,
      "metadata": {
        "id": "A0h-dxF_UPJW"
      },
      "outputs": [],
      "source": [
        "x = data_augmentation(inputs)\n",
        "x = keras.layers.Rescaling(1./255)(x)\n",
        "x = keras.layers.Conv2D(32, 3, activation='relu', input_shape=(64, 64, 3), padding='same')(x)\n",
        "x = keras.layers.Conv2D(64, 3, activation='relu', padding='same')(x)\n",
        "x = keras.layers.Flatten()(x)\n",
        "x = keras.layers.Dense(128, activation='relu')(x)\n",
        "outputs = keras.layers.Dense(9, activation='softmax')(x)\n",
        "\n",
        "model_11 = keras.Model(inputs=inputs, outputs=outputs)\n",
        "\n",
        "model_11.summary()\n",
        "\n",
        "model_11.compile(optimizer='adam', loss='SparseCategoricalCrossentropy', metrics=['accuracy'])\n",
        "history_11 = model_11.fit(x_train, y_train, verbose=1, epochs=100, validation_data=(x_test, y_test), shuffle=True)\n",
        "\n",
        "test_loss, test_accuracy = model_11.evaluate(x_test, y_test)\n",
        "print(\"Test accuracy: {}\".format(test_accuracy))\n",
        "print(\"Test loss: {}\".format(test_loss))\n",
        "\n",
        "import matplotlib.pyplot as plt\n",
        "plt.plot(history_11.history[\"loss\"], \"b\")"
      ]
    },
    {
      "cell_type": "code",
      "execution_count": null,
      "metadata": {
        "id": "Q9q5EY3NTM_6",
        "colab": {
          "base_uri": "https://localhost:8080/"
        },
        "outputId": "8d81be54-c5ba-4b7c-b39f-6e8573f149a3"
      },
      "outputs": [
        {
          "output_type": "stream",
          "name": "stdout",
          "text": [
            "54/54 [==============================] - 0s 5ms/step - loss: 3.9400 - accuracy: 0.4080\n",
            "Test accuracy: 0.4079952836036682\n",
            "Test loss: 3.9400100708007812\n"
          ]
        }
      ],
      "source": [
        "test_loss, test_accuracy = model_11.evaluate(x_test, y_test)\n",
        "print(\"Test accuracy: {}\".format(test_accuracy))\n",
        "print(\"Test loss: {}\".format(test_loss))"
      ]
    },
    {
      "cell_type": "code",
      "execution_count": null,
      "metadata": {
        "id": "t2jB18IqTNSq",
        "colab": {
          "base_uri": "https://localhost:8080/",
          "height": 282
        },
        "outputId": "089c32c5-6f80-4f6b-f8d5-69d5d2ae50c7"
      },
      "outputs": [
        {
          "output_type": "execute_result",
          "data": {
            "text/plain": [
              "[<matplotlib.lines.Line2D at 0x7fe95e4c6b80>]"
            ]
          },
          "metadata": {},
          "execution_count": 6
        },
        {
          "output_type": "display_data",
          "data": {
            "text/plain": [
              "<Figure size 432x288 with 1 Axes>"
            ],
            "image/png": "[encoded data removed]"
          },
          "metadata": {
            "needs_background": "light"
          }
        }
      ],
      "source": [
        "import matplotlib.pyplot as plt\n",
        "plt.plot(history_11.history[\"loss\"], \"b\")"
      ]
    },
    {
      "cell_type": "markdown",
      "source": [
        "### Modèle 12"
      ],
      "metadata": {
        "id": "Wi94eMuDL-0m"
      }
    },
    {
      "cell_type": "code",
      "source": [
        "x = data_augmentation(inputs)\n",
        "x = keras.layers.Rescaling(1./255)(x)\n",
        "x = keras.layers.Conv2D(32, 3, activation='relu', input_shape=(64, 64, 3), padding='same')(x)\n",
        "x = keras.layers.Conv2D(64, 3, activation='relu', padding='same')(x)\n",
        "x = keras.layers.Flatten()(x)\n",
        "x = keras.layers.Dropout(0.5)(x)\n",
        "x = keras.layers.Dense(128, activation='relu')(x)\n",
        "outputs = keras.layers.Dense(9, activation='softmax')(x)\n",
        "\n",
        "model_12 = keras.Model(inputs=inputs, outputs=outputs)\n",
        "\n",
        "model_12.summary()\n",
        "\n",
        "model_12.compile(optimizer='adam', loss='SparseCategoricalCrossentropy', metrics=['accuracy'])\n",
        "history_12 = model_12.fit(x_train, y_train, verbose=1, epochs=100, validation_data=(x_test, y_test), shuffle=True)\n",
        "\n",
        "test_loss, test_accuracy = model_12.evaluate(x_test, y_test)\n",
        "print(\"Test accuracy: {}\".format(test_accuracy))\n",
        "print(\"Test loss: {}\".format(test_loss))\n",
        "\n",
        "import matplotlib.pyplot as plt\n",
        "plt.plot(history_12.history[\"loss\"], \"b\")"
      ],
      "metadata": {
        "id": "_vkT1qD5BbPT"
      },
      "execution_count": null,
      "outputs": []
    },
    {
      "cell_type": "code",
      "source": [
        "test_loss, test_accuracy = model_12.evaluate(x_test, y_test)\n",
        "print(\"Test accuracy: {}\".format(test_accuracy))\n",
        "print(\"Test loss: {}\".format(test_loss))"
      ],
      "metadata": {
        "colab": {
          "base_uri": "https://localhost:8080/"
        },
        "id": "q92Y3-s-MFoo",
        "outputId": "deaef2cc-e5ac-46b6-f5ea-130c2ab6c153"
      },
      "execution_count": null,
      "outputs": [
        {
          "output_type": "stream",
          "name": "stdout",
          "text": [
            "54/54 [==============================] - 0s 5ms/step - loss: 3.6409 - accuracy: 0.3980\n",
            "Test accuracy: 0.39800116419792175\n",
            "Test loss: 3.640939235687256\n"
          ]
        }
      ]
    },
    {
      "cell_type": "code",
      "source": [
        "import matplotlib.pyplot as plt\n",
        "plt.plot(history_12.history[\"loss\"], \"b\")"
      ],
      "metadata": {
        "colab": {
          "base_uri": "https://localhost:8080/",
          "height": 283
        },
        "id": "7rF-EvsnMG4l",
        "outputId": "ddf08afc-9414-4c7f-9f66-a664f5d18b1f"
      },
      "execution_count": null,
      "outputs": [
        {
          "output_type": "execute_result",
          "data": {
            "text/plain": [
              "[<matplotlib.lines.Line2D at 0x7f263a9cbf40>]"
            ]
          },
          "metadata": {},
          "execution_count": 5
        },
        {
          "output_type": "display_data",
          "data": {
            "text/plain": [
              "<Figure size 432x288 with 1 Axes>"
            ],
            "image/png": "[encoded data removed]"
          },
          "metadata": {
            "needs_background": "light"
          }
        }
      ]
    },
    {
      "cell_type": "markdown",
      "source": [
        "### Modèle 13"
      ],
      "metadata": {
        "id": "qoF3ML0paw3f"
      }
    },
    {
      "cell_type": "code",
      "source": [
        "x = data_augmentation(inputs)\n",
        "x = keras.layers.Rescaling(1./255)(x)\n",
        "x = keras.layers.Conv2D(32, (3, 3), padding='same', input_shape=(64, 64, 3), activation=\"relu\")(x)\n",
        "x = keras.layers.Conv2D(32, (3, 3), activation=\"relu\")(x)\n",
        "x = keras.layers.MaxPooling2D(pool_size=(2, 2))(x)\n",
        "x = keras.layers.Dropout(0.25)(x)\n",
        "x = keras.layers.Conv2D(64, (3, 3), padding='same', activation=\"relu\")(x)\n",
        "x = keras.layers.Conv2D(64, (3, 3), activation=\"relu\")(x)\n",
        "x = keras.layers.MaxPooling2D(pool_size=(2, 2))(x)\n",
        "x = keras.layers.Dropout(0.25)(x)\n",
        "x = keras.layers.Flatten()(x)\n",
        "x = keras.layers.Dense(512, activation=\"relu\")(x)\n",
        "x = keras.layers.Dropout(0.5)(x)\n",
        "outputs = keras.layers.Dense(9, activation=\"softmax\")(x)\n",
        "\n",
        "model_13 = keras.Model(inputs=inputs, outputs=outputs)\n",
        "\n",
        "model_13.summary()\n",
        "\n",
        "model_13.compile(optimizer='adam', loss='SparseCategoricalCrossentropy', metrics=['accuracy'])\n",
        "history_13 = model_13.fit(x_train, y_train, verbose=1, epochs=100, validation_data=(x_test, y_test), shuffle=True)\n",
        "\n",
        "test_loss, test_accuracy = model_13.evaluate(x_test, y_test)\n",
        "print(\"Test accuracy: {}\".format(test_accuracy))\n",
        "print(\"Test loss: {}\".format(test_loss))\n",
        "\n",
        "import matplotlib.pyplot as plt\n",
        "plt.plot(history_13.history[\"loss\"], \"b\")"
      ],
      "metadata": {
        "id": "QSYx0PvlayJC"
      },
      "execution_count": null,
      "outputs": []
    },
    {
      "cell_type": "code",
      "source": [
        "test_loss, test_accuracy = model_13.evaluate(x_test, y_test)\n",
        "print(\"Test accuracy: {}\".format(test_accuracy))\n",
        "print(\"Test loss: {}\".format(test_loss))\n"
      ],
      "metadata": {
        "colab": {
          "base_uri": "https://localhost:8080/"
        },
        "id": "c0U28LRFbbrM",
        "outputId": "fd08c904-0e5e-4494-952c-29161ca81423"
      },
      "execution_count": null,
      "outputs": [
        {
          "output_type": "stream",
          "name": "stdout",
          "text": [
            "54/54 [==============================] - 0s 6ms/step - loss: 2.0716 - accuracy: 0.4609\n",
            "Test accuracy: 0.4609053432941437\n",
            "Test loss: 2.0716123580932617\n"
          ]
        }
      ]
    },
    {
      "cell_type": "code",
      "source": [
        "import matplotlib.pyplot as plt\n",
        "plt.plot(history_13.history[\"loss\"], \"b\")"
      ],
      "metadata": {
        "colab": {
          "base_uri": "https://localhost:8080/",
          "height": 282
        },
        "id": "a2xSnQusbdBn",
        "outputId": "11e89a6e-0b0f-419a-ac57-2a0ead7cf4e4"
      },
      "execution_count": null,
      "outputs": [
        {
          "output_type": "execute_result",
          "data": {
            "text/plain": [
              "[<matplotlib.lines.Line2D at 0x7fa4d7d1f250>]"
            ]
          },
          "metadata": {},
          "execution_count": 8
        },
        {
          "output_type": "display_data",
          "data": {
            "text/plain": [
              "<Figure size 432x288 with 1 Axes>"
            ],
            "image/png": "[encoded data removed]"
          },
          "metadata": {
            "needs_background": "light"
          }
        }
      ]
    },
    {
      "cell_type": "markdown",
      "source": [
        "## Tests"
      ],
      "metadata": {
        "id": "RCnCv31moNJp"
      }
    },
    {
      "cell_type": "code",
      "source": [
        "from google.colab import drive\n",
        "from pathlib import Path\n",
        "from keras.models import model_from_json\n",
        "\n",
        "drive.mount('/content/drive')\n",
        "# Load the json file that contains the model's structure\n",
        "f = Path(\"/content/drive/MyDrive/DeepLearning_Dataset/model_4_basic.json\")\n",
        "model_structure = f.read_text()\n",
        "# Recreate the Keras model object from the json data\n",
        "model = model_from_json(model_structure)\n",
        "# Re-load the model's trained weights\n",
        "model.load_weights(\"/content/drive/MyDrive/DeepLearning_Dataset/model_4_basic_weights.h5\")"
      ],
      "metadata": {
        "id": "1e_J5g2vJXt4"
      },
      "execution_count": null,
      "outputs": []
    },
    {
      "cell_type": "code",
      "source": [
        "import keras\n",
        "import numpy as np\n",
        "import random as rd\n",
        "\n",
        "from matplotlib import pyplot as plt\n",
        "import cv2\n",
        "\n",
        "## PENSER à sauvegarder un modèle sympa pour le tester\n",
        "\n",
        "class_labels = [\n",
        "    \"BAROQUE\",\n",
        "    \"CUBISME\",\n",
        "    \"EXPRESIONNISME\",\n",
        "    \"IMPRESSIONISME\",\n",
        "    \"MANNIERISME\",\n",
        "    \"NEOCLASSICISME\",\n",
        "    \"DIVISIONISME\",\n",
        "    \"POPART\",\n",
        "    \"SURREALISME\"\n",
        "]\n",
        "\n",
        "value = rd.randint(0, len(x_test))\n",
        "plt.imshow(x_test[value], interpolation='nearest', aspect='auto')\n",
        "\n",
        "print(\"\\nL'image est du courant: \" + class_labels[y_test[value]])\n",
        "\n",
        "\n",
        "print(\"\\n----------- Analyse par le modèle -----------\\n\")\n",
        "image_to_test = keras.utils.img_to_array(x_test[value])\n",
        "# Add a fourth dimension to the image (since Keras expects a list of images, not a single image)\n",
        "list_of_images = np.expand_dims(image_to_test, axis=0)\n",
        "# Make a prediction using the model\n",
        "results = model_9.predict(list_of_images)\n",
        "# Since we are only testing one image, we only need to check the first result\n",
        "single_result = results[0]\n",
        "print(single_result)\n",
        "# We will get a likelihood score for all 10 possible classes. Find out which class had the highest score.\n",
        "top_3_classes = np.argsort(-single_result)[:3]\n",
        "print(top_3_classes)\n",
        "# Print the result\n",
        "print(\"Courant artistique Top 1 {} - Likelihood: {:2f}\".format(class_labels[top_3_classes[0]], single_result[top_3_classes[0]]))\n",
        "print(\"Courant artistique Top 2 {} - Likelihood: {:2f}\".format(class_labels[top_3_classes[1]], single_result[top_3_classes[1]]))\n",
        "print(\"Courant artistique Top 3 {} - Likelihood: {:2f}\".format(class_labels[top_3_classes[2]], single_result[top_3_classes[2]]))"
      ],
      "metadata": {
        "colab": {
          "base_uri": "https://localhost:8080/",
          "height": 476
        },
        "id": "CfhHSxpEoOT_",
        "outputId": "fb419359-782b-495e-cdac-8ba136bf7539"
      },
      "execution_count": 57,
      "outputs": [
        {
          "output_type": "stream",
          "name": "stdout",
          "text": [
            "\n",
            "L'image est du courant: POPART\n",
            "\n",
            "----------- Analyse par le modèle -----------\n",
            "\n",
            "1/1 [==============================] - 0s 20ms/step\n",
            "[0.0000000e+00 5.7024270e-35 3.3080215e-37 0.0000000e+00 0.0000000e+00\n",
            " 0.0000000e+00 0.0000000e+00 1.7914110e-31 1.1893430e-37]\n",
            "[7 1 2]\n",
            "Courant artistique Top 1 POPART - Likelihood: 0.000000\n",
            "Courant artistique Top 2 CUBISME - Likelihood: 0.000000\n",
            "Courant artistique Top 3 EXPRESIONNISME - Likelihood: 0.000000\n"
          ]
        },
        {
          "output_type": "display_data",
          "data": {
            "text/plain": [
              "<Figure size 432x288 with 1 Axes>"
            ],
            "image/png": "[encoded data removed]"
          },
          "metadata": {
            "needs_background": "light"
          }
        }
      ]
    }
  ],
  "metadata": {
    "accelerator": "GPU",
    "colab": {
      "collapsed_sections": [
        "Ft1qyVbxJAxv",
        "ZqlqYGArpqU4",
        "HVHUXSJkpkwM",
        "rWmLSCc1Rz0O",
        "trXQvetiIqxh"
      ],
      "provenance": [],
      "include_colab_link": true
    },
    "gpuClass": "standard",
    "kernelspec": {
      "display_name": "Python 3",
      "name": "python3"
    },
    "language_info": {
      "name": "python"
    }
  },
  "nbformat": 4,
  "nbformat_minor": 0
}