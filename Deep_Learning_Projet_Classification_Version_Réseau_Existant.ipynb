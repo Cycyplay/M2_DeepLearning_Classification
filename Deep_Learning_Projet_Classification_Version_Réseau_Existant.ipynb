{
  "nbformat": 4,
  "nbformat_minor": 0,
  "metadata": {
    "colab": {
      "provenance": [],
      "include_colab_link": true
    },
    "kernelspec": {
      "name": "python3",
      "display_name": "Python 3"
    },
    "language_info": {
      "name": "python"
    }
  },
  "cells": [
    {
      "cell_type": "markdown",
      "metadata": {
        "id": "view-in-github",
        "colab_type": "text"
      },
      "source": [
        "<a href=\"https://colab.research.google.com/github/Cycyplay/M2_DeepLearning_Classification/blob/main/Deep_Learning_Projet_Classification_Version_R%C3%A9seau_Existant.ipynb\" target=\"_parent\"><img src=\"https://colab.research.google.com/assets/colab-badge.svg\" alt=\"Open In Colab\"/></a>"
      ]
    },
    {
      "cell_type": "markdown",
      "source": [
        "# Projet M2 Deep Learning Classification \n",
        "## Version Réseau Préentrainé\n"
      ],
      "metadata": {
        "id": "4h3Zc-lxBNim"
      }
    },
    {
      "cell_type": "markdown",
      "source": [
        "J'ai décidé d'utiliser un réseau convnet entrainé sur la base d'image ImageNet,\n",
        "base qui represente de nombreuses catégories, d'objets du quotidien aux animaux etc.\n",
        "\n",
        "**L'idée : classer les différents courants artistiques par la présence de différents objets dans les oeuvres**\n",
        "\n",
        "À faire expliquer pourquoi j'ai utilisé VGG16 plutot que les autres avec le tableau voir doc KERAS\n"
      ],
      "metadata": {
        "id": "CedRIUhO1k3B"
      }
    },
    {
      "cell_type": "markdown",
      "source": [
        "# Test d'un réseau existant ImageNet pour la classification d'objet présent sur les oeuvres"
      ],
      "metadata": {
        "id": "M79amN69jVrV"
      }
    },
    {
      "cell_type": "code",
      "execution_count": 2,
      "metadata": {
        "id": "vFopohcuAN21",
        "colab": {
          "base_uri": "https://localhost:8080/"
        },
        "outputId": "f3da67cc-be1c-4983-d11b-53f98aba8b63"
      },
      "outputs": [
        {
          "output_type": "stream",
          "name": "stdout",
          "text": [
            "Mounted at /content/drive\n"
          ]
        }
      ],
      "source": [
        "import keras\n",
        "import numpy as np\n",
        "from matplotlib import pyplot as plt\n",
        "import cv2\n",
        "%matplotlib inline \n",
        "\n",
        "from google.colab import drive\n",
        "drive.mount('/content/drive')\n",
        "\n",
        "\n",
        "x_test = np.load('./drive/MyDrive/DeepLearning_Dataset/x_test.npy')\n",
        "x_train = np.load('./drive/MyDrive/DeepLearning_Dataset/x_train.npy')\n",
        "y_test = np.load('./drive/MyDrive/DeepLearning_Dataset/y_test.npy')\n",
        "y_train = np.load('./drive/MyDrive/DeepLearning_Dataset/y_train.npy')"
      ]
    },
    {
      "cell_type": "code",
      "source": [
        "from keras.applications.imagenet_utils import decode_predictions\n",
        "from keras.applications.imagenet_utils import preprocess_input\n",
        "from keras.applications import VGG16\n",
        "from keras.models import Model\n",
        "from keras.layers import Dense"
      ],
      "metadata": {
        "id": "v4f_sCdhZxht"
      },
      "execution_count": 3,
      "outputs": []
    },
    {
      "cell_type": "code",
      "source": [
        "image = cv2.resize(x_test[1000], dsize=(224, 224), interpolation=cv2.INTER_CUBIC)\n",
        "image = np.expand_dims(image, axis=0)\n",
        "image = preprocess_input(image)\n",
        "\n",
        "model = VGG16(weights=\"imagenet\")\n",
        "preds = model.predict(image)"
      ],
      "metadata": {
        "colab": {
          "base_uri": "https://localhost:8080/"
        },
        "id": "4hp8I8JcaHbj",
        "outputId": "9e3fae6b-72a7-48a2-ae95-fa5be26e85c8"
      },
      "execution_count": 4,
      "outputs": [
        {
          "output_type": "stream",
          "name": "stdout",
          "text": [
            "Downloading data from https://storage.googleapis.com/tensorflow/keras-applications/vgg16/vgg16_weights_tf_dim_ordering_tf_kernels.h5\n",
            "553467096/553467096 [==============================] - 3s 0us/step\n",
            "1/1 [==============================] - 1s 841ms/step\n"
          ]
        }
      ]
    },
    {
      "cell_type": "code",
      "source": [
        "P = decode_predictions(preds)\n",
        "for (i, (imagenetID, label, prob)) in enumerate(P[0]):\n",
        "\tprint(\"{}. {}: {:.2f}%\".format(i + 1, label, prob * 100))\n",
        " \n",
        "plt.imshow(x_test[1000], interpolation='nearest')\n",
        "plt.show()"
      ],
      "metadata": {
        "colab": {
          "base_uri": "https://localhost:8080/",
          "height": 392
        },
        "id": "et1-jy92bZG8",
        "outputId": "ac52d578-aef4-40cd-97d7-ac50c481b26f"
      },
      "execution_count": 5,
      "outputs": [
        {
          "output_type": "stream",
          "name": "stdout",
          "text": [
            "Downloading data from https://storage.googleapis.com/download.tensorflow.org/data/imagenet_class_index.json\n",
            "35363/35363 [==============================] - 0s 0us/step\n",
            "1. breastplate: 4.65%\n",
            "2. Sussex_spaniel: 3.69%\n",
            "3. Welsh_springer_spaniel: 3.52%\n",
            "4. cuirass: 3.15%\n",
            "5. English_foxhound: 2.72%\n"
          ]
        },
        {
          "output_type": "display_data",
          "data": {
            "text/plain": [
              "<Figure size 432x288 with 1 Axes>"
            ],
            "image/png": "[encoded data removed]"
          },
          "metadata": {
            "needs_background": "light"
          }
        }
      ]
    },
    {
      "cell_type": "markdown",
      "source": [
        "# Fine Tuning"
      ],
      "metadata": {
        "id": "ONXG1ycTkTm5"
      }
    },
    {
      "cell_type": "code",
      "source": [
        "base_model = VGG16(weights=\"imagenet\",include_top=False,input_shape=(64,64,3))\n",
        "\n",
        "# add a global spatial average pooling layer\n",
        "x = base_model.output\n",
        "#x = GlobalAveragePooling2D()(x)\n",
        "# let's add a fully-connected layer\n",
        "x = keras.layers.Flatten()(x)\n",
        "x = Dense(128, activation='relu')(x)\n",
        "# and a logistic layer -- let's say we have 9 classes\n",
        "predictions = Dense(9, activation='softmax')(x)\n",
        "\n",
        "# this is the model we will train\n",
        "model = Model(inputs=base_model.input, outputs=predictions)\n",
        "\n",
        "# first: train only the top layers (which were randomly initialized)\n",
        "# i.e. freeze all convolutional VGG16 layers\n",
        "for layer in base_model.layers:\n",
        "    layer.trainable = False\n",
        "\n",
        "model.compile(optimizer='adam', loss='SparseCategoricalCrossentropy', metrics=['accuracy'])\n",
        "\n",
        "# train the model on the new data for a few epochs\n",
        "print(x_test.shape)\n",
        "print(y_test.shape)\n",
        "model.fit(x_train, y_train, verbose=1, batch_size=128, epochs=10, validation_data=(x_test, y_test))\n",
        "\n",
        "# at this point, the top layers are well trained and we can start fine-tuning\n",
        "# convolutional layers from inception V3. We will freeze the bottom N layers\n",
        "# and train the remaining top layers.\n",
        "\n",
        "# let's visualize layer names and layer indices to see how many layers\n",
        "# we should freeze:\n",
        "# for i, layer in enumerate(base_model.layers):\n",
        "#    print(i, layer.name)\n",
        "\n",
        "# we chose to train the top 2 inception blocks, i.e. we will freeze\n",
        "# the first 249 layers and unfreeze the rest:\n",
        "# for layer in model.layers[:249]:\n",
        "#    layer.trainable = False\n",
        "# for layer in model.layers[249:]:\n",
        "#    layer.trainable = True\n",
        "\n",
        "# we need to recompile the model for these modifications to take effect\n",
        "# we use SGD with a low learning rate\n",
        "# from keras.optimizers import SGD\n",
        "# model.compile(optimizer=SGD(lr=0.0001, momentum=0.9), loss='categorical_crossentropy')\n",
        "\n",
        "# we train our model again (this time fine-tuning the top 2 inception blocks\n",
        "# alongside the top Dense layers\n",
        "# model.fit(...)"
      ],
      "metadata": {
        "id": "ZB-HdZzIkGS-",
        "outputId": "545997a8-d811-4bc1-e7e9-0df978e95f64",
        "colab": {
          "base_uri": "https://localhost:8080/"
        }
      },
      "execution_count": 18,
      "outputs": [
        {
          "output_type": "stream",
          "name": "stdout",
          "text": [
            "(1701, 64, 64, 3)\n",
            "(1701,)\n",
            "Epoch 1/10\n",
            "54/54 [==============================] - 309s 6s/step - loss: 5.3485 - accuracy: 0.3237 - val_loss: 2.0840 - val_accuracy: 0.3433\n",
            "Epoch 2/10\n",
            "54/54 [==============================] - 304s 6s/step - loss: 1.5596 - accuracy: 0.4664 - val_loss: 1.9175 - val_accuracy: 0.3939\n",
            "Epoch 3/10\n",
            "54/54 [==============================] - 304s 6s/step - loss: 1.1432 - accuracy: 0.5947 - val_loss: 1.9537 - val_accuracy: 0.4074\n",
            "Epoch 4/10\n",
            "54/54 [==============================] - 305s 6s/step - loss: 0.8843 - accuracy: 0.6804 - val_loss: 1.9806 - val_accuracy: 0.4303\n",
            "Epoch 5/10\n",
            "54/54 [==============================] - 303s 6s/step - loss: 0.6819 - accuracy: 0.7580 - val_loss: 2.0444 - val_accuracy: 0.4368\n",
            "Epoch 6/10\n",
            "54/54 [==============================] - 279s 5s/step - loss: 0.5310 - accuracy: 0.8175 - val_loss: 2.1652 - val_accuracy: 0.4409\n",
            "Epoch 7/10\n",
            "54/54 [==============================] - 303s 6s/step - loss: 0.4043 - accuracy: 0.8675 - val_loss: 2.2899 - val_accuracy: 0.4497\n",
            "Epoch 8/10\n",
            "54/54 [==============================] - 307s 6s/step - loss: 0.3023 - accuracy: 0.9076 - val_loss: 2.4229 - val_accuracy: 0.4627\n",
            "Epoch 9/10\n",
            "54/54 [==============================] - 305s 6s/step - loss: 0.2306 - accuracy: 0.9398 - val_loss: 2.5566 - val_accuracy: 0.4627\n",
            "Epoch 10/10\n",
            "54/54 [==============================] - 304s 6s/step - loss: 0.1782 - accuracy: 0.9569 - val_loss: 2.6656 - val_accuracy: 0.4668\n"
          ]
        },
        {
          "output_type": "execute_result",
          "data": {
            "text/plain": [
              "<keras.callbacks.History at 0x7f89c5acec70>"
            ]
          },
          "metadata": {},
          "execution_count": 18
        }
      ]
    }
  ]
}