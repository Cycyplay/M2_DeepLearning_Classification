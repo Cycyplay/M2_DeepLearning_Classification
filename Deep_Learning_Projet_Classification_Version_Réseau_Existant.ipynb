{
  "nbformat": 4,
  "nbformat_minor": 0,
  "metadata": {
    "colab": {
      "provenance": [],
      "include_colab_link": true
    },
    "kernelspec": {
      "name": "python3",
      "display_name": "Python 3"
    },
    "language_info": {
      "name": "python"
    },
    "accelerator": "GPU",
    "gpuClass": "standard"
  },
  "cells": [
    {
      "cell_type": "markdown",
      "metadata": {
        "id": "view-in-github",
        "colab_type": "text"
      },
      "source": [
        "<a href=\"https://colab.research.google.com/github/Cycyplay/M2_DeepLearning_Classification/blob/main/Deep_Learning_Projet_Classification_Version_R%C3%A9seau_Existant.ipynb\" target=\"_parent\"><img src=\"https://colab.research.google.com/assets/colab-badge.svg\" alt=\"Open In Colab\"/></a>"
      ]
    },
    {
      "cell_type": "markdown",
      "source": [
        "# Projet M2 Deep Learning Classification \n",
        "## Version Réseau Préentrainé\n"
      ],
      "metadata": {
        "id": "4h3Zc-lxBNim"
      }
    },
    {
      "cell_type": "markdown",
      "source": [
        "J'ai décidé d'utiliser un réseau convnet entrainé sur la base d'image ImageNet,\n",
        "base qui represente de nombreuses catégories, d'objets du quotidien aux animaux etc.\n",
        "\n",
        "**L'idée : classer les différents courants artistiques par la présence de différents objets dans les oeuvres**\n",
        "\n",
        "À faire expliquer pourquoi j'ai utilisé VGG16 plutot que les autres avec le tableau voir doc KERAS\n"
      ],
      "metadata": {
        "id": "CedRIUhO1k3B"
      }
    },
    {
      "cell_type": "markdown",
      "source": [
        "# Test d'un réseau existant ImageNet pour la classification d'objet présent sur les oeuvres"
      ],
      "metadata": {
        "id": "M79amN69jVrV"
      }
    },
    {
      "cell_type": "code",
      "execution_count": 7,
      "metadata": {
        "id": "vFopohcuAN21",
        "colab": {
          "base_uri": "https://localhost:8080/"
        },
        "outputId": "324545d6-cd94-4bb3-fed0-a12e2420a09c"
      },
      "outputs": [
        {
          "output_type": "stream",
          "name": "stdout",
          "text": [
            "Drive already mounted at /content/drive; to attempt to forcibly remount, call drive.mount(\"/content/drive\", force_remount=True).\n"
          ]
        }
      ],
      "source": [
        "import keras\n",
        "import numpy as np\n",
        "from matplotlib import pyplot as plt\n",
        "import cv2\n",
        "%matplotlib inline \n",
        "\n",
        "from google.colab import drive\n",
        "drive.mount('/content/drive')\n",
        "\n",
        "\n",
        "x_test = np.load('./drive/MyDrive/DeepLearning_Dataset/x_test.npy')\n",
        "x_train = np.load('./drive/MyDrive/DeepLearning_Dataset/x_train.npy')\n",
        "y_test = np.load('./drive/MyDrive/DeepLearning_Dataset/y_test.npy')\n",
        "y_train = np.load('./drive/MyDrive/DeepLearning_Dataset/y_train.npy')"
      ]
    },
    {
      "cell_type": "code",
      "source": [
        "from keras.applications.imagenet_utils import decode_predictions\n",
        "from keras.applications.imagenet_utils import preprocess_input\n",
        "from keras.applications import VGG16\n",
        "from keras import models\n",
        "from keras.models import Model\n",
        "from keras.layers import Dense"
      ],
      "metadata": {
        "id": "v4f_sCdhZxht"
      },
      "execution_count": null,
      "outputs": []
    },
    {
      "cell_type": "code",
      "source": [
        "image = cv2.resize(x_test[1000], dsize=(224, 224), interpolation=cv2.INTER_CUBIC)\n",
        "image = np.expand_dims(image, axis=0)\n",
        "image = preprocess_input(image)\n",
        "\n",
        "model = VGG16(weights=\"imagenet\")\n",
        "preds = model.predict(image)"
      ],
      "metadata": {
        "colab": {
          "base_uri": "https://localhost:8080/"
        },
        "id": "4hp8I8JcaHbj",
        "outputId": "7f22271d-64fa-4f49-e5ff-9d7c87fb83cc"
      },
      "execution_count": null,
      "outputs": [
        {
          "output_type": "stream",
          "name": "stdout",
          "text": [
            "Downloading data from https://storage.googleapis.com/tensorflow/keras-applications/vgg16/vgg16_weights_tf_dim_ordering_tf_kernels.h5\n",
            "553467096/553467096 [==============================] - 7s 0us/step\n",
            "1/1 [==============================] - 8s 8s/step\n"
          ]
        }
      ]
    },
    {
      "cell_type": "code",
      "source": [
        "P = decode_predictions(preds)\n",
        "for (i, (imagenetID, label, prob)) in enumerate(P[0]):\n",
        "\tprint(\"{}. {}: {:.2f}%\".format(i + 1, label, prob * 100))\n",
        " \n",
        "plt.imshow(x_test[1000], interpolation='nearest')\n",
        "plt.show()"
      ],
      "metadata": {
        "colab": {
          "base_uri": "https://localhost:8080/",
          "height": 389
        },
        "id": "et1-jy92bZG8",
        "outputId": "db63458f-98de-424e-d3e5-1e3c4a19197c"
      },
      "execution_count": null,
      "outputs": [
        {
          "output_type": "stream",
          "name": "stdout",
          "text": [
            "Downloading data from https://storage.googleapis.com/download.tensorflow.org/data/imagenet_class_index.json\n",
            "35363/35363 [==============================] - 0s 0us/step\n",
            "1. breastplate: 4.65%\n",
            "2. Sussex_spaniel: 3.69%\n",
            "3. Welsh_springer_spaniel: 3.52%\n",
            "4. cuirass: 3.15%\n",
            "5. English_foxhound: 2.72%\n"
          ]
        },
        {
          "output_type": "display_data",
          "data": {
            "text/plain": [
              "<Figure size 432x288 with 1 Axes>"
            ],
            "image/png": "[encoded data removed]"
          },
          "metadata": {
            "needs_background": "light"
          }
        }
      ]
    },
    {
      "cell_type": "markdown",
      "source": [
        "# Fine Tuning"
      ],
      "metadata": {
        "id": "ONXG1ycTkTm5"
      }
    },
    {
      "cell_type": "code",
      "source": [
        "import tensorflow as tf\n",
        "tensor_x_test = tf.constant(x_test)\n",
        "tensor_y_test = tf.constant(y_test)\n",
        "tensor_x_train = tf.constant(x_train)\n",
        "tensor_y_train = tf.constant(y_train)"
      ],
      "metadata": {
        "id": "kocQIZGAAX6J"
      },
      "execution_count": null,
      "outputs": []
    },
    {
      "cell_type": "code",
      "source": [
        "base_model = VGG16(weights=\"imagenet\",include_top=False,input_shape=(64,64,3))\n",
        "\n",
        "\n",
        "x = base_model.output\n",
        "x = keras.layers.Flatten()(x)\n",
        "x = Dense(128, activation='relu')(x)\n",
        "predictions = Dense(9, activation='softmax')(x)\n",
        "\n",
        "# this is the model we will train\n",
        "model = Model(inputs=base_model.input, outputs=predictions)\n",
        "\n",
        "# first: train only the top layers\n",
        "# i.e. freeze all convolutional VGG16 layers\n",
        "for layer in base_model.layers:\n",
        "    layer.trainable = False\n",
        "\n",
        "model.compile(optimizer='adam', loss='SparseCategoricalCrossentropy', metrics=['accuracy'])\n",
        "\n",
        "# train the model on the new data for a few epochs\n",
        "history = model.fit(tensor_x_train, tensor_y_train, verbose=True, batch_size=128, epochs=20, validation_data=(tensor_x_test, tensor_y_test))"
      ],
      "metadata": {
        "id": "ZB-HdZzIkGS-",
        "outputId": "469e3e81-23c6-42b2-ac92-e94678848452",
        "colab": {
          "base_uri": "https://localhost:8080/"
        }
      },
      "execution_count": null,
      "outputs": [
        {
          "output_type": "stream",
          "name": "stdout",
          "text": [
            "Epoch 1/20\n",
            "54/54 [==============================] - 5s 55ms/step - loss: 5.3628 - accuracy: 0.3051 - val_loss: 2.0853 - val_accuracy: 0.3063\n",
            "Epoch 2/20\n",
            "54/54 [==============================] - 3s 48ms/step - loss: 1.5679 - accuracy: 0.4513 - val_loss: 1.9878 - val_accuracy: 0.3880\n",
            "Epoch 3/20\n",
            "54/54 [==============================] - 3s 51ms/step - loss: 1.1551 - accuracy: 0.5822 - val_loss: 1.9989 - val_accuracy: 0.4103\n",
            "Epoch 4/20\n",
            "54/54 [==============================] - 3s 52ms/step - loss: 0.8793 - accuracy: 0.6746 - val_loss: 2.0664 - val_accuracy: 0.4280\n",
            "Epoch 5/20\n",
            "54/54 [==============================] - 3s 51ms/step - loss: 0.6674 - accuracy: 0.7553 - val_loss: 2.1465 - val_accuracy: 0.4474\n",
            "Epoch 6/20\n",
            "54/54 [==============================] - 3s 51ms/step - loss: 0.5086 - accuracy: 0.8213 - val_loss: 2.2694 - val_accuracy: 0.4474\n",
            "Epoch 7/20\n",
            "54/54 [==============================] - 3s 51ms/step - loss: 0.3861 - accuracy: 0.8702 - val_loss: 2.3739 - val_accuracy: 0.4503\n",
            "Epoch 8/20\n",
            "54/54 [==============================] - 3s 51ms/step - loss: 0.2990 - accuracy: 0.9085 - val_loss: 2.5029 - val_accuracy: 0.4568\n",
            "Epoch 9/20\n",
            "54/54 [==============================] - 3s 53ms/step - loss: 0.2252 - accuracy: 0.9352 - val_loss: 2.6406 - val_accuracy: 0.4709\n",
            "Epoch 10/20\n",
            "54/54 [==============================] - 3s 49ms/step - loss: 0.1713 - accuracy: 0.9520 - val_loss: 2.7708 - val_accuracy: 0.4674\n",
            "Epoch 11/20\n",
            "54/54 [==============================] - 3s 49ms/step - loss: 0.1313 - accuracy: 0.9665 - val_loss: 2.8855 - val_accuracy: 0.4791\n",
            "Epoch 12/20\n",
            "54/54 [==============================] - 3s 51ms/step - loss: 0.1016 - accuracy: 0.9759 - val_loss: 2.9978 - val_accuracy: 0.4744\n",
            "Epoch 13/20\n",
            "54/54 [==============================] - 3s 52ms/step - loss: 0.0796 - accuracy: 0.9830 - val_loss: 3.1393 - val_accuracy: 0.4738\n",
            "Epoch 14/20\n",
            "54/54 [==============================] - 3s 50ms/step - loss: 0.0624 - accuracy: 0.9873 - val_loss: 3.2094 - val_accuracy: 0.4703\n",
            "Epoch 15/20\n",
            "54/54 [==============================] - 3s 51ms/step - loss: 0.0491 - accuracy: 0.9901 - val_loss: 3.3458 - val_accuracy: 0.4785\n",
            "Epoch 16/20\n",
            "54/54 [==============================] - 3s 49ms/step - loss: 0.0398 - accuracy: 0.9914 - val_loss: 3.3834 - val_accuracy: 0.4803\n",
            "Epoch 17/20\n",
            "54/54 [==============================] - 3s 51ms/step - loss: 0.0337 - accuracy: 0.9934 - val_loss: 3.5006 - val_accuracy: 0.4703\n",
            "Epoch 18/20\n",
            "54/54 [==============================] - 3s 50ms/step - loss: 0.0294 - accuracy: 0.9953 - val_loss: 3.5318 - val_accuracy: 0.4797\n",
            "Epoch 19/20\n",
            "54/54 [==============================] - 3s 52ms/step - loss: 0.0237 - accuracy: 0.9966 - val_loss: 3.6137 - val_accuracy: 0.4827\n",
            "Epoch 20/20\n",
            "54/54 [==============================] - 3s 52ms/step - loss: 0.0193 - accuracy: 0.9971 - val_loss: 3.6790 - val_accuracy: 0.4838\n"
          ]
        }
      ]
    },
    {
      "cell_type": "code",
      "source": [
        "import matplotlib.pyplot as plt\n",
        "plt.plot(history.history[\"accuracy\"], \"b\")\n",
        "plt.plot(history.history[\"val_accuracy\"], \"bo\")"
      ],
      "metadata": {
        "colab": {
          "base_uri": "https://localhost:8080/",
          "height": 282
        },
        "id": "oz3j0Kg8ENgp",
        "outputId": "3ea058c8-dae2-4f44-b3b8-84684e8f263f"
      },
      "execution_count": null,
      "outputs": [
        {
          "output_type": "execute_result",
          "data": {
            "text/plain": [
              "[<matplotlib.lines.Line2D at 0x7f2bec75dee0>]"
            ]
          },
          "metadata": {},
          "execution_count": 18
        },
        {
          "output_type": "display_data",
          "data": {
            "text/plain": [
              "<Figure size 432x288 with 1 Axes>"
            ],
            "image/png": "[encoded data removed]"
          },
          "metadata": {
            "needs_background": "light"
          }
        }
      ]
    },
    {
      "cell_type": "code",
      "source": [
        "import matplotlib.pyplot as plt\n",
        "plt.plot(history.history[\"loss\"], \"b\")"
      ],
      "metadata": {
        "id": "9DGaHHGQE6yX"
      },
      "execution_count": null,
      "outputs": []
    },
    {
      "cell_type": "markdown",
      "source": [
        "## With data augmentation"
      ],
      "metadata": {
        "id": "kvkXs_0wD2w7"
      }
    },
    {
      "cell_type": "code",
      "source": [
        "data_augmentation = keras.Sequential(\n",
        "    [\n",
        "      keras.layers.RandomFlip(\"horizontal\"),\n",
        "      keras.layers.RandomRotation(0.1),\n",
        "      keras.layers.RandomZoom(0.2)\n",
        "    ]\n",
        ")\n",
        "\n",
        "inputs = keras.Input(shape=(64, 64, 3))"
      ],
      "metadata": {
        "id": "sBD9a2iNKzZ8"
      },
      "execution_count": null,
      "outputs": []
    },
    {
      "cell_type": "code",
      "source": [
        "base_model = VGG16(weights=\"imagenet\",include_top=False,input_shape=(64,64,3))\n",
        "\n",
        "# Data augmentation\n",
        "x = data_augmentation(inputs)\n",
        "x = base_model(x, training=False)\n",
        "x = keras.layers.Flatten()(x)\n",
        "x = Dense(128, activation='relu')(x)\n",
        "predictions = Dense(9, activation='softmax')(x)\n",
        "\n",
        "# this is the model we will train\n",
        "model = Model(inputs=inputs, outputs=predictions)\n",
        "\n",
        "# first: train only the top layers\n",
        "# i.e. freeze all convolutional VGG16 layers\n",
        "for layer in base_model.layers:\n",
        "    layer.trainable = False\n",
        "\n",
        "model.compile(optimizer='adam', loss='SparseCategoricalCrossentropy', metrics=['accuracy'])\n",
        "\n",
        "# train the model on the new data for a few epochs\n",
        "history = model.fit(tensor_x_train, tensor_y_train, verbose=True, batch_size=128, epochs=20, validation_data=(tensor_x_test, tensor_y_test))"
      ],
      "metadata": {
        "colab": {
          "base_uri": "https://localhost:8080/"
        },
        "id": "U7C7TIGaFaoB",
        "outputId": "4910fe5d-fcbe-4101-fde4-475b26ccb4d6"
      },
      "execution_count": null,
      "outputs": [
        {
          "output_type": "stream",
          "name": "stderr",
          "text": [
            "WARNING:tensorflow:Using a while_loop for converting RngReadAndSkip cause there is no registered converter for this op.\n",
            "WARNING:tensorflow:Using a while_loop for converting Bitcast cause there is no registered converter for this op.\n",
            "WARNING:tensorflow:Using a while_loop for converting Bitcast cause there is no registered converter for this op.\n",
            "WARNING:tensorflow:Using a while_loop for converting StatelessRandomUniformV2 cause there is no registered converter for this op.\n",
            "WARNING:tensorflow:Using a while_loop for converting ImageProjectiveTransformV3 cause there is no registered converter for this op.\n",
            "WARNING:tensorflow:Using a while_loop for converting RngReadAndSkip cause there is no registered converter for this op.\n",
            "WARNING:tensorflow:Using a while_loop for converting Bitcast cause there is no registered converter for this op.\n",
            "WARNING:tensorflow:Using a while_loop for converting Bitcast cause there is no registered converter for this op.\n",
            "WARNING:tensorflow:Using a while_loop for converting StatelessRandomUniformV2 cause there is no registered converter for this op.\n",
            "WARNING:tensorflow:Using a while_loop for converting ImageProjectiveTransformV3 cause there is no registered converter for this op.\n"
          ]
        },
        {
          "output_type": "stream",
          "name": "stdout",
          "text": [
            "Epoch 1/20\n"
          ]
        },
        {
          "output_type": "stream",
          "name": "stderr",
          "text": [
            "WARNING:tensorflow:Using a while_loop for converting RngReadAndSkip cause there is no registered converter for this op.\n",
            "WARNING:tensorflow:Using a while_loop for converting Bitcast cause there is no registered converter for this op.\n",
            "WARNING:tensorflow:Using a while_loop for converting Bitcast cause there is no registered converter for this op.\n",
            "WARNING:tensorflow:Using a while_loop for converting StatelessRandomUniformV2 cause there is no registered converter for this op.\n",
            "WARNING:tensorflow:Using a while_loop for converting ImageProjectiveTransformV3 cause there is no registered converter for this op.\n",
            "WARNING:tensorflow:Using a while_loop for converting RngReadAndSkip cause there is no registered converter for this op.\n",
            "WARNING:tensorflow:Using a while_loop for converting Bitcast cause there is no registered converter for this op.\n",
            "WARNING:tensorflow:Using a while_loop for converting Bitcast cause there is no registered converter for this op.\n",
            "WARNING:tensorflow:Using a while_loop for converting StatelessRandomUniformV2 cause there is no registered converter for this op.\n",
            "WARNING:tensorflow:Using a while_loop for converting ImageProjectiveTransformV3 cause there is no registered converter for this op.\n",
            "WARNING:tensorflow:Using a while_loop for converting RngReadAndSkip cause there is no registered converter for this op.\n",
            "WARNING:tensorflow:Using a while_loop for converting Bitcast cause there is no registered converter for this op.\n",
            "WARNING:tensorflow:Using a while_loop for converting Bitcast cause there is no registered converter for this op.\n",
            "WARNING:tensorflow:Using a while_loop for converting StatelessRandomUniformV2 cause there is no registered converter for this op.\n",
            "WARNING:tensorflow:Using a while_loop for converting ImageProjectiveTransformV3 cause there is no registered converter for this op.\n",
            "WARNING:tensorflow:Using a while_loop for converting RngReadAndSkip cause there is no registered converter for this op.\n",
            "WARNING:tensorflow:Using a while_loop for converting Bitcast cause there is no registered converter for this op.\n",
            "WARNING:tensorflow:Using a while_loop for converting Bitcast cause there is no registered converter for this op.\n",
            "WARNING:tensorflow:Using a while_loop for converting StatelessRandomUniformV2 cause there is no registered converter for this op.\n",
            "WARNING:tensorflow:Using a while_loop for converting ImageProjectiveTransformV3 cause there is no registered converter for this op.\n"
          ]
        },
        {
          "output_type": "stream",
          "name": "stdout",
          "text": [
            "54/54 [==============================] - 77s 1s/step - loss: 5.7751 - accuracy: 0.2677 - val_loss: 2.3725 - val_accuracy: 0.2728\n",
            "Epoch 2/20\n",
            "54/54 [==============================] - 62s 1s/step - loss: 1.9723 - accuracy: 0.3095 - val_loss: 2.0891 - val_accuracy: 0.3451\n",
            "Epoch 3/20\n",
            "54/54 [==============================] - 61s 1s/step - loss: 1.8144 - accuracy: 0.3715 - val_loss: 2.0193 - val_accuracy: 0.3610\n",
            "Epoch 4/20\n",
            "54/54 [==============================] - 62s 1s/step - loss: 1.7352 - accuracy: 0.4004 - val_loss: 1.9662 - val_accuracy: 0.3727\n",
            "Epoch 5/20\n",
            "54/54 [==============================] - 62s 1s/step - loss: 1.6288 - accuracy: 0.4282 - val_loss: 1.9603 - val_accuracy: 0.3851\n",
            "Epoch 6/20\n",
            "54/54 [==============================] - 61s 1s/step - loss: 1.5504 - accuracy: 0.4519 - val_loss: 1.8820 - val_accuracy: 0.4180\n",
            "Epoch 7/20\n",
            "54/54 [==============================] - 60s 1s/step - loss: 1.4931 - accuracy: 0.4727 - val_loss: 1.8573 - val_accuracy: 0.4303\n",
            "Epoch 8/20\n",
            "54/54 [==============================] - 63s 1s/step - loss: 1.4195 - accuracy: 0.4942 - val_loss: 1.8720 - val_accuracy: 0.4486\n",
            "Epoch 9/20\n",
            "54/54 [==============================] - 60s 1s/step - loss: 1.4056 - accuracy: 0.5047 - val_loss: 1.8029 - val_accuracy: 0.4421\n",
            "Epoch 10/20\n",
            "54/54 [==============================] - 61s 1s/step - loss: 1.3109 - accuracy: 0.5304 - val_loss: 1.8710 - val_accuracy: 0.4380\n",
            "Epoch 11/20\n",
            "54/54 [==============================] - 60s 1s/step - loss: 1.3032 - accuracy: 0.5339 - val_loss: 1.7935 - val_accuracy: 0.4456\n",
            "Epoch 12/20\n",
            "54/54 [==============================] - 63s 1s/step - loss: 1.2814 - accuracy: 0.5382 - val_loss: 1.8255 - val_accuracy: 0.4468\n",
            "Epoch 13/20\n",
            "54/54 [==============================] - 61s 1s/step - loss: 1.2396 - accuracy: 0.5488 - val_loss: 1.7625 - val_accuracy: 0.4574\n",
            "Epoch 14/20\n",
            "54/54 [==============================] - 60s 1s/step - loss: 1.2197 - accuracy: 0.5558 - val_loss: 1.7986 - val_accuracy: 0.4544\n",
            "Epoch 15/20\n",
            "54/54 [==============================] - 61s 1s/step - loss: 1.1716 - accuracy: 0.5789 - val_loss: 1.7824 - val_accuracy: 0.4674\n",
            "Epoch 16/20\n",
            "54/54 [==============================] - 60s 1s/step - loss: 1.1417 - accuracy: 0.5902 - val_loss: 1.8531 - val_accuracy: 0.4797\n",
            "Epoch 17/20\n",
            "54/54 [==============================] - 60s 1s/step - loss: 1.1263 - accuracy: 0.5943 - val_loss: 1.8526 - val_accuracy: 0.4733\n",
            "Epoch 18/20\n",
            "54/54 [==============================] - 61s 1s/step - loss: 1.1031 - accuracy: 0.6013 - val_loss: 1.8100 - val_accuracy: 0.4827\n",
            "Epoch 19/20\n",
            "54/54 [==============================] - 61s 1s/step - loss: 1.0893 - accuracy: 0.6111 - val_loss: 1.7907 - val_accuracy: 0.4874\n",
            "Epoch 20/20\n",
            "54/54 [==============================] - 61s 1s/step - loss: 1.0779 - accuracy: 0.6212 - val_loss: 1.8208 - val_accuracy: 0.4727\n"
          ]
        }
      ]
    },
    {
      "cell_type": "code",
      "source": [
        "import matplotlib.pyplot as plt\n",
        "plt.plot(history.history[\"accuracy\"], \"b\")\n",
        "plt.plot(history.history[\"val_accuracy\"], \"bo\")\n"
      ],
      "metadata": {
        "colab": {
          "base_uri": "https://localhost:8080/",
          "height": 282
        },
        "id": "ZH4q1yQMvWeL",
        "outputId": "e564ab64-c3c1-46bf-a8b7-193f68d3fee9"
      },
      "execution_count": null,
      "outputs": [
        {
          "output_type": "execute_result",
          "data": {
            "text/plain": [
              "[<matplotlib.lines.Line2D at 0x7f2cb249b5e0>]"
            ]
          },
          "metadata": {},
          "execution_count": 26
        },
        {
          "output_type": "display_data",
          "data": {
            "text/plain": [
              "<Figure size 432x288 with 1 Axes>"
            ],
            "image/png": "[encoded data removed]"
          },
          "metadata": {
            "needs_background": "light"
          }
        }
      ]
    },
    {
      "cell_type": "code",
      "source": [
        "# at this point, the top layers are well trained and we can start fine-tuning\n",
        "# convolutional layers from inception V3. We will freeze the bottom N layers\n",
        "# and train the remaining top layers.\n",
        "\n",
        "# let's visualize layer names and layer indices to see how many layers\n",
        "# we should freeze:\n",
        "for i, layer in enumerate(base_model.layers):\n",
        "   print(i, layer.name)\n",
        "\n",
        "base_model.trainable = True\n",
        "for layer in base_model.layers[:-4]:\n",
        " layer.trainable = False\n",
        "\n",
        "model.compile(loss=\"SparseCategoricalCrossentropy\",\n",
        "  optimizer=keras.optimizers.RMSprop(learning_rate=1e-5),\n",
        "  metrics=[\"accuracy\"])\n",
        "\n",
        "# # we train our model again (this time fine-tuning the top 2 inception blocks\n",
        "# # alongside the top Dense layers\n",
        "history = model.fit(tensor_x_train, tensor_y_train, verbose=True, batch_size=128, epochs=30, validation_data=(tensor_x_test, tensor_y_test))"
      ],
      "metadata": {
        "colab": {
          "base_uri": "https://localhost:8080/"
        },
        "id": "UUJIDe604xyb",
        "outputId": "af80b1b9-326c-49ab-dd93-2705c6652845"
      },
      "execution_count": null,
      "outputs": [
        {
          "output_type": "stream",
          "name": "stdout",
          "text": [
            "0 input_9\n",
            "1 block1_conv1\n",
            "2 block1_conv2\n",
            "3 block1_pool\n",
            "4 block2_conv1\n",
            "5 block2_conv2\n",
            "6 block2_pool\n",
            "7 block3_conv1\n",
            "8 block3_conv2\n",
            "9 block3_conv3\n",
            "10 block3_pool\n",
            "11 block4_conv1\n",
            "12 block4_conv2\n",
            "13 block4_conv3\n",
            "14 block4_pool\n",
            "15 block5_conv1\n",
            "16 block5_conv2\n",
            "17 block5_conv3\n",
            "18 block5_pool\n",
            "Epoch 1/30\n"
          ]
        },
        {
          "output_type": "stream",
          "name": "stderr",
          "text": [
            "WARNING:tensorflow:Using a while_loop for converting RngReadAndSkip cause there is no registered converter for this op.\n",
            "WARNING:tensorflow:Using a while_loop for converting Bitcast cause there is no registered converter for this op.\n",
            "WARNING:tensorflow:Using a while_loop for converting Bitcast cause there is no registered converter for this op.\n",
            "WARNING:tensorflow:Using a while_loop for converting StatelessRandomUniformV2 cause there is no registered converter for this op.\n",
            "WARNING:tensorflow:Using a while_loop for converting ImageProjectiveTransformV3 cause there is no registered converter for this op.\n",
            "WARNING:tensorflow:Using a while_loop for converting RngReadAndSkip cause there is no registered converter for this op.\n",
            "WARNING:tensorflow:Using a while_loop for converting Bitcast cause there is no registered converter for this op.\n",
            "WARNING:tensorflow:Using a while_loop for converting Bitcast cause there is no registered converter for this op.\n",
            "WARNING:tensorflow:Using a while_loop for converting StatelessRandomUniformV2 cause there is no registered converter for this op.\n",
            "WARNING:tensorflow:Using a while_loop for converting ImageProjectiveTransformV3 cause there is no registered converter for this op.\n",
            "WARNING:tensorflow:Using a while_loop for converting RngReadAndSkip cause there is no registered converter for this op.\n",
            "WARNING:tensorflow:Using a while_loop for converting Bitcast cause there is no registered converter for this op.\n",
            "WARNING:tensorflow:Using a while_loop for converting Bitcast cause there is no registered converter for this op.\n",
            "WARNING:tensorflow:Using a while_loop for converting StatelessRandomUniformV2 cause there is no registered converter for this op.\n",
            "WARNING:tensorflow:Using a while_loop for converting ImageProjectiveTransformV3 cause there is no registered converter for this op.\n",
            "WARNING:tensorflow:Using a while_loop for converting RngReadAndSkip cause there is no registered converter for this op.\n",
            "WARNING:tensorflow:Using a while_loop for converting Bitcast cause there is no registered converter for this op.\n",
            "WARNING:tensorflow:Using a while_loop for converting Bitcast cause there is no registered converter for this op.\n",
            "WARNING:tensorflow:Using a while_loop for converting StatelessRandomUniformV2 cause there is no registered converter for this op.\n",
            "WARNING:tensorflow:Using a while_loop for converting ImageProjectiveTransformV3 cause there is no registered converter for this op.\n"
          ]
        },
        {
          "output_type": "stream",
          "name": "stdout",
          "text": [
            "54/54 [==============================] - 68s 1s/step - loss: 1.0060 - accuracy: 0.6389 - val_loss: 1.8565 - val_accuracy: 0.4774\n",
            "Epoch 2/30\n",
            "54/54 [==============================] - 60s 1s/step - loss: 0.9488 - accuracy: 0.6537 - val_loss: 1.8836 - val_accuracy: 0.4950\n",
            "Epoch 3/30\n",
            "54/54 [==============================] - 61s 1s/step - loss: 0.9125 - accuracy: 0.6689 - val_loss: 1.9303 - val_accuracy: 0.4885\n",
            "Epoch 4/30\n",
            "54/54 [==============================] - 60s 1s/step - loss: 0.8874 - accuracy: 0.6756 - val_loss: 1.8751 - val_accuracy: 0.4997\n",
            "Epoch 5/30\n",
            "54/54 [==============================] - 62s 1s/step - loss: 0.8854 - accuracy: 0.6817 - val_loss: 1.8978 - val_accuracy: 0.5003\n",
            "Epoch 6/30\n",
            "54/54 [==============================] - 60s 1s/step - loss: 0.8381 - accuracy: 0.6933 - val_loss: 1.9073 - val_accuracy: 0.5044\n",
            "Epoch 7/30\n",
            "54/54 [==============================] - 61s 1s/step - loss: 0.8360 - accuracy: 0.6952 - val_loss: 1.9367 - val_accuracy: 0.5003\n",
            "Epoch 8/30\n",
            "54/54 [==============================] - 60s 1s/step - loss: 0.8126 - accuracy: 0.7075 - val_loss: 1.9689 - val_accuracy: 0.5032\n",
            "Epoch 9/30\n",
            "54/54 [==============================] - 63s 1s/step - loss: 0.7937 - accuracy: 0.7089 - val_loss: 2.0134 - val_accuracy: 0.4985\n",
            "Epoch 10/30\n",
            "54/54 [==============================] - 60s 1s/step - loss: 0.7802 - accuracy: 0.7177 - val_loss: 1.9876 - val_accuracy: 0.5056\n",
            "Epoch 11/30\n",
            "54/54 [==============================] - 61s 1s/step - loss: 0.7631 - accuracy: 0.7268 - val_loss: 1.9618 - val_accuracy: 0.5085\n",
            "Epoch 12/30\n",
            "54/54 [==============================] - 60s 1s/step - loss: 0.7467 - accuracy: 0.7275 - val_loss: 1.9790 - val_accuracy: 0.5097\n",
            "Epoch 13/30\n",
            "54/54 [==============================] - 63s 1s/step - loss: 0.7283 - accuracy: 0.7342 - val_loss: 1.9258 - val_accuracy: 0.5138\n",
            "Epoch 14/30\n",
            "54/54 [==============================] - 60s 1s/step - loss: 0.7142 - accuracy: 0.7354 - val_loss: 2.0411 - val_accuracy: 0.5191\n",
            "Epoch 15/30\n",
            "54/54 [==============================] - 61s 1s/step - loss: 0.7050 - accuracy: 0.7408 - val_loss: 1.9987 - val_accuracy: 0.5209\n",
            "Epoch 16/30\n",
            "54/54 [==============================] - 59s 1s/step - loss: 0.6984 - accuracy: 0.7434 - val_loss: 1.9860 - val_accuracy: 0.5162\n",
            "Epoch 17/30\n",
            "54/54 [==============================] - 63s 1s/step - loss: 0.6789 - accuracy: 0.7529 - val_loss: 2.0341 - val_accuracy: 0.5256\n",
            "Epoch 18/30\n",
            "54/54 [==============================] - 60s 1s/step - loss: 0.6777 - accuracy: 0.7560 - val_loss: 1.9844 - val_accuracy: 0.5197\n",
            "Epoch 19/30\n",
            "54/54 [==============================] - 60s 1s/step - loss: 0.6639 - accuracy: 0.7550 - val_loss: 2.0369 - val_accuracy: 0.5220\n",
            "Epoch 20/30\n",
            "54/54 [==============================] - 60s 1s/step - loss: 0.6348 - accuracy: 0.7680 - val_loss: 2.1226 - val_accuracy: 0.5121\n",
            "Epoch 21/30\n",
            "54/54 [==============================] - 62s 1s/step - loss: 0.6264 - accuracy: 0.7677 - val_loss: 2.0785 - val_accuracy: 0.5138\n",
            "Epoch 22/30\n",
            "54/54 [==============================] - 59s 1s/step - loss: 0.6185 - accuracy: 0.7681 - val_loss: 2.1244 - val_accuracy: 0.5220\n",
            "Epoch 23/30\n",
            "54/54 [==============================] - 60s 1s/step - loss: 0.5947 - accuracy: 0.7892 - val_loss: 2.0672 - val_accuracy: 0.5185\n",
            "Epoch 24/30\n",
            "54/54 [==============================] - 59s 1s/step - loss: 0.5976 - accuracy: 0.7789 - val_loss: 2.1189 - val_accuracy: 0.5179\n",
            "Epoch 25/30\n",
            "54/54 [==============================] - 62s 1s/step - loss: 0.5819 - accuracy: 0.7880 - val_loss: 2.1302 - val_accuracy: 0.5250\n",
            "Epoch 26/30\n",
            "54/54 [==============================] - 60s 1s/step - loss: 0.5585 - accuracy: 0.7940 - val_loss: 2.1901 - val_accuracy: 0.5238\n",
            "Epoch 27/30\n",
            "54/54 [==============================] - 61s 1s/step - loss: 0.5579 - accuracy: 0.7946 - val_loss: 2.1990 - val_accuracy: 0.5209\n",
            "Epoch 28/30\n",
            "54/54 [==============================] - 59s 1s/step - loss: 0.5600 - accuracy: 0.7943 - val_loss: 2.1755 - val_accuracy: 0.5367\n",
            "Epoch 29/30\n",
            "54/54 [==============================] - 63s 1s/step - loss: 0.5319 - accuracy: 0.8026 - val_loss: 2.2172 - val_accuracy: 0.5244\n",
            "Epoch 30/30\n",
            "54/54 [==============================] - 60s 1s/step - loss: 0.5319 - accuracy: 0.8094 - val_loss: 2.2626 - val_accuracy: 0.5156\n"
          ]
        }
      ]
    },
    {
      "cell_type": "code",
      "source": [
        "import matplotlib.pyplot as plt\n",
        "plt.plot(history.history[\"accuracy\"], \"b\")\n",
        "plt.plot(history.history[\"val_accuracy\"], \"bo\")\n",
        " "
      ],
      "metadata": {
        "colab": {
          "base_uri": "https://localhost:8080/",
          "height": 282
        },
        "id": "a0MXMJ83GFXF",
        "outputId": "6345a89d-eaa2-48ea-fc33-ecaeb4da0ee6"
      },
      "execution_count": null,
      "outputs": [
        {
          "output_type": "execute_result",
          "data": {
            "text/plain": [
              "[<matplotlib.lines.Line2D at 0x7f2bec0b00a0>]"
            ]
          },
          "metadata": {},
          "execution_count": 32
        },
        {
          "output_type": "display_data",
          "data": {
            "text/plain": [
              "<Figure size 432x288 with 1 Axes>"
            ],
            "image/png": "[encoded data removed]"
          },
          "metadata": {
            "needs_background": "light"
          }
        }
      ]
    },
    {
      "cell_type": "code",
      "source": [
        "# Save model\n",
        "from keras.models import model_from_json\n",
        "from pathlib import Path\n",
        "\n",
        "model_structure = model.to_json()\n",
        "f = Path(\"drive/MyDrive/DeepLearning_Dataset/model_1_pretrained_structure.json\")\n",
        "f.write_text(model_structure)\n",
        "\n",
        "model.save_weights(\"drive/MyDrive/DeepLearning_Dataset/model_1_pretrained_weights.h5\")"
      ],
      "metadata": {
        "id": "H3tBAIaOGMbk"
      },
      "execution_count": null,
      "outputs": []
    },
    {
      "cell_type": "markdown",
      "source": [
        "# Model 2"
      ],
      "metadata": {
        "id": "LTsOTqsXHqLp"
      }
    },
    {
      "cell_type": "code",
      "source": [
        "base_model = VGG16(weights=\"imagenet\",include_top=False,input_shape=(64,64,3))\n",
        "\n",
        "# Data augmentation\n",
        "x = data_augmentation(inputs)\n",
        "x = base_model(x, training=False)\n",
        "x = keras.layers.MaxPooling2D(pool_size=2)(x)\n",
        "x = keras.layers.Flatten()(x)\n",
        "x = Dense(128, activation='relu')(x)\n",
        "x = keras.layers.Dropout(0.5)(x)\n",
        "predictions = Dense(9, activation='sigmoid')(x)\n",
        "\n",
        "# this is the model we will train\n",
        "model = Model(inputs=inputs, outputs=predictions)\n",
        "\n",
        "# first: train only the top layers\n",
        "# i.e. freeze all convolutional VGG16 layers\n",
        "base_model.trainable = False\n",
        "\n",
        "model.compile(optimizer='rmsprop', loss='SparseCategoricalCrossentropy', metrics=['accuracy'])\n",
        "\n",
        "# train the model on the new data for a few epochs\n",
        "history = model.fit(tensor_x_train, tensor_y_train, verbose=True, batch_size=128, epochs=20, validation_data=(tensor_x_test, tensor_y_test))"
      ],
      "metadata": {
        "colab": {
          "base_uri": "https://localhost:8080/"
        },
        "id": "wTyTD65MIBrH",
        "outputId": "02a7a4cf-a6e4-4548-b42e-6cf2dfd5f818"
      },
      "execution_count": null,
      "outputs": [
        {
          "output_type": "stream",
          "name": "stderr",
          "text": [
            "WARNING:tensorflow:Using a while_loop for converting RngReadAndSkip cause there is no registered converter for this op.\n",
            "WARNING:tensorflow:Using a while_loop for converting Bitcast cause there is no registered converter for this op.\n",
            "WARNING:tensorflow:Using a while_loop for converting Bitcast cause there is no registered converter for this op.\n",
            "WARNING:tensorflow:Using a while_loop for converting StatelessRandomUniformV2 cause there is no registered converter for this op.\n",
            "WARNING:tensorflow:Using a while_loop for converting ImageProjectiveTransformV3 cause there is no registered converter for this op.\n",
            "WARNING:tensorflow:Using a while_loop for converting RngReadAndSkip cause there is no registered converter for this op.\n",
            "WARNING:tensorflow:Using a while_loop for converting Bitcast cause there is no registered converter for this op.\n",
            "WARNING:tensorflow:Using a while_loop for converting Bitcast cause there is no registered converter for this op.\n",
            "WARNING:tensorflow:Using a while_loop for converting StatelessRandomUniformV2 cause there is no registered converter for this op.\n",
            "WARNING:tensorflow:Using a while_loop for converting ImageProjectiveTransformV3 cause there is no registered converter for this op.\n"
          ]
        },
        {
          "output_type": "stream",
          "name": "stdout",
          "text": [
            "Epoch 1/20\n"
          ]
        },
        {
          "output_type": "stream",
          "name": "stderr",
          "text": [
            "WARNING:tensorflow:Using a while_loop for converting RngReadAndSkip cause there is no registered converter for this op.\n",
            "WARNING:tensorflow:Using a while_loop for converting Bitcast cause there is no registered converter for this op.\n",
            "WARNING:tensorflow:Using a while_loop for converting Bitcast cause there is no registered converter for this op.\n",
            "WARNING:tensorflow:Using a while_loop for converting StatelessRandomUniformV2 cause there is no registered converter for this op.\n",
            "WARNING:tensorflow:Using a while_loop for converting ImageProjectiveTransformV3 cause there is no registered converter for this op.\n",
            "WARNING:tensorflow:Using a while_loop for converting RngReadAndSkip cause there is no registered converter for this op.\n",
            "WARNING:tensorflow:Using a while_loop for converting Bitcast cause there is no registered converter for this op.\n",
            "WARNING:tensorflow:Using a while_loop for converting Bitcast cause there is no registered converter for this op.\n",
            "WARNING:tensorflow:Using a while_loop for converting StatelessRandomUniformV2 cause there is no registered converter for this op.\n",
            "WARNING:tensorflow:Using a while_loop for converting ImageProjectiveTransformV3 cause there is no registered converter for this op.\n",
            "WARNING:tensorflow:Using a while_loop for converting RngReadAndSkip cause there is no registered converter for this op.\n",
            "WARNING:tensorflow:Using a while_loop for converting Bitcast cause there is no registered converter for this op.\n",
            "WARNING:tensorflow:Using a while_loop for converting Bitcast cause there is no registered converter for this op.\n",
            "WARNING:tensorflow:Using a while_loop for converting StatelessRandomUniformV2 cause there is no registered converter for this op.\n",
            "WARNING:tensorflow:Using a while_loop for converting ImageProjectiveTransformV3 cause there is no registered converter for this op.\n",
            "WARNING:tensorflow:Using a while_loop for converting RngReadAndSkip cause there is no registered converter for this op.\n",
            "WARNING:tensorflow:Using a while_loop for converting Bitcast cause there is no registered converter for this op.\n",
            "WARNING:tensorflow:Using a while_loop for converting Bitcast cause there is no registered converter for this op.\n",
            "WARNING:tensorflow:Using a while_loop for converting StatelessRandomUniformV2 cause there is no registered converter for this op.\n",
            "WARNING:tensorflow:Using a while_loop for converting ImageProjectiveTransformV3 cause there is no registered converter for this op.\n"
          ]
        },
        {
          "output_type": "stream",
          "name": "stdout",
          "text": [
            "54/54 [==============================] - 122s 1s/step - loss: 10.6846 - accuracy: 0.1630 - val_loss: 2.9313 - val_accuracy: 0.1928\n",
            "Epoch 2/20\n",
            "54/54 [==============================] - 59s 1s/step - loss: 2.4271 - accuracy: 0.1594 - val_loss: 2.2872 - val_accuracy: 0.2011\n",
            "Epoch 3/20\n",
            "54/54 [==============================] - 59s 1s/step - loss: 2.2128 - accuracy: 0.1746 - val_loss: 2.1541 - val_accuracy: 0.2346\n",
            "Epoch 4/20\n",
            "54/54 [==============================] - 65s 1s/step - loss: 2.1515 - accuracy: 0.2041 - val_loss: 2.0739 - val_accuracy: 0.2928\n",
            "Epoch 5/20\n",
            "54/54 [==============================] - 61s 1s/step - loss: 2.0860 - accuracy: 0.2387 - val_loss: 1.9928 - val_accuracy: 0.3345\n",
            "Epoch 6/20\n",
            "54/54 [==============================] - 59s 1s/step - loss: 2.0489 - accuracy: 0.2423 - val_loss: 1.9577 - val_accuracy: 0.3557\n",
            "Epoch 7/20\n",
            "54/54 [==============================] - 61s 1s/step - loss: 2.0194 - accuracy: 0.2526 - val_loss: 1.8983 - val_accuracy: 0.3480\n",
            "Epoch 8/20\n",
            "54/54 [==============================] - 59s 1s/step - loss: 2.0125 - accuracy: 0.2624 - val_loss: 1.8907 - val_accuracy: 0.3563\n",
            "Epoch 9/20\n",
            "54/54 [==============================] - 62s 1s/step - loss: 1.9658 - accuracy: 0.2738 - val_loss: 1.9332 - val_accuracy: 0.3586\n",
            "Epoch 10/20\n",
            "54/54 [==============================] - 59s 1s/step - loss: 1.9301 - accuracy: 0.2817 - val_loss: 1.8296 - val_accuracy: 0.3792\n",
            "Epoch 11/20\n",
            "54/54 [==============================] - 60s 1s/step - loss: 1.9154 - accuracy: 0.2886 - val_loss: 1.8249 - val_accuracy: 0.3786\n",
            "Epoch 12/20\n",
            "54/54 [==============================] - 59s 1s/step - loss: 1.9121 - accuracy: 0.2985 - val_loss: 1.8221 - val_accuracy: 0.3780\n",
            "Epoch 13/20\n",
            "54/54 [==============================] - 59s 1s/step - loss: 1.8787 - accuracy: 0.3029 - val_loss: 1.8157 - val_accuracy: 0.3798\n",
            "Epoch 14/20\n",
            "54/54 [==============================] - 61s 1s/step - loss: 1.8767 - accuracy: 0.3023 - val_loss: 1.8025 - val_accuracy: 0.3798\n",
            "Epoch 15/20\n",
            "54/54 [==============================] - 59s 1s/step - loss: 1.8808 - accuracy: 0.3082 - val_loss: 1.8512 - val_accuracy: 0.3862\n",
            "Epoch 16/20\n",
            "54/54 [==============================] - 60s 1s/step - loss: 1.8457 - accuracy: 0.3219 - val_loss: 1.8102 - val_accuracy: 0.4080\n",
            "Epoch 17/20\n",
            "54/54 [==============================] - 59s 1s/step - loss: 1.8318 - accuracy: 0.3215 - val_loss: 1.8117 - val_accuracy: 0.3956\n",
            "Epoch 18/20\n",
            "54/54 [==============================] - 59s 1s/step - loss: 1.8404 - accuracy: 0.3194 - val_loss: 1.8060 - val_accuracy: 0.4074\n",
            "Epoch 19/20\n",
            "54/54 [==============================] - 61s 1s/step - loss: 1.8215 - accuracy: 0.3232 - val_loss: 1.8011 - val_accuracy: 0.3933\n",
            "Epoch 20/20\n",
            "54/54 [==============================] - 59s 1s/step - loss: 1.7997 - accuracy: 0.3292 - val_loss: 1.7686 - val_accuracy: 0.3974\n"
          ]
        }
      ]
    },
    {
      "cell_type": "code",
      "source": [
        "import matplotlib.pyplot as plt\n",
        "plt.plot(history.history[\"accuracy\"], \"b\")\n",
        "plt.plot(history.history[\"val_accuracy\"], \"bo\")\n",
        "\n",
        "test_loss, test_accuracy = model.evaluate(x_test, y_test)\n",
        "print(\"Test accuracy: {}\".format(test_accuracy))\n",
        "print(\"Test loss: {}\".format(test_loss))"
      ],
      "metadata": {
        "colab": {
          "base_uri": "https://localhost:8080/",
          "height": 317
        },
        "id": "WjBZvoaeOjl_",
        "outputId": "7d75712c-a446-4910-9132-64d988133730"
      },
      "execution_count": null,
      "outputs": [
        {
          "output_type": "stream",
          "name": "stdout",
          "text": [
            "54/54 [==============================] - 2s 20ms/step - loss: 1.7686 - accuracy: 0.3974\n",
            "Test accuracy: 0.3974132835865021\n",
            "Test loss: 1.7686123847961426\n"
          ]
        },
        {
          "output_type": "display_data",
          "data": {
            "text/plain": [
              "<Figure size 432x288 with 1 Axes>"
            ],
            "image/png": "[encoded data removed]"
          },
          "metadata": {
            "needs_background": "light"
          }
        }
      ]
    },
    {
      "cell_type": "code",
      "source": [
        "base_model.trainable = True\n",
        "for layer in base_model.layers[:-4]:\n",
        " layer.trainable = False\n",
        "\n",
        "model.compile(loss=\"SparseCategoricalCrossentropy\",\n",
        "  optimizer=keras.optimizers.RMSprop(learning_rate=1e-5),\n",
        "  metrics=[\"accuracy\"])\n",
        "\n",
        "# # we train our model again (this time fine-tuning the top 2 inception blocks\n",
        "# # alongside the top Dense layers\n",
        "history = model.fit(tensor_x_train, tensor_y_train, verbose=True, batch_size=128, epochs=50, validation_data=(tensor_x_test, tensor_y_test))"
      ],
      "metadata": {
        "colab": {
          "base_uri": "https://localhost:8080/"
        },
        "id": "Ig-aiXAxO01I",
        "outputId": "005f787b-d1a2-43f8-b0b9-bd1e60da5eac"
      },
      "execution_count": null,
      "outputs": [
        {
          "output_type": "stream",
          "name": "stdout",
          "text": [
            "Epoch 1/50\n"
          ]
        },
        {
          "output_type": "stream",
          "name": "stderr",
          "text": [
            "WARNING:tensorflow:Using a while_loop for converting RngReadAndSkip cause there is no registered converter for this op.\n",
            "WARNING:tensorflow:Using a while_loop for converting Bitcast cause there is no registered converter for this op.\n",
            "WARNING:tensorflow:Using a while_loop for converting Bitcast cause there is no registered converter for this op.\n",
            "WARNING:tensorflow:Using a while_loop for converting StatelessRandomUniformV2 cause there is no registered converter for this op.\n",
            "WARNING:tensorflow:Using a while_loop for converting ImageProjectiveTransformV3 cause there is no registered converter for this op.\n",
            "WARNING:tensorflow:Using a while_loop for converting RngReadAndSkip cause there is no registered converter for this op.\n",
            "WARNING:tensorflow:Using a while_loop for converting Bitcast cause there is no registered converter for this op.\n",
            "WARNING:tensorflow:Using a while_loop for converting Bitcast cause there is no registered converter for this op.\n",
            "WARNING:tensorflow:Using a while_loop for converting StatelessRandomUniformV2 cause there is no registered converter for this op.\n",
            "WARNING:tensorflow:Using a while_loop for converting ImageProjectiveTransformV3 cause there is no registered converter for this op.\n",
            "WARNING:tensorflow:Using a while_loop for converting RngReadAndSkip cause there is no registered converter for this op.\n",
            "WARNING:tensorflow:Using a while_loop for converting Bitcast cause there is no registered converter for this op.\n",
            "WARNING:tensorflow:Using a while_loop for converting Bitcast cause there is no registered converter for this op.\n",
            "WARNING:tensorflow:Using a while_loop for converting StatelessRandomUniformV2 cause there is no registered converter for this op.\n",
            "WARNING:tensorflow:Using a while_loop for converting ImageProjectiveTransformV3 cause there is no registered converter for this op.\n",
            "WARNING:tensorflow:Using a while_loop for converting RngReadAndSkip cause there is no registered converter for this op.\n",
            "WARNING:tensorflow:Using a while_loop for converting Bitcast cause there is no registered converter for this op.\n",
            "WARNING:tensorflow:Using a while_loop for converting Bitcast cause there is no registered converter for this op.\n",
            "WARNING:tensorflow:Using a while_loop for converting StatelessRandomUniformV2 cause there is no registered converter for this op.\n",
            "WARNING:tensorflow:Using a while_loop for converting ImageProjectiveTransformV3 cause there is no registered converter for this op.\n"
          ]
        },
        {
          "output_type": "stream",
          "name": "stdout",
          "text": [
            "54/54 [==============================] - 70s 1s/step - loss: 1.7662 - accuracy: 0.3425 - val_loss: 1.7246 - val_accuracy: 0.4015\n",
            "Epoch 2/50\n",
            "54/54 [==============================] - 61s 1s/step - loss: 1.7527 - accuracy: 0.3477 - val_loss: 1.7261 - val_accuracy: 0.4145\n",
            "Epoch 3/50\n",
            "54/54 [==============================] - 59s 1s/step - loss: 1.7391 - accuracy: 0.3500 - val_loss: 1.6883 - val_accuracy: 0.4092\n",
            "Epoch 4/50\n",
            "54/54 [==============================] - 61s 1s/step - loss: 1.7143 - accuracy: 0.3583 - val_loss: 1.7124 - val_accuracy: 0.4309\n",
            "Epoch 5/50\n",
            "54/54 [==============================] - 59s 1s/step - loss: 1.6997 - accuracy: 0.3613 - val_loss: 1.7112 - val_accuracy: 0.4345\n",
            "Epoch 6/50\n",
            "54/54 [==============================] - 61s 1s/step - loss: 1.6961 - accuracy: 0.3681 - val_loss: 1.7033 - val_accuracy: 0.4392\n",
            "Epoch 7/50\n",
            "54/54 [==============================] - 61s 1s/step - loss: 1.6731 - accuracy: 0.3668 - val_loss: 1.7082 - val_accuracy: 0.4274\n",
            "Epoch 8/50\n",
            "54/54 [==============================] - 61s 1s/step - loss: 1.6617 - accuracy: 0.3751 - val_loss: 1.6763 - val_accuracy: 0.4403\n",
            "Epoch 9/50\n",
            "54/54 [==============================] - 59s 1s/step - loss: 1.6550 - accuracy: 0.3700 - val_loss: 1.6417 - val_accuracy: 0.4497\n",
            "Epoch 10/50\n",
            "54/54 [==============================] - 61s 1s/step - loss: 1.6369 - accuracy: 0.3747 - val_loss: 1.6605 - val_accuracy: 0.4403\n",
            "Epoch 11/50\n",
            "54/54 [==============================] - 59s 1s/step - loss: 1.6468 - accuracy: 0.3797 - val_loss: 1.6554 - val_accuracy: 0.4527\n",
            "Epoch 12/50\n",
            "54/54 [==============================] - 61s 1s/step - loss: 1.6320 - accuracy: 0.3768 - val_loss: 1.7003 - val_accuracy: 0.4533\n",
            "Epoch 13/50\n",
            "54/54 [==============================] - 61s 1s/step - loss: 1.6077 - accuracy: 0.3889 - val_loss: 1.6602 - val_accuracy: 0.4586\n",
            "Epoch 14/50\n",
            "54/54 [==============================] - 61s 1s/step - loss: 1.5921 - accuracy: 0.3902 - val_loss: 1.6529 - val_accuracy: 0.4621\n",
            "Epoch 15/50\n",
            "54/54 [==============================] - 59s 1s/step - loss: 1.5916 - accuracy: 0.3873 - val_loss: 1.6951 - val_accuracy: 0.4603\n",
            "Epoch 16/50\n",
            "54/54 [==============================] - 61s 1s/step - loss: 1.5890 - accuracy: 0.3987 - val_loss: 1.6841 - val_accuracy: 0.4574\n",
            "Epoch 17/50\n",
            "54/54 [==============================] - 59s 1s/step - loss: 1.5622 - accuracy: 0.4094 - val_loss: 1.6645 - val_accuracy: 0.4603\n",
            "Epoch 18/50\n",
            "54/54 [==============================] - 61s 1s/step - loss: 1.5544 - accuracy: 0.4042 - val_loss: 1.6762 - val_accuracy: 0.4562\n",
            "Epoch 19/50\n",
            "54/54 [==============================] - 59s 1s/step - loss: 1.5406 - accuracy: 0.4083 - val_loss: 1.6896 - val_accuracy: 0.4650\n",
            "Epoch 20/50\n",
            "54/54 [==============================] - 62s 1s/step - loss: 1.5296 - accuracy: 0.4057 - val_loss: 1.6729 - val_accuracy: 0.4691\n",
            "Epoch 21/50\n",
            "54/54 [==============================] - 59s 1s/step - loss: 1.5298 - accuracy: 0.4145 - val_loss: 1.6913 - val_accuracy: 0.4709\n",
            "Epoch 22/50\n",
            "54/54 [==============================] - 61s 1s/step - loss: 1.5336 - accuracy: 0.4091 - val_loss: 1.6842 - val_accuracy: 0.4838\n",
            "Epoch 23/50\n",
            "54/54 [==============================] - 59s 1s/step - loss: 1.5053 - accuracy: 0.4161 - val_loss: 1.6958 - val_accuracy: 0.4709\n",
            "Epoch 24/50\n",
            "54/54 [==============================] - 61s 1s/step - loss: 1.5014 - accuracy: 0.4155 - val_loss: 1.6591 - val_accuracy: 0.4797\n",
            "Epoch 25/50\n",
            "54/54 [==============================] - 59s 1s/step - loss: 1.4878 - accuracy: 0.4238 - val_loss: 1.6842 - val_accuracy: 0.4832\n",
            "Epoch 26/50\n",
            "54/54 [==============================] - 62s 1s/step - loss: 1.4824 - accuracy: 0.4249 - val_loss: 1.6752 - val_accuracy: 0.4832\n",
            "Epoch 27/50\n",
            "54/54 [==============================] - 59s 1s/step - loss: 1.4758 - accuracy: 0.4268 - val_loss: 1.6501 - val_accuracy: 0.4856\n",
            "Epoch 28/50\n",
            "54/54 [==============================] - 61s 1s/step - loss: 1.4861 - accuracy: 0.4211 - val_loss: 1.7044 - val_accuracy: 0.4932\n",
            "Epoch 29/50\n",
            "54/54 [==============================] - 59s 1s/step - loss: 1.4639 - accuracy: 0.4436 - val_loss: 1.6840 - val_accuracy: 0.4979\n",
            "Epoch 30/50\n",
            "54/54 [==============================] - 61s 1s/step - loss: 1.4554 - accuracy: 0.4373 - val_loss: 1.7109 - val_accuracy: 0.4968\n",
            "Epoch 31/50\n",
            "54/54 [==============================] - 59s 1s/step - loss: 1.4403 - accuracy: 0.4437 - val_loss: 1.6767 - val_accuracy: 0.4985\n",
            "Epoch 32/50\n",
            "54/54 [==============================] - 61s 1s/step - loss: 1.4263 - accuracy: 0.4405 - val_loss: 1.7506 - val_accuracy: 0.4956\n",
            "Epoch 33/50\n",
            "54/54 [==============================] - 61s 1s/step - loss: 1.4283 - accuracy: 0.4491 - val_loss: 1.6952 - val_accuracy: 0.4915\n",
            "Epoch 34/50\n",
            "54/54 [==============================] - 61s 1s/step - loss: 1.4301 - accuracy: 0.4443 - val_loss: 1.6895 - val_accuracy: 0.4950\n",
            "Epoch 35/50\n",
            "54/54 [==============================] - 59s 1s/step - loss: 1.4012 - accuracy: 0.4532 - val_loss: 1.6823 - val_accuracy: 0.5021\n",
            "Epoch 36/50\n",
            "54/54 [==============================] - 61s 1s/step - loss: 1.4178 - accuracy: 0.4428 - val_loss: 1.7214 - val_accuracy: 0.4944\n",
            "Epoch 37/50\n",
            "54/54 [==============================] - 59s 1s/step - loss: 1.4158 - accuracy: 0.4507 - val_loss: 1.6794 - val_accuracy: 0.5009\n",
            "Epoch 38/50\n",
            "54/54 [==============================] - 60s 1s/step - loss: 1.3978 - accuracy: 0.4613 - val_loss: 1.7065 - val_accuracy: 0.5026\n",
            "Epoch 39/50\n",
            "54/54 [==============================] - 60s 1s/step - loss: 1.3885 - accuracy: 0.4621 - val_loss: 1.7783 - val_accuracy: 0.4979\n",
            "Epoch 40/50\n",
            "54/54 [==============================] - 60s 1s/step - loss: 1.4060 - accuracy: 0.4610 - val_loss: 1.7333 - val_accuracy: 0.4979\n",
            "Epoch 41/50\n",
            "54/54 [==============================] - 59s 1s/step - loss: 1.3756 - accuracy: 0.4632 - val_loss: 1.7360 - val_accuracy: 0.5097\n",
            "Epoch 42/50\n",
            "54/54 [==============================] - 59s 1s/step - loss: 1.3755 - accuracy: 0.4614 - val_loss: 1.7517 - val_accuracy: 0.5091\n",
            "Epoch 43/50\n",
            "54/54 [==============================] - 60s 1s/step - loss: 1.3699 - accuracy: 0.4640 - val_loss: 1.7346 - val_accuracy: 0.5050\n",
            "Epoch 44/50\n",
            "54/54 [==============================] - 59s 1s/step - loss: 1.3720 - accuracy: 0.4599 - val_loss: 1.6827 - val_accuracy: 0.5097\n",
            "Epoch 45/50\n",
            "54/54 [==============================] - 60s 1s/step - loss: 1.3558 - accuracy: 0.4741 - val_loss: 1.7278 - val_accuracy: 0.5062\n",
            "Epoch 46/50\n",
            "54/54 [==============================] - 60s 1s/step - loss: 1.3426 - accuracy: 0.4731 - val_loss: 1.7818 - val_accuracy: 0.5085\n",
            "Epoch 47/50\n",
            "54/54 [==============================] - 60s 1s/step - loss: 1.3320 - accuracy: 0.4798 - val_loss: 1.8158 - val_accuracy: 0.4956\n",
            "Epoch 48/50\n",
            "54/54 [==============================] - 59s 1s/step - loss: 1.3337 - accuracy: 0.4762 - val_loss: 1.7393 - val_accuracy: 0.5238\n",
            "Epoch 49/50\n",
            "54/54 [==============================] - 60s 1s/step - loss: 1.3191 - accuracy: 0.4778 - val_loss: 1.8686 - val_accuracy: 0.5079\n",
            "Epoch 50/50\n",
            "54/54 [==============================] - 59s 1s/step - loss: 1.3199 - accuracy: 0.4813 - val_loss: 1.7617 - val_accuracy: 0.5179\n"
          ]
        }
      ]
    },
    {
      "cell_type": "code",
      "source": [
        "import matplotlib.pyplot as plt\n",
        "plt.plot(history.history[\"accuracy\"], \"b\")\n",
        "plt.plot(history.history[\"val_accuracy\"], \"bo\")\n",
        "\n",
        "test_loss, test_accuracy = model.evaluate(x_test, y_test)\n",
        "print(\"Test accuracy: {}\".format(test_accuracy))\n",
        "print(\"Test loss: {}\".format(test_loss))"
      ],
      "metadata": {
        "colab": {
          "base_uri": "https://localhost:8080/",
          "height": 317
        },
        "id": "3L-cAaw2bWbb",
        "outputId": "4f14f82e-debf-4ea2-ecc6-c54e52172a84"
      },
      "execution_count": null,
      "outputs": [
        {
          "output_type": "stream",
          "name": "stdout",
          "text": [
            "54/54 [==============================] - 1s 17ms/step - loss: 1.7617 - accuracy: 0.5179\n",
            "Test accuracy: 0.5179306268692017\n",
            "Test loss: 1.7617288827896118\n"
          ]
        },
        {
          "output_type": "display_data",
          "data": {
            "text/plain": [
              "<Figure size 432x288 with 1 Axes>"
            ],
            "image/png": "[encoded data removed]"
          },
          "metadata": {
            "needs_background": "light"
          }
        }
      ]
    },
    {
      "cell_type": "code",
      "source": [
        "plt.plot(history.history[\"loss\"], \"b\")"
      ],
      "metadata": {
        "id": "18ZeJDQbbr1E",
        "outputId": "2b71bd94-a8ca-40ef-f0b6-cc54f19443ba",
        "colab": {
          "base_uri": "https://localhost:8080/",
          "height": 282
        }
      },
      "execution_count": null,
      "outputs": [
        {
          "output_type": "execute_result",
          "data": {
            "text/plain": [
              "[<matplotlib.lines.Line2D at 0x7f2cb667dfd0>]"
            ]
          },
          "metadata": {},
          "execution_count": 46
        },
        {
          "output_type": "display_data",
          "data": {
            "text/plain": [
              "<Figure size 432x288 with 1 Axes>"
            ],
            "image/png": "[encoded data removed]"
          },
          "metadata": {
            "needs_background": "light"
          }
        }
      ]
    },
    {
      "cell_type": "code",
      "source": [
        "# Save model\n",
        "from keras.models import model_from_json\n",
        "from pathlib import Path\n",
        "\n",
        "model_structure = model.to_json()\n",
        "f = Path(\"drive/MyDrive/DeepLearning_Dataset/model_2_pretrained_structure.json\")\n",
        "f.write_text(model_structure)\n",
        "\n",
        "model.save_weights(\"drive/MyDrive/DeepLearning_Dataset/model_2_pretrained_weights.h5\")"
      ],
      "metadata": {
        "id": "Uatn016cba53"
      },
      "execution_count": null,
      "outputs": []
    },
    {
      "cell_type": "markdown",
      "source": [
        "# Tests"
      ],
      "metadata": {
        "id": "ihj2NA7Vb7BG"
      }
    },
    {
      "cell_type": "code",
      "source": [
        "# Import trained model\n",
        "from google.colab import drive\n",
        "from pathlib import Path\n",
        "from keras.models import model_from_json\n",
        "\n",
        "drive.mount('/content/drive')\n",
        "# Load the json file that contains the model's structure\n",
        "f = Path(\"/content/drive/MyDrive/DeepLearning_Dataset/model_2_pretrained_structure.json\")\n",
        "model_structure = f.read_text()\n",
        "# Recreate the Keras model object from the json data\n",
        "model = model_from_json(model_structure)\n",
        "# Re-load the model's trained weights\n",
        "model.load_weights(\"/content/drive/MyDrive/DeepLearning_Dataset/model_2_pretrained_weights.h5\")"
      ],
      "metadata": {
        "id": "DJFO8b3qCV36",
        "outputId": "1042ec59-08c3-45c8-dd10-edf3cf0b1095",
        "colab": {
          "base_uri": "https://localhost:8080/"
        }
      },
      "execution_count": 31,
      "outputs": [
        {
          "output_type": "stream",
          "name": "stderr",
          "text": [
            "WARNING:tensorflow:Using a while_loop for converting RngReadAndSkip cause there is no registered converter for this op.\n",
            "WARNING:tensorflow:Using a while_loop for converting Bitcast cause there is no registered converter for this op.\n"
          ]
        },
        {
          "output_type": "stream",
          "name": "stdout",
          "text": [
            "Drive already mounted at /content/drive; to attempt to forcibly remount, call drive.mount(\"/content/drive\", force_remount=True).\n"
          ]
        },
        {
          "output_type": "stream",
          "name": "stderr",
          "text": [
            "WARNING:tensorflow:Using a while_loop for converting Bitcast cause there is no registered converter for this op.\n",
            "WARNING:tensorflow:Using a while_loop for converting StatelessRandomUniformV2 cause there is no registered converter for this op.\n",
            "WARNING:tensorflow:Using a while_loop for converting ImageProjectiveTransformV3 cause there is no registered converter for this op.\n",
            "WARNING:tensorflow:Using a while_loop for converting RngReadAndSkip cause there is no registered converter for this op.\n",
            "WARNING:tensorflow:Using a while_loop for converting Bitcast cause there is no registered converter for this op.\n",
            "WARNING:tensorflow:Using a while_loop for converting Bitcast cause there is no registered converter for this op.\n",
            "WARNING:tensorflow:Using a while_loop for converting StatelessRandomUniformV2 cause there is no registered converter for this op.\n",
            "WARNING:tensorflow:Using a while_loop for converting ImageProjectiveTransformV3 cause there is no registered converter for this op.\n",
            "WARNING:tensorflow:Using a while_loop for converting RngReadAndSkip cause there is no registered converter for this op.\n",
            "WARNING:tensorflow:Using a while_loop for converting Bitcast cause there is no registered converter for this op.\n",
            "WARNING:tensorflow:Using a while_loop for converting Bitcast cause there is no registered converter for this op.\n",
            "WARNING:tensorflow:Using a while_loop for converting StatelessRandomUniformV2 cause there is no registered converter for this op.\n",
            "WARNING:tensorflow:Using a while_loop for converting ImageProjectiveTransformV3 cause there is no registered converter for this op.\n",
            "WARNING:tensorflow:Using a while_loop for converting RngReadAndSkip cause there is no registered converter for this op.\n",
            "WARNING:tensorflow:Using a while_loop for converting Bitcast cause there is no registered converter for this op.\n",
            "WARNING:tensorflow:Using a while_loop for converting Bitcast cause there is no registered converter for this op.\n",
            "WARNING:tensorflow:Using a while_loop for converting StatelessRandomUniformV2 cause there is no registered converter for this op.\n",
            "WARNING:tensorflow:Using a while_loop for converting ImageProjectiveTransformV3 cause there is no registered converter for this op.\n"
          ]
        }
      ]
    },
    {
      "cell_type": "code",
      "source": [
        "import keras\n",
        "import numpy as np\n",
        "import random as rd\n",
        "\n",
        "from matplotlib import pyplot as plt\n",
        "import cv2\n",
        "\n",
        "## PENSER à sauvegarder un modèle sympa pour le tester\n",
        "\n",
        "class_labels = [\n",
        "    \"BAROQUE\",\n",
        "    \"CUBISME\",\n",
        "    \"EXPRESIONNISME\",\n",
        "    \"IMPRESSIONISME\",\n",
        "    \"MANNIERISME\",\n",
        "    \"NEOCLASSICISME\",\n",
        "    \"DIVISIONISME\",\n",
        "    \"POPART\",\n",
        "    \"SURREALISME\"\n",
        "]\n",
        "\n",
        "value = rd.randint(0, len(x_test))\n",
        "plt.imshow(x_test[value], interpolation='nearest', aspect='auto')\n",
        "\n",
        "print(\"\\nL'image est du courant: \" + class_labels[y_test[value]])\n",
        "\n",
        "\n",
        "print(\"\\n----------- Analyse par le modèle -----------\\n\")\n",
        "image_to_test = keras.utils.img_to_array(x_test[value])\n",
        "# Add a fourth dimension to the image (since Keras expects a list of images, not a single image)\n",
        "list_of_images = np.expand_dims(image_to_test, axis=0)\n",
        "# Make a prediction using the model\n",
        "results = model.predict(list_of_images)\n",
        "# Since we are only testing one image, we only need to check the first result\n",
        "single_result = results[0]\n",
        "print(single_result)\n",
        "# We will get a likelihood score for all 10 possible classes. Find out which class had the highest score.\n",
        "top_3_classes = np.argsort(-single_result)[:3]\n",
        "print(top_3_classes)\n",
        "# Print the result\n",
        "print(\"Courant artistique Top 1 {} - Likelihood: {:2f}\".format(class_labels[top_3_classes[0]], single_result[top_3_classes[0]]))\n",
        "print(\"Courant artistique Top 2 {} - Likelihood: {:2f}\".format(class_labels[top_3_classes[1]], single_result[top_3_classes[1]]))\n",
        "print(\"Courant artistique Top 3 {} - Likelihood: {:2f}\".format(class_labels[top_3_classes[2]], single_result[top_3_classes[2]]))"
      ],
      "metadata": {
        "id": "uPnLI-_Rb8si",
        "outputId": "fb75191f-0073-4ff6-ca04-79ee80d9070f",
        "colab": {
          "base_uri": "https://localhost:8080/",
          "height": 476
        }
      },
      "execution_count": 50,
      "outputs": [
        {
          "output_type": "stream",
          "name": "stdout",
          "text": [
            "\n",
            "L'image est du courant: CUBISME\n",
            "\n",
            "----------- Analyse par le modèle -----------\n",
            "\n",
            "1/1 [==============================] - 0s 23ms/step\n",
            "[0.00424907 0.7790208  0.749874   0.00789946 0.07753505 0.24951647\n",
            " 0.07628418 0.9329768  0.90220845]\n",
            "[7 8 1]\n",
            "Courant artistique Top 1 POPART - Likelihood: 0.932977\n",
            "Courant artistique Top 2 SURREALISME - Likelihood: 0.902208\n",
            "Courant artistique Top 3 CUBISME - Likelihood: 0.779021\n"
          ]
        },
        {
          "output_type": "display_data",
          "data": {
            "text/plain": [
              "<Figure size 432x288 with 1 Axes>"
            ],
            "image/png": "[encoded data removed]"
          },
          "metadata": {
            "needs_background": "light"
          }
        }
      ]
    }
  ]
}